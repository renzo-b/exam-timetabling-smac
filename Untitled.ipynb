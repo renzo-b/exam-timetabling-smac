{
 "cells": [
  {
   "cell_type": "code",
   "execution_count": 1,
   "id": "70a4b881-0151-4534-9a90-f2d5e16d4686",
   "metadata": {},
   "outputs": [],
   "source": [
    "from src.instance import get_ET_instance"
   ]
  },
  {
   "cell_type": "code",
   "execution_count": 2,
   "id": "7fd75c35-38bd-4f86-b77f-b48edc1b5267",
   "metadata": {},
   "outputs": [],
   "source": [
    "import numpy as np"
   ]
  },
  {
   "cell_type": "code",
   "execution_count": 3,
   "id": "ff7b58fa-9067-44ce-9eee-b84e7bd32aa6",
   "metadata": {},
   "outputs": [
    {
     "name": "stderr",
     "output_type": "stream",
     "text": [
      "C:\\Users\\Renzo\\Github\\exam-timetabling-smac\\src\\instance.py:133: FutureWarning: In a future version of pandas all arguments of DataFrame.any and Series.any will be keyword-only.\n",
      "  semester[\"ACAD_ACT_CD\"][semester.eq(ID).any(1)].values)\n"
     ]
    },
    {
     "name": "stdout",
     "output_type": "stream",
     "text": [
      "generated a new IT instance\n",
      "Data from semester       : a_20189\n",
      "Number of exams          : 168\n",
      "Number of students       : 5260\n",
      "Number of rooms          : 69\n",
      "Number of datetime slots : 64\n",
      "Shape of enrollments     : (168, 5260)\n"
     ]
    }
   ],
   "source": [
    "instance = get_ET_instance(0)"
   ]
  },
  {
   "cell_type": "code",
   "execution_count": 11,
   "id": "6a178884-06c5-4f44-96d3-77613421ac15",
   "metadata": {},
   "outputs": [],
   "source": [
    "exam_set = instance.exam_set\n",
    "room_capacity_set = instance.room_capacity_set"
   ]
  },
  {
   "cell_type": "code",
   "execution_count": 5,
   "id": "a980dd19-c71d-45ab-982d-3c3f5d36c17f",
   "metadata": {},
   "outputs": [],
   "source": [
    "courses_enrollments_set = instance.courses_enrollments_set"
   ]
  },
  {
   "cell_type": "code",
   "execution_count": 6,
   "id": "152e2f8c-0599-4da4-baaf-00ec50e03b5a",
   "metadata": {},
   "outputs": [],
   "source": [
    "sumHe_s = np.sum(courses_enrollments_set, axis=1)"
   ]
  },
  {
   "cell_type": "code",
   "execution_count": 7,
   "id": "eb0bdab9-10b0-400c-a94b-3f677b07fd1f",
   "metadata": {},
   "outputs": [
    {
     "data": {
      "text/plain": [
       "array([ 44,  74,  36,  36,  35,  35,  50,  50,  50,  50, 231, 384, 192,\n",
       "       384, 192, 125,  50,  50,  50,  45,  45, 100, 100,  50,  45, 109,\n",
       "       309, 335, 108, 106, 120,  49,  72,  50,  94,  38,  38,  56,  56,\n",
       "        53,  53, 143,  37,  37,  79,  69, 235,  48,  36,  48,  32,  75,\n",
       "        60,  43,  43,  72, 110,  52,  52,  52, 120,  80,  82,  30,  40,\n",
       "        30,  48,  33,  80], dtype=int64)"
      ]
     },
     "execution_count": 7,
     "metadata": {},
     "output_type": "execute_result"
    }
   ],
   "source": [
    "room_capacity_set"
   ]
  },
  {
   "cell_type": "code",
   "execution_count": 9,
   "id": "ac4e6e81-c2bc-486b-aeff-12d17c5e6aee",
   "metadata": {},
   "outputs": [],
   "source": [
    "room_set = instance.room_set"
   ]
  },
  {
   "cell_type": "code",
   "execution_count": 13,
   "id": "a8ead868-02f9-468e-a3c0-ab8e41404b8e",
   "metadata": {},
   "outputs": [
    {
     "data": {
      "text/plain": [
       "(168, 168)"
      ]
     },
     "execution_count": 13,
     "metadata": {},
     "output_type": "execute_result"
    }
   ],
   "source": [
    "len(exam_set), len(sumHe_s)"
   ]
  },
  {
   "cell_type": "code",
   "execution_count": 14,
   "id": "0886fb8d-5113-44f5-8a3d-564b22715b4a",
   "metadata": {},
   "outputs": [],
   "source": [
    "E = instance.exam_set\n",
    "S = instance.student_set\n",
    "R = instance.room_set\n",
    "T = instance.datetime_slot_set\n",
    "Cp = instance.room_capacity_set\n",
    "He_s = instance.courses_enrollments_set\n",
    "ratio_of_Inv = instance.ratio_inv_students\n",
    "sumHe_s = np.sum(He_s, axis=1)"
   ]
  },
  {
   "cell_type": "code",
   "execution_count": 16,
   "id": "84cf4410-d91b-4dbb-946c-46315e44bd6c",
   "metadata": {},
   "outputs": [],
   "source": [
    "import os\n",
    "\n",
    "import numpy as np\n",
    "import pandas as pd\n",
    "from docplex.mp.model import Model\n",
    "from docplex.mp.progress import TextProgressListener\n",
    "from tqdm import tqdm"
   ]
  },
  {
   "cell_type": "code",
   "execution_count": 17,
   "id": "12ceb7a0-9c06-403e-a44c-dbfa69001a41",
   "metadata": {},
   "outputs": [],
   "source": [
    "opt_mod = Model(name='solver')"
   ]
  },
  {
   "cell_type": "code",
   "execution_count": 18,
   "id": "db2f1044-51f0-4eed-981f-b4b7e901d4cc",
   "metadata": {},
   "outputs": [],
   "source": [
    "x = opt_mod.binary_var_matrix(len(E), len(\n",
    "            T), name=\"X_e,t\")  # whether we use timeslot t for exam e\n",
    "y = opt_mod.binary_var_matrix(len(E), len(\n",
    "    R), name=\"Y_e,r\")  # whether we use room r for exam e\n",
    "x_etr = opt_mod.binary_var_cube(\n",
    "    len(E), len(T), len(R), name='xetr')"
   ]
  },
  {
   "cell_type": "code",
   "execution_count": null,
   "id": "343e7dbb-a782-4dcf-a4bd-caadae90b001",
   "metadata": {},
   "outputs": [
    {
     "name": "stderr",
     "output_type": "stream",
     "text": [
      "100%|████████████████████████████████████████████████████████████████████████████████| 168/168 [00:03<00:00, 54.99it/s]\n",
      "100%|████████████████████████████████████████████████████████████████████████████████| 168/168 [00:03<00:00, 52.13it/s]\n",
      "100%|██████████████████████████████████████████████████████████████████████████████████| 69/69 [00:10<00:00,  6.77it/s]\n",
      " 24%|██████████████████▉                                                           | 1280/5260 [01:03<03:37, 18.27it/s]"
     ]
    }
   ],
   "source": [
    "opt_mod.add_constraints(\n",
    "            (sum(x[e, t] for t in range(len(T))) == 1\n",
    "                for e in range(len(E))), names='c1')\n",
    "opt_mod.add_constraints(\n",
    "    (sum(y[e, r] for r in range(len(R))) >= 1\n",
    "        for e in range(len(E))), names='c2')\n",
    "opt_mod.add_constraints(\n",
    "    (sum(x_etr[e, t, r] for r in range(len(R))) == x[e, t]\n",
    "        for e in tqdm(range(len(E))) for t in range(len(T))))\n",
    "opt_mod.add_constraints(\n",
    "    (sum(x_etr[e, t, r] for t in range(len(T))) == y[e, r]\n",
    "        for e in tqdm(range(len(E))) for r in range(len(R))))\n",
    "opt_mod.add_constraints(\n",
    "    (sum(x_etr[e, t, r] * sumHe_s[e] for e in range(len(E))) <= Cp[r]\n",
    "        for r in tqdm(range(len(R))) for t in range(len(T))))\n",
    "# c6\n",
    "for s in tqdm(range(len(S))):\n",
    "    for t in range(len(T)):\n",
    "        cond = sum(x[e, t] * He_s[e, s] for e in range(len(E)))\n",
    "        if type(cond) != int:\n",
    "            opt_mod.add_constraint(cond <= 1)"
   ]
  },
  {
   "cell_type": "code",
   "execution_count": null,
   "id": "2dcc9a7d-ced3-4b7c-a5a7-86635d9e98de",
   "metadata": {},
   "outputs": [],
   "source": [
    "opt_mod"
   ]
  }
 ],
 "metadata": {
  "kernelspec": {
   "display_name": "Python 3 (ipykernel)",
   "language": "python",
   "name": "python3"
  },
  "language_info": {
   "codemirror_mode": {
    "name": "ipython",
    "version": 3
   },
   "file_extension": ".py",
   "mimetype": "text/x-python",
   "name": "python",
   "nbconvert_exporter": "python",
   "pygments_lexer": "ipython3",
   "version": "3.8.15"
  }
 },
 "nbformat": 4,
 "nbformat_minor": 5
}
