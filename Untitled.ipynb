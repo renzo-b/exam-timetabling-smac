{
 "cells": [
  {
   "cell_type": "code",
   "execution_count": 1,
   "id": "70a4b881-0151-4534-9a90-f2d5e16d4686",
   "metadata": {},
   "outputs": [],
   "source": [
    "from src.instance import get_ET_instance"
   ]
  },
  {
   "cell_type": "code",
   "execution_count": 2,
   "id": "7fd75c35-38bd-4f86-b77f-b48edc1b5267",
   "metadata": {},
   "outputs": [],
   "source": [
    "import numpy as np"
   ]
  },
  {
   "cell_type": "code",
   "execution_count": 3,
   "id": "ff7b58fa-9067-44ce-9eee-b84e7bd32aa6",
   "metadata": {},
   "outputs": [
    {
     "name": "stderr",
     "output_type": "stream",
     "text": [
      "C:\\Users\\Renzo\\Github\\exam-timetabling-smac\\src\\instance.py:133: FutureWarning: In a future version of pandas all arguments of DataFrame.any and Series.any will be keyword-only.\n",
      "  semester[\"ACAD_ACT_CD\"][semester.eq(ID).any(1)].values)\n"
     ]
    },
    {
     "name": "stdout",
     "output_type": "stream",
     "text": [
      "generated a new IT instance\n",
      "Data from semester       : a_20189\n",
      "Number of exams          : 168\n",
      "Number of students       : 5260\n",
      "Number of rooms          : 69\n",
      "Number of datetime slots : 64\n",
      "Shape of enrollments     : (168, 5260)\n"
     ]
    }
   ],
   "source": [
    "instance = get_ET_instance(0)"
   ]
  },
  {
   "cell_type": "code",
   "execution_count": 11,
   "id": "6a178884-06c5-4f44-96d3-77613421ac15",
   "metadata": {},
   "outputs": [],
   "source": [
    "exam_set = instance.exam_set\n",
    "room_capacity_set = instance.room_capacity_set"
   ]
  },
  {
   "cell_type": "code",
   "execution_count": 5,
   "id": "a980dd19-c71d-45ab-982d-3c3f5d36c17f",
   "metadata": {},
   "outputs": [],
   "source": [
    "courses_enrollments_set = instance.courses_enrollments_set"
   ]
  },
  {
   "cell_type": "code",
   "execution_count": 6,
   "id": "152e2f8c-0599-4da4-baaf-00ec50e03b5a",
   "metadata": {},
   "outputs": [],
   "source": [
    "sumHe_s = np.sum(courses_enrollments_set, axis=1)"
   ]
  },
  {
   "cell_type": "code",
   "execution_count": 7,
   "id": "eb0bdab9-10b0-400c-a94b-3f677b07fd1f",
   "metadata": {},
   "outputs": [
    {
     "data": {
      "text/plain": [
       "array([ 44,  74,  36,  36,  35,  35,  50,  50,  50,  50, 231, 384, 192,\n",
       "       384, 192, 125,  50,  50,  50,  45,  45, 100, 100,  50,  45, 109,\n",
       "       309, 335, 108, 106, 120,  49,  72,  50,  94,  38,  38,  56,  56,\n",
       "        53,  53, 143,  37,  37,  79,  69, 235,  48,  36,  48,  32,  75,\n",
       "        60,  43,  43,  72, 110,  52,  52,  52, 120,  80,  82,  30,  40,\n",
       "        30,  48,  33,  80], dtype=int64)"
      ]
     },
     "execution_count": 7,
     "metadata": {},
     "output_type": "execute_result"
    }
   ],
   "source": [
    "room_capacity_set"
   ]
  },
  {
   "cell_type": "code",
   "execution_count": 9,
   "id": "ac4e6e81-c2bc-486b-aeff-12d17c5e6aee",
   "metadata": {},
   "outputs": [],
   "source": [
    "room_set = instance.room_set"
   ]
  },
  {
   "cell_type": "code",
   "execution_count": 12,
   "id": "5f5330ba-8052-4c5c-a2d7-d76d116973da",
   "metadata": {},
   "outputs": [
    {
     "data": {
      "text/plain": [
       "array(['AER210H1F', 'AER301H1F', 'AER307H1F', 'AER407H1F', 'AER501H1F',\n",
       "       'AER506H1F', 'AER507H1F', 'AER525H1F', 'APM384H1F', 'APS062H1F',\n",
       "       'APS100H1F', 'APS110H1F', 'APS111H1F', 'APS113Y1Y', 'APS160H1F',\n",
       "       'APS163H1F', 'APS164H1F', 'APS234H1F', 'APS301H1F', 'APS320H1F',\n",
       "       'APS325H1F', 'APS343H1F', 'APS444H1F', 'APS445H1F', 'APS446H1F',\n",
       "       'APS490Y1Y', 'APS502H1F', 'APS510H1F', 'BME344H1F', 'BME428H1F',\n",
       "       'BME440H1F', 'BME455H1F', 'BME499Y1Y', 'BME595H1F', 'CHE112H1F',\n",
       "       'CHE204H1F', 'CHE208H1F', 'CHE211H1F', 'CHE221H1F', 'CHE260H1F',\n",
       "       'CHE304H1F', 'CHE308H1F', 'CHE323H1F', 'CHE332H1F', 'CHE341H1F',\n",
       "       'CHE353H1F', 'CHE374H1F', 'CHE430Y1F', 'CHE467H1F', 'CHE499Y1Y',\n",
       "       'CHE562H1F', 'CHE565H1F', 'CHE566H1F', 'CIV100H1F', 'CIV102H1F',\n",
       "       'CIV201H1F', 'CIV220H1F', 'CIV280H1F', 'CIV282H1F', 'CIV300H1F',\n",
       "       'CIV312H1F', 'CIV331H1F', 'CIV342H1F', 'CIV375H1F', 'CIV416H1F',\n",
       "       'CIV420H1F', 'CIV460H1F', 'CIV514H1F', 'CIV515H1F', 'CIV517H1F',\n",
       "       'CIV519H1F', 'CIV531H1F', 'CIV541H1F', 'CIV550H1F', 'CME210H1F',\n",
       "       'CME270H1F', 'CME321H1F', 'CME358H1F', 'CME368H1F', 'CME499Y1Y',\n",
       "       'CSC326H1F', 'CSC444H1F', 'CSC467H1F', 'ECE201H1F', 'ECE212H1F',\n",
       "       'ECE241H1F', 'ECE244H1F', 'ECE253H1F', 'ECE302H1F', 'ECE311H1F',\n",
       "       'ECE314H1F', 'ECE316H1F', 'ECE320H1F', 'ECE331H1F', 'ECE334H1F',\n",
       "       'ECE335H1F', 'ECE344H1F', 'ECE345H1F', 'ECE349H1F', 'ECE355H1F',\n",
       "       'ECE358H1F', 'ECE361H1F', 'ECE367H1F', 'ECE410H1F', 'ECE417H1F',\n",
       "       'ECE424H1F', 'ECE431H1F', 'ECE445H1F', 'ECE454H1F', 'ECE461H1F',\n",
       "       'ECE470H1F', 'ECE472H1F', 'ECE552H1F', 'ECE568H1F', 'ESC103H1F',\n",
       "       'ESC301H1Y', 'ESC471H1F', 'ESC499H1F', 'ESC499Y1Y', 'FOR308H1F',\n",
       "       'FOR421H1F', 'JRE300H1F', 'JRE410H1F', 'JRE420H1F', 'MAT186H1F',\n",
       "       'MAT188H1F', 'MAT231H1F', 'MAT290H1F', 'MAT294H1F', 'MIE230H1F',\n",
       "       'MIE231H1F', 'MIE236H1F', 'MIE242H1F', 'MIE243H1F', 'MIE250H1F',\n",
       "       'MIE258H1F', 'MIE270H1F', 'MIE312H1F', 'MIE324H1F', 'MIE343H1F',\n",
       "       'MIE344H1F', 'MIE354H1F', 'MIE360H1F', 'MIE365H1F', 'MIE375H1F',\n",
       "       'MIE404H1F', 'MIE414H1F', 'MIE422H1F', 'MIE440H1F', 'MIE442H1F',\n",
       "       'MIE451H1F', 'MIE463H1F', 'MIE491Y1Y', 'MIE498Y1Y', 'MIE515H1F',\n",
       "       'MIE523H1F', 'MIN400H1F', 'MIN511H1F', 'MSE219H1F', 'MSE316H1F',\n",
       "       'MSE332H1F', 'MSE401H1F', 'MSE419H1F', 'MSE498Y1Y', 'PES100H1F',\n",
       "       'PEY500H1F', 'PEY500Y1F', 'PEY500Y1Y'], dtype='<U9')"
      ]
     },
     "execution_count": 12,
     "metadata": {},
     "output_type": "execute_result"
    }
   ],
   "source": [
    "exam_set"
   ]
  },
  {
   "cell_type": "code",
   "execution_count": 8,
   "id": "71f9b8d6-42e9-4913-aa8e-f4556ec8e039",
   "metadata": {},
   "outputs": [
    {
     "data": {
      "text/plain": [
       "array([186,  48,  19,  31,  31,  14,  10,  30,  47,  44, 832, 513, 803,\n",
       "        11,  48,  33,  31,  29, 109,  27,  16,  47, 140,  37,  16,  93,\n",
       "        80,  11,  13,  24,  21,   5,   8,  15, 277, 109, 112, 113, 110,\n",
       "       189,  91,   5,  96,  94,  11, 143, 136, 100,  28,  18,  23,  11,\n",
       "        31, 761, 265, 103, 152, 100,  98, 234,  87,  92, 102,  96,  27,\n",
       "        45,   6,  11,  12,  14,  33,  36,   8,  16, 109, 108, 107, 102,\n",
       "       103,   9,  86,  62,  43, 343, 350, 345, 354, 186, 269, 151,  59,\n",
       "        16,  89,  44,  60,  79, 160, 290,  19,  62,  64,  80,  72,  35,\n",
       "         8,  15,  39,  28,  57,  81,  86, 119,  53,  53, 261, 153,  19,\n",
       "         3, 205,  68,  19, 167, 174, 174, 765, 822, 120, 351,  50, 165,\n",
       "       162, 119, 120, 168, 124, 319, 164, 175,  49, 115,  33,  46, 103,\n",
       "        51,  25, 167,  13,  48,  33,  58,  30, 111, 162,  45, 144,  39,\n",
       "        14,  16,  50,  33,  33,  49,  26,  36,  38,   1,   2, 843],\n",
       "      dtype=int64)"
      ]
     },
     "execution_count": 8,
     "metadata": {},
     "output_type": "execute_result"
    }
   ],
   "source": [
    "sumHe_s "
   ]
  },
  {
   "cell_type": "code",
   "execution_count": 13,
   "id": "a8ead868-02f9-468e-a3c0-ab8e41404b8e",
   "metadata": {},
   "outputs": [
    {
     "data": {
      "text/plain": [
       "(168, 168)"
      ]
     },
     "execution_count": 13,
     "metadata": {},
     "output_type": "execute_result"
    }
   ],
   "source": [
    "len(exam_set), len(sumHe_s)"
   ]
  }
 ],
 "metadata": {
  "kernelspec": {
   "display_name": "Python 3 (ipykernel)",
   "language": "python",
   "name": "python3"
  },
  "language_info": {
   "codemirror_mode": {
    "name": "ipython",
    "version": 3
   },
   "file_extension": ".py",
   "mimetype": "text/x-python",
   "name": "python",
   "nbconvert_exporter": "python",
   "pygments_lexer": "ipython3",
   "version": "3.8.15"
  }
 },
 "nbformat": 4,
 "nbformat_minor": 5
}
