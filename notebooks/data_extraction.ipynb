{
 "cells": [
  {
   "cell_type": "code",
   "execution_count": 1,
   "id": "12777799",
   "metadata": {},
   "outputs": [],
   "source": [
    "import pandas as pd\n",
    "import numpy as np\n",
    "import random"
   ]
  },
  {
   "cell_type": "code",
   "execution_count": 2,
   "id": "80b21be5",
   "metadata": {},
   "outputs": [],
   "source": [
    "#file = \"Exam Sched Prog Datasets.xlsx\"\n",
    "file = r\"C:\\Users\\William Hazen\\Documents\\GitHub\\exam-timetabling-smac\\Exam Sched Prog Datasets.xlsx\"\n",
    "rooms = pd.read_excel(file, sheet_name = \"datasets room caps \")\n",
    "courses = pd.read_excel(file, sheet_name = \"20221 course size\")\n",
    "enrolments = pd.read_excel(file, sheet_name = \"20221 anonymized enrolments\")\n",
    "schedule = pd.read_excel(file, sheet_name = \"20221 Final Schedule_fromLSM\")"
   ]
  },
  {
   "cell_type": "code",
   "execution_count": 3,
   "id": "7c68e2a8",
   "metadata": {},
   "outputs": [],
   "source": [
    "OG_Course_list = schedule.Course.dropna()\n",
    "OG_Course_list = OG_Course_list.values"
   ]
  },
  {
   "cell_type": "markdown",
   "id": "d8743b49",
   "metadata": {},
   "source": [
    "# Data Extraction"
   ]
  },
  {
   "cell_type": "markdown",
   "id": "d75b7231",
   "metadata": {},
   "source": [
    "#### Random sample of ID's"
   ]
  },
  {
   "cell_type": "code",
   "execution_count": 4,
   "id": "45e4ab20",
   "metadata": {},
   "outputs": [],
   "source": [
    "qwe = enrolments[\"HASHED_PERSON_ID\"].values\n",
    "qwer = np.unique(qwe)\n",
    "#random_sample_names_generator = (qwer[i] for i in range(np.random.randint(0, len(qwer)-1)))\n",
    "random_sample_names_generator = (qwer[i] for i in range(500))\n",
    "name = []"
   ]
  },
  {
   "cell_type": "code",
   "execution_count": 5,
   "id": "bb86447e",
   "metadata": {},
   "outputs": [
    {
     "name": "stdout",
     "output_type": "stream",
     "text": [
      "500\n"
     ]
    }
   ],
   "source": [
    "for i in random_sample_names_generator:\n",
    "    name.append(i)\n",
    "    \n",
    "Student_ID_List = random.sample(name, len(name))\n",
    "print(len(Student_ID_List))"
   ]
  },
  {
   "cell_type": "markdown",
   "id": "e571de96",
   "metadata": {},
   "source": [
    "#### Unique Exams for given student"
   ]
  },
  {
   "cell_type": "code",
   "execution_count": 6,
   "id": "fa18c7c8",
   "metadata": {},
   "outputs": [
    {
     "name": "stderr",
     "output_type": "stream",
     "text": [
      "C:\\Users\\William Hazen\\AppData\\Local\\Temp\\ipykernel_17980\\1881659361.py:4: FutureWarning: In a future version of pandas all arguments of DataFrame.any and Series.any will be keyword-only.\n",
      "  Student_ID_Exams.append(enrolments[\"ACAD_ACT_CD\"][enrolments.eq(ID).any(1)].values)\n"
     ]
    }
   ],
   "source": [
    "Student_ID_Exams = []\n",
    "#enrolments[\"HASHED_PERSON_ID\"].loc[ID]\n",
    "for ID in Student_ID_List:\n",
    "    Student_ID_Exams.append(enrolments[\"ACAD_ACT_CD\"][enrolments.eq(ID).any(1)].values)"
   ]
  },
  {
   "cell_type": "code",
   "execution_count": 7,
   "id": "447cbb65",
   "metadata": {},
   "outputs": [],
   "source": [
    "Student_ID_Exams\n",
    "exam_list = []\n",
    "for exam in Student_ID_Exams:\n",
    "    exam_list.append(exam.any())\n",
    "    \n",
    "uniq_exams = np.unique(exam_list)"
   ]
  },
  {
   "cell_type": "code",
   "execution_count": 8,
   "id": "f4dac808",
   "metadata": {},
   "outputs": [],
   "source": [
    "new_enrol = pd.DataFrame(enrolments).copy()\n",
    "new_enrol[\"class\"] = 1\n",
    "\n",
    "temp_df = new_enrol[new_enrol[\"HASHED_PERSON_ID\"].isin(Student_ID_List)]\n",
    "final_temp = temp_df[temp_df[\"ACAD_ACT_CD\"].isin(uniq_exams)]"
   ]
  },
  {
   "cell_type": "markdown",
   "id": "467fb2fa",
   "metadata": {},
   "source": [
    "#### Course Enrollment"
   ]
  },
  {
   "cell_type": "code",
   "execution_count": 9,
   "id": "90dfae91",
   "metadata": {},
   "outputs": [],
   "source": [
    "courses_enrollments_set = pd.pivot_table(data=final_temp, values=\"class\", index=\"ACAD_ACT_CD\", columns=[\"HASHED_PERSON_ID\"], fill_value=0)"
   ]
  },
  {
   "cell_type": "markdown",
   "id": "92626db2",
   "metadata": {},
   "source": [
    "# Cleaning Room Table"
   ]
  },
  {
   "cell_type": "code",
   "execution_count": 10,
   "id": "15c0a190",
   "metadata": {},
   "outputs": [],
   "source": [
    "#Cleaning room table\n",
    "\n",
    "rooms['Room'] = rooms['Room'].astype(str)\n",
    "rooms['Room'] = rooms['Bd'].str.cat(rooms['Room'], sep = \" \")\n",
    "\n",
    "rooms = rooms.drop(['Note','Bd'], axis=1)"
   ]
  },
  {
   "cell_type": "markdown",
   "id": "bbcd0736",
   "metadata": {},
   "source": [
    "# Cleaning Course Data"
   ]
  },
  {
   "cell_type": "code",
   "execution_count": 11,
   "id": "bdaef1fc",
   "metadata": {},
   "outputs": [],
   "source": [
    "#Cleaning course data\n",
    "\n",
    "courses['COURSE_CODE'] = courses['COURSE_CODE'].str.cat(courses['SECTIONCD'], sep = \"\")\n",
    "courses = courses.drop(['SESSION_CD','SECTIONCD','ADMINFACULTYCODE','ADMINDEPT'], axis=1)\n",
    "crselist = courses['COURSE_CODE'].tolist()\n",
    "sizelist = courses['CURR_REG_QTY'].tolist()"
   ]
  },
  {
   "cell_type": "markdown",
   "id": "45396631",
   "metadata": {},
   "source": [
    "# Enrolment data"
   ]
  },
  {
   "cell_type": "code",
   "execution_count": 12,
   "id": "e3bb2cd3",
   "metadata": {},
   "outputs": [],
   "source": [
    "idlist = enrolments['HASHED_PERSON_ID'].tolist()\n",
    "classlist = enrolments['ACAD_ACT_CD'].tolist()\n",
    "\n",
    "schedule['Room'] = schedule['Room'].astype(str)\n",
    "schedule['Examdate'] = schedule['Examdate'].astype(str)\n",
    "schedule['Begin'] = schedule['Begin'].astype(str)\n",
    "schedule['Ends'] = schedule['Ends'].astype(str)\n",
    "\n",
    "schedule['Room'] = schedule['Bd'].str.cat(schedule['Room'], sep = \" \")\n",
    "\n",
    "schedule = schedule.drop(['Bd','Faculty','Department','Section','Sesson','Course Name','Duration'], axis=1)\n",
    "\n",
    "schedule.replace('ZZ REFER_TO_FACULTY_SCHEDULE', 'None', inplace=True)\n",
    "schedule.replace('ZZ REFER_TO_FACULTY_SCHEDULE', 'None', inplace=True)\n",
    "schedule.replace('ZZ ONLIN', 'None', inplace=True)\n",
    "schedule.replace('APSCDept APSCDept', 'None', inplace=True)\n",
    "schedule.replace('APSCDept ComputerLab', 'None', inplace=True)\n",
    "schedule.replace('ZZ KNOX', 'None', inplace=True)\n",
    "schedule.replace('ZZ VLAD', 'None', inplace=True)\n",
    "schedule.replace('ZZ ONLINMUSIC', 'None', inplace=True)\n"
   ]
  },
  {
   "cell_type": "code",
   "execution_count": 13,
   "id": "833fe485",
   "metadata": {},
   "outputs": [],
   "source": [
    "room_list = schedule['bd_room'].dropna().values\n",
    "test_list = room_list.tolist()\n",
    "roomlist = [i for i in test_list if i != \"None\"]"
   ]
  },
  {
   "cell_type": "code",
   "execution_count": 14,
   "id": "b34d07fe",
   "metadata": {},
   "outputs": [],
   "source": [
    "room_cap_list = schedule['Room Cap'].dropna().values\n",
    "test_cap_list = room_cap_list.tolist()\n",
    "roomcaplist = [i for i in test_cap_list if i != \"None\"]"
   ]
  },
  {
   "cell_type": "code",
   "execution_count": 15,
   "id": "8818f002",
   "metadata": {},
   "outputs": [
    {
     "name": "stdout",
     "output_type": "stream",
     "text": [
      "1279 1279\n"
     ]
    }
   ],
   "source": [
    "print(len(roomcaplist), len(roomlist))"
   ]
  },
  {
   "cell_type": "code",
   "execution_count": 16,
   "id": "d3a120f3",
   "metadata": {},
   "outputs": [],
   "source": [
    "OG_CL = list(OG_Course_list)\n",
    "\n",
    "unique_course_list=[]\n",
    "for course in OG_CL:\n",
    "    for crs in uniq_exams:\n",
    "        if course[0:8] == crs:\n",
    "            unique_course_list.append(course) \n",
    "    "
   ]
  },
  {
   "cell_type": "code",
   "execution_count": 17,
   "id": "6ff1d55c",
   "metadata": {},
   "outputs": [],
   "source": [
    "new_schedule = pd.DataFrame(schedule).copy()\n",
    "temp_sch_df = new_schedule[new_schedule[\"Course\"].isin(unique_course_list)]"
   ]
  },
  {
   "cell_type": "code",
   "execution_count": 31,
   "id": "7ef3adf7",
   "metadata": {},
   "outputs": [],
   "source": [
    "examdate_time_list = (schedule['Examdate'].dropna().astype(str) + \" : \" + schedule['Begin']).dropna().tolist()\n",
    "examdate_time_list = np.unique(examdate_time_list)\n",
    "examdate_time_list = [i for i in examdate_time_list if i != \"NaT : nan\"]"
   ]
  },
  {
   "cell_type": "code",
   "execution_count": 32,
   "id": "fecc8a89",
   "metadata": {},
   "outputs": [
    {
     "data": {
      "text/plain": [
       "['2022-04-11 : 09:00:00',\n",
       " '2022-04-11 : 14:00:00',\n",
       " '2022-04-11 : 19:00:00',\n",
       " '2022-04-12 : 09:00:00',\n",
       " '2022-04-12 : 14:00:00',\n",
       " '2022-04-12 : 19:00:00',\n",
       " '2022-04-13 : 09:00:00',\n",
       " '2022-04-13 : 14:00:00',\n",
       " '2022-04-13 : 19:00:00',\n",
       " '2022-04-14 : 09:00:00',\n",
       " '2022-04-14 : 14:00:00',\n",
       " '2022-04-14 : 19:00:00',\n",
       " '2022-04-18 : 09:00:00',\n",
       " '2022-04-18 : 14:00:00',\n",
       " '2022-04-18 : 19:00:00',\n",
       " '2022-04-19 : 09:00:00',\n",
       " '2022-04-19 : 09:30:00',\n",
       " '2022-04-19 : 14:00:00',\n",
       " '2022-04-19 : 18:30:00',\n",
       " '2022-04-19 : 19:00:00',\n",
       " '2022-04-20 : 09:00:00',\n",
       " '2022-04-20 : 09:30:00',\n",
       " '2022-04-20 : 14:00:00',\n",
       " '2022-04-20 : 18:30:00',\n",
       " '2022-04-20 : 19:00:00',\n",
       " '2022-04-21 : 09:00:00',\n",
       " '2022-04-21 : 09:30:00',\n",
       " '2022-04-21 : 14:00:00',\n",
       " '2022-04-21 : 18:30:00',\n",
       " '2022-04-21 : 19:00:00',\n",
       " '2022-04-22 : 09:00:00',\n",
       " '2022-04-22 : 09:30:00',\n",
       " '2022-04-22 : 14:00:00',\n",
       " '2022-04-22 : 18:30:00',\n",
       " '2022-04-22 : 19:00:00',\n",
       " '2022-04-23 : 09:00:00',\n",
       " '2022-04-23 : 09:30:00',\n",
       " '2022-04-23 : 14:00:00',\n",
       " '2022-04-25 : 09:00:00',\n",
       " '2022-04-25 : 09:30:00',\n",
       " '2022-04-25 : 14:00:00',\n",
       " '2022-04-25 : 18:30:00',\n",
       " '2022-04-25 : 19:00:00',\n",
       " '2022-04-26 : 09:00:00',\n",
       " '2022-04-26 : 09:30:00',\n",
       " '2022-04-26 : 14:00:00',\n",
       " '2022-04-26 : 18:30:00',\n",
       " '2022-04-26 : 19:00:00',\n",
       " '2022-04-27 : 09:00:00',\n",
       " '2022-04-27 : 09:30:00',\n",
       " '2022-04-27 : 14:00:00',\n",
       " '2022-04-27 : 18:30:00',\n",
       " '2022-04-27 : 19:00:00',\n",
       " '2022-04-28 : 09:00:00',\n",
       " '2022-04-28 : 09:30:00',\n",
       " '2022-04-28 : 14:00:00',\n",
       " '2022-04-28 : 18:30:00',\n",
       " '2022-04-28 : 19:00:00',\n",
       " '2022-04-29 : 09:00:00',\n",
       " '2022-04-29 : 09:30:00',\n",
       " '2022-04-29 : 14:00:00',\n",
       " '2022-04-29 : 18:30:00',\n",
       " '2022-04-30 : 09:30:00',\n",
       " '2022-04-30 : 14:00:00']"
      ]
     },
     "execution_count": 32,
     "metadata": {},
     "output_type": "execute_result"
    }
   ],
   "source": [
    "examdate_time_list"
   ]
  },
  {
   "cell_type": "code",
   "execution_count": 33,
   "id": "f1c895de",
   "metadata": {},
   "outputs": [],
   "source": [
    "#Schedule data in list format\n",
    "\n",
    "schdcrselist = temp_sch_df['Course'].tolist()\n",
    "schdroomlist = temp_sch_df['Room'].tolist()\n",
    "exmdatelist = temp_sch_df['Examdate'].tolist()\n",
    "starttimelist = temp_sch_df['Begin'].tolist()\n",
    "endtimelist = temp_sch_df['Ends'].tolist()\n",
    "enrllist = temp_sch_df['Enrolment'].tolist()\n",
    "crseinroomlist = temp_sch_df['Course In Room'].tolist()\n",
    "totalocclist = temp_sch_df['Total Occupancy'].tolist()\n",
    "examdate_time_list = (temp_sch_df['Examdate'].astype(str) + \" : \" + temp_sch_df['Begin']).tolist()\n",
    "course_enrollment_values = courses_enrollments_set.drop([\"TEP445H1\"], axis=0).values\n",
    "sumHe_s = np.sum(course_enrollment_values, axis=1)\n",
    "temp_roomcaplist = sumHe_s + 4"
   ]
  },
  {
   "cell_type": "code",
   "execution_count": 34,
   "id": "44e32581",
   "metadata": {},
   "outputs": [
    {
     "name": "stdout",
     "output_type": "stream",
     "text": [
      "Exam set:\n",
      " ['AER302H1S', 'AER372H1S', 'APS105H1S', 'APS105H1S', 'APS106H1S', 'APS106H1S', 'APS106H1S', 'APS112H1S', 'APS113Y1Y', 'APS305H1S', 'APS360H1S', 'APS420H1S', 'APS502H1S', 'BME205H1S', 'BME205H1S', 'BME330H1S', 'BME331H1S', 'BME346H1S', 'CHE354H1S', 'CHE507H1S', 'CIV185H1S', 'CIV209H1S', 'CIV214H1S', 'CIV300H1S', 'CIV313H1S', 'CIV324H1S', 'CIV440H1S', 'ECE110H1S', 'ECE110H1S', 'ECE110H1S', 'ECE159H1S', 'ECE216H1S', 'ECE216H1S', 'ECE221H1S', 'ECE221H1S', 'ECE221H1S', 'ECE231H1S', 'ECE231H1S', 'ECE259H1S', 'ECE302H1S', 'ECE311H1S', 'ECE313H1S', 'ECE318H1S', 'ECE330H1S', 'ECE334H1S', 'ECE334H1S', 'ECE342H1S', 'ECE353H1S', 'ECE356H1S', 'ECE419H1S', 'ECE419H1S', 'ECE421H1S', 'ECE437H1S', 'ECE472H1S', 'ECE472H1S', 'ECE568H1S', 'FOR424H1S', 'FOR424H1S', 'HPS283H1S', 'JRE300H1S', 'JRE410H1S', 'JRE420H1S', 'MAT234H1S', 'MIE210H1S', 'MIE210H1S', 'MIE210H1S', 'MIE210H1S', 'MIE237H1S', 'MIE237H1S', 'MIE253H1S', 'MIE253H1S', 'MIE304H1S', 'MIE311H1S', 'MIE313H1S', 'MIE315H1S', 'MIE315H1S', 'MIE335H1S', 'MIE402H1S', 'MIE457H1S', 'MIE459H1S', 'MSE217H1S', 'MSE218H1S', 'MSE490H1S', 'ANT100Y1Y', 'ANT204H1S', 'AST121H1S', 'CDN221H1S', 'CLA204H1S', 'CSC263H1S', 'CSC263H1S', 'CSC263H1S', 'CSC300H1S', 'CSC317H1S', 'CSC343H1S', 'CSC343H1S', 'CSC384H1S', 'CSC384H1S', 'CSC384H1S', 'CSC401H1S', 'CSC488H1S', 'GGR124H1S', 'GGR124H1S', 'SOC100H1S'] \n",
      "\n",
      " Course Enrollement Set:\n",
      " [[0 0 0 ... 0 0 0]\n",
      " [0 0 0 ... 0 0 0]\n",
      " [0 0 0 ... 0 0 0]\n",
      " ...\n",
      " [1 1 0 ... 0 0 0]\n",
      " [0 0 0 ... 1 0 0]\n",
      " [0 1 0 ... 0 0 0]] \n",
      "\n",
      " Number of students in course:\n",
      " [ 1  5  1  1  1 28 48 75  1  2 24  4  1  9  1  2 31  1  3  2  3  1 10  8\n",
      "  4  4  1  3  1  9  8  8  9  6  4  7  7  9  2  1  1  4 22  1  7  3  1  1\n",
      "  1  1  1 59 34 16 30 32 31 31  8  7  2  7  6  2  9 10  8  4  3 13  3 21\n",
      " 26 11  6  4  1  7  3  5 14 17 14 18 19 13 18  4  7 19 21 17  1  4 15 13\n",
      "  8  6  7  4 74 72  6] \n",
      "\n",
      " Room Capacity set:\n",
      " [72.0, 36.0, 50.0, 110.0, 50.0, 36.0, 36.0, 231.0, 335.0, 384.0, 384.0, 231.0, 36.0, 2000.0, 2000.0, 40.0, 44.0, 335.0, 72.0, 108.0, 384.0, 384.0, 35.0, 110.0, 32.0, 50.0, 50.0, 50.0, 50.0, 48.0, 108.0, 106.0, 120.0, 79.0, 69.0, 112.0, 110.0, 112.0, 120.0, 80.0, 80.0, 72.0, 110.0, 309.0, 112.0, 120.0, 50.0, 72.0, 110.0, 30.0, 72.0, 50.0, 30.0, 74.0, 250.0, 250.0, 50.0, 39.0, 39.0, 108.0, 110.0, 108.0, 120.0, 106.0, 110.0, 112.0, 110.0, 106.0, 108.0, 120.0, 72.0, 39.0, 110.0, 72.0, 48.0, 48.0, 250.0, 120.0, 49.0, 72.0, 384.0, 384.0, 335.0, 309.0, 384.0, 384.0, 384.0, 384.0, 231.0, 384.0, 384.0, 309.0, 106.0, 335.0, 309.0, 2000.0, 2000.0, 57.0, 112.0, 36.0, 74.0, 309.0, 50.0, 49.0, 72.0, 80.0, 82.0, 50.0, 48.0, 250.0, 32.0, 50.0, 50.0, 120.0, 309.0, 235.0, 35.0, 309.0, 50.0, 50.0, 309.0, 32.0, 30.0, 39.0, 36.0, 39.0, 30.0, 120.0, 74.0, 120.0, 108.0, 106.0, 35.0, 335.0, 235.0, 48.0, 309.0, 309.0, 57.0, 80.0, 44.0, 48.0, 235.0, 309.0, 235.0, 235.0, 48.0, 106.0, 309.0, 335.0, 108.0, 106.0, 120.0, 72.0, 335.0, 309.0, 335.0, 74.0, 50.0, 50.0, 50.0, 235.0, 108.0, 106.0, 72.0, 110.0, 72.0, 110.0, 108.0, 120.0, 108.0, 106.0, 231.0, 250.0, 112.0, 231.0, 108.0, 106.0, 72.0, 110.0, 82.0, 250.0, 50.0, 231.0, 120.0, 120.0, 48.0, 72.0, 250.0, 50.0, 35.0, 50.0, 74.0, 50.0, 235.0, 106.0, 120.0, 72.0, 250.0, 50.0, 50.0, 35.0, 335.0, 32.0, 231.0, 72.0, 35.0, 32.0, 35.0, 50.0, 50.0, 50.0, 36.0, 30.0, 106.0, 309.0, 72.0, 72.0, 69.0, 72.0, 72.0, 30.0, 48.0, 57.0, 335.0, 72.0, 30.0, 69.0, 335.0, 48.0, 48.0, 231.0, 120.0, 106.0, 50.0, 82.0, 35.0, 36.0, 250.0, 110.0, 48.0, 2000.0, 2000.0, 2000.0, 2000.0, 150.0, 2000.0, 2000.0, 2000.0, 2000.0, 2000.0, 2000.0, 2000.0, 2000.0, 2000.0, 2000.0, 2000.0, 335.0, 2000.0, 110.0, 108.0, 2000.0, 108.0, 384.0, 231.0, 2000.0, 2000.0, 2000.0, 384.0, 384.0, 120.0, 57.0, 106.0, 2000.0, 2000.0, 2000.0, 80.0, 80.0, 384.0, 384.0, 48.0, 120.0, 2000.0, 2000.0, 2000.0, 384.0, 2000.0, 2000.0, 120.0, 2000.0, 384.0, 384.0, 231.0, 309.0, 335.0, 108.0, 106.0, 120.0, 112.0, 120.0, 2000.0, 2000.0, 94.0, 72.0, 110.0, 74.0, 82.0, 120.0, 2000.0, 79.0, 69.0, 120.0, 231.0, 2000.0, 2000.0, 2000.0, 2000.0, 2000.0, 2000.0, 106.0, 2000.0, 72.0, 2000.0, 108.0, 48.0, 33.0, 50.0, 309.0, 80.0, 2000.0, 2000.0, 30.0, 2000.0, 335.0, 120.0, 384.0, 120.0, 335.0, 231.0, 2000.0, 335.0, 75.0, 2000.0, 2000.0, 2000.0, 120.0, 2000.0, 36.0, 52.0, 2000.0, 35.0, 231.0, 2000.0, 109.0, 309.0, 2000.0, 125.0, 38.0, 2000.0, 384.0, 108.0, 335.0, 2000.0, 231.0, 235.0, 384.0, 384.0, 231.0, 309.0, 335.0, 309.0, 335.0, 108.0, 109.0, 72.0, 94.0, 79.0, 69.0, 72.0, 110.0, 82.0, 112.0, 108.0, 384.0, 384.0, 231.0, 2000.0, 2000.0, 231.0, 231.0, 106.0, 120.0, 120.0, 309.0, 335.0, 309.0, 2000.0, 235.0, 48.0, 110.0, 120.0, 335.0, 309.0, 108.0, 80.0, 79.0, 75.0, 2000.0, 2000.0, 2000.0, 384.0, 309.0, 108.0, 106.0, 120.0, 50.0, 384.0, 384.0, 231.0, 309.0, 335.0, 108.0, 106.0, 120.0, 235.0, 112.0, 120.0, 309.0, 335.0, 335.0, 335.0, 335.0, 106.0, 309.0, 309.0, 384.0, 384.0, 231.0, 384.0, 384.0, 231.0, 112.0, 120.0, 309.0, 108.0, 120.0, 384.0, 231.0, 384.0, 384.0, 231.0, 335.0, 106.0, 108.0, 112.0, 106.0, 335.0, 235.0, 384.0, 384.0, 335.0, 108.0, 384.0, 384.0, 120.0, 309.0, 57.0, 80.0, 125.0, 32.0, 384.0, 57.0, 335.0, 80.0, 80.0, 2000.0, 335.0, 94.0, 38.0, 38.0, 120.0, 309.0, 309.0, 39.0, 384.0, 120.0, 235.0, 235.0, 57.0, 335.0, 2000.0, 231.0, 2000.0, 235.0, 309.0, 384.0, 72.0, 2000.0, 2000.0, 2000.0, 2000.0, 57.0, 80.0, 2000.0, 110.0, 2000.0, 2000.0, 2000.0, 2000.0, 2000.0, 309.0, 335.0, 108.0, 108.0, 2000.0, 50.0, 2000.0, 120.0, 2000.0, 2000.0, 384.0, 108.0, 50.0, 235.0, 48.0, 33.0, 125.0, 2000.0, 2000.0, 2000.0, 44.0, 80.0, 235.0, 235.0, 235.0, 235.0, 235.0, 235.0, 2000.0, 2000.0, 36.0, 36.0, 36.0, 2000.0, 2000.0, 2000.0, 2000.0, 335.0, 335.0, 109.0, 54.0, 2000.0, 2000.0, 2000.0, 309.0, 384.0, 72.0, 2000.0, 50.0, 57.0, 120.0, 235.0, 108.0, 120.0, 50.0, 2000.0, 72.0, 110.0, 2000.0, 50.0, 2000.0, 80.0, 235.0, 2000.0, 2000.0, 125.0, 2000.0, 2000.0, 309.0, 108.0, 57.0, 80.0, 108.0, 106.0, 120.0, 384.0, 384.0, 309.0, 112.0, 335.0, 120.0, 106.0, 72.0, 2000.0, 2000.0, 125.0, 60.0, 335.0, 2000.0, 52.0, 235.0, 235.0, 384.0, 384.0, 120.0, 384.0, 120.0, 384.0, 108.0, 231.0, 231.0, 231.0, 106.0, 2000.0, 2000.0, 2000.0, 2000.0, 2000.0, 50.0, 2000.0, 335.0, 2000.0, 2000.0, 2000.0, 32.0, 335.0, 57.0, 2000.0, 2000.0, 120.0, 309.0, 120.0, 72.0, 2000.0, 384.0, 384.0, 45.0, 2000.0, 384.0, 2000.0, 2000.0, 45.0, 35.0, 74.0, 106.0, 2000.0, 32.0, 309.0, 309.0, 384.0, 384.0, 309.0, 335.0, 384.0, 384.0, 231.0, 384.0, 384.0, 231.0, 309.0, 335.0, 108.0, 106.0, 120.0, 50.0, 120.0, 384.0, 384.0, 231.0, 231.0, 384.0, 335.0, 335.0, 80.0, 309.0, 309.0, 231.0, 384.0, 384.0, 309.0, 335.0, 231.0, 108.0, 106.0, 120.0, 309.0, 335.0, 108.0, 106.0, 309.0, 106.0, 309.0, 108.0, 106.0, 120.0, 235.0, 72.0, 110.0, 56.0, 120.0, 335.0, 125.0, 2000.0, 2000.0, 384.0, 384.0, 309.0, 384.0, 384.0, 384.0, 309.0, 384.0, 35.0, 335.0, 109.0, 50.0, 50.0, 57.0, 309.0, 120.0, 75.0, 335.0, 335.0, 235.0, 384.0, 80.0, 75.0, 335.0, 108.0, 335.0, 120.0, 335.0, 82.0, 335.0, 235.0, 2000.0, 231.0, 106.0, 2000.0, 384.0, 2000.0, 2000.0, 384.0, 108.0, 309.0, 235.0, 72.0, 72.0, 110.0, 2000.0, 2000.0, 2000.0, 80.0, 235.0, 106.0, 108.0, 309.0, 309.0, 48.0, 120.0, 309.0, 309.0, 2000.0, 2000.0, 112.0, 2000.0, 309.0, 2000.0, 2000.0, 2000.0, 120.0, 2000.0, 60.0, 35.0, 72.0, 2000.0, 309.0, 2000.0, 335.0, 2000.0, 384.0, 384.0, 231.0, 384.0, 384.0, 384.0, 2000.0, 74.0, 72.0, 384.0, 52.0, 74.0, 50.0, 384.0, 50.0, 52.0, 50.0, 384.0, 2000.0, 384.0, 108.0, 106.0, 2000.0, 112.0, 309.0, 56.0, 2000.0, 110.0, 2000.0, 2000.0, 335.0, 120.0, 2000.0, 2000.0, 120.0, 52.0, 335.0, 335.0, 335.0, 2000.0, 2000.0, 2000.0, 2000.0, 2000.0, 2000.0, 2000.0, 2000.0, 2000.0, 2000.0, 2000.0, 2000.0, 106.0, 120.0, 2000.0, 50.0, 2000.0, 72.0, 2000.0, 2000.0, 2000.0, 2000.0, 2000.0, 2000.0, 231.0, 309.0, 56.0, 50.0, 80.0, 50.0, 72.0, 2000.0, 2000.0, 309.0, 2000.0, 384.0, 231.0, 2000.0, 2000.0, 2000.0, 2000.0, 2000.0, 2000.0, 2000.0, 106.0, 106.0, 2000.0, 2000.0, 2000.0, 108.0, 2000.0, 309.0, 384.0, 384.0, 231.0, 108.0, 120.0, 50.0, 2000.0, 2000.0, 2000.0, 2000.0, 120.0, 2000.0, 2000.0, 106.0, 110.0, 82.0, 235.0, 108.0, 231.0, 43.0, 2000.0, 2000.0, 2000.0, 106.0, 2000.0, 108.0, 2000.0, 2000.0, 2000.0, 50.0, 2000.0, 2000.0, 231.0, 2000.0, 235.0, 2000.0, 106.0, 2000.0, 231.0, 2000.0, 309.0, 335.0, 106.0, 120.0, 125.0, 2000.0, 309.0, 82.0, 2000.0, 309.0, 50.0, 125.0, 72.0, 2000.0, 2000.0, 2000.0, 2000.0, 2000.0, 2000.0, 2000.0, 2000.0, 2000.0, 2000.0, 74.0, 2000.0, 2000.0, 2000.0, 2000.0, 2000.0, 2000.0, 2000.0, 2000.0, 2000.0, 2000.0, 110.0, 106.0, 50.0, 57.0, 2000.0, 2000.0, 2000.0, 2000.0, 2000.0, 2000.0, 2000.0, 2000.0, 2000.0, 2000.0, 2000.0, 2000.0, 2000.0, 2000.0, 2000.0, 2000.0, 50.0, 2000.0, 35.0, 2000.0, 50.0, 100.0, 100.0, 45.0, 45.0, 100.0, 50.0, 100.0, 50.0, 50.0, 100.0, 25.0, 25.0, 25.0, 25.0, 25.0, 25.0, 25.0, 25.0, 25.0, 25.0, 25.0, 25.0, 100.0, 100.0, 25.0, 25.0, 25.0, 25.0, 25.0, 25.0, 25.0, 25.0, 25.0, 25.0, 25.0, 25.0, 25.0, 25.0, 25.0, 25.0, 25.0, 25.0, 25.0, 50.0, 50.0, 50.0, 50.0, 50.0, 100.0, 50.0, 50.0, 50.0, 45.0, 50.0, 50.0, 50.0, 50.0, 50.0, 100.0, 50.0, 50.0, 50.0, 50.0, 45.0, 50.0, 50.0, 45.0, 24.0, 50.0, 50.0, 50.0, 100.0, 50.0, 50.0, 50.0, 45.0, 50.0, 45.0, 50.0, 50.0, 50.0, 50.0, 45.0, 100.0, 45.0, 45.0, 50.0, 50.0, 50.0, 50.0, 45.0, 50.0, 50.0, 50.0, 50.0, 50.0, 50.0, 100.0, 50.0, 45.0, 50.0, 45.0, 50.0, 50.0, 45.0, 24.0, 50.0, 50.0, 50.0, 50.0, 100.0, 50.0, 50.0, 50.0, 50.0, 45.0, 50.0, 50.0, 45.0, 50.0, 50.0, 50.0, 50.0, 50.0, 50.0, 45.0, 50.0, 45.0, 45.0, 45.0, 45.0, 45.0, 45.0, 100.0, 50.0, 45.0, 45.0, 50.0, 50.0, 50.0, 50.0, 50.0, 50.0, 45.0, 50.0, 50.0, 50.0, 50.0, 50.0, 100.0, 50.0, 50.0, 50.0, 50.0, 50.0, 45.0, 50.0, 50.0, 50.0, 50.0, 50.0, 45.0, 45.0, 45.0, 100.0, 50.0, 45.0, 45.0, 50.0, 50.0, 50.0, 50.0, 50.0, 50.0, 50.0, 100.0, 50.0, 50.0, 50.0, 50.0, 45.0, 50.0, 50.0, 24.0, 100.0, 50.0, 50.0, 50.0, 50.0, 50.0, 50.0, 50.0, 50.0, 100.0, 50.0, 50.0, 309.0, 335.0, 235.0, 48.0, 309.0, 235.0, 106.0, 120.0, 112.0, 120.0, 335.0, 235.0, 235.0, 309.0, 39.0, 108.0, 231.0, 231.0, 50.0, 120.0, 106.0, 108.0, 335.0, 106.0, 120.0, 75.0, 32.0, 110.0, 72.0, 72.0, 43.0, 43.0, 231.0, 75.0, 2000.0, 72.0, 2000.0, 2000.0, 2000.0, 2000.0, 2000.0, 2000.0, 2000.0, 2000.0, 2000.0, 2000.0, 2000.0, 2000.0, 2000.0, 2000.0, 2000.0, 2000.0, 2000.0, 2000.0, 2000.0, 2000.0, 2000.0, 2000.0, 2000.0, 2000.0, 2000.0, 2000.0, 2000.0, 2000.0, 2000.0, 2000.0, 2000.0, 2000.0, 2000.0, 2000.0, 2000.0, 2000.0, 2000.0, 2000.0, 335.0, 309.0, 335.0, 309.0, 80.0, 44.0, 30.0, 335.0, 335.0, 2000.0, 2000.0, 2000.0, 2000.0, 57.0, 50.0, 50.0, 72.0, 30.0, 69.0, 335.0, 45.0, 45.0, 45.0, 45.0, 45.0, 45.0, 45.0, 45.0, 45.0, 45.0, 100.0, 50.0, 384.0, 335.0, 335.0, 335.0, 2000.0, 2000.0, 2000.0] \n",
      "\n",
      "\n"
     ]
    }
   ],
   "source": [
    "print(\"Exam set:\" '\\n', schdcrselist,'\\n\\n', \n",
    "      \"Course Enrollement Set:\" '\\n',course_enrollment_values, '\\n\\n', \n",
    "      \"Number of students in course:\" '\\n',sumHe_s, '\\n\\n', \n",
    "      \"Room Capacity set:\" '\\n',roomcaplist, '\\n\\n'\n",
    ")"
   ]
  },
  {
   "cell_type": "code",
   "execution_count": 35,
   "id": "ca6db1a4",
   "metadata": {},
   "outputs": [
    {
     "name": "stdout",
     "output_type": "stream",
     "text": [
      "Exam Date and time slot:\n",
      " ['2022-04-22 : 14:00:00', '2022-04-27 : 18:30:00', '2022-04-23 : 09:30:00', '2022-04-23 : 09:30:00', '2022-04-23 : 09:30:00', '2022-04-23 : 09:30:00', '2022-04-23 : 09:30:00', '2022-04-19 : 09:30:00', '2022-04-19 : 09:30:00', '2022-04-28 : 14:00:00', '2022-04-21 : 14:00:00', '2022-04-19 : 18:30:00', '2022-04-29 : 09:30:00', '2022-04-26 : 09:30:00', '2022-04-26 : 09:30:00', '2022-04-25 : 18:30:00', '2022-04-26 : 14:00:00', '2022-04-28 : 18:30:00', '2022-04-29 : 14:00:00', '2022-04-23 : 14:00:00', '2022-04-21 : 09:30:00', '2022-04-28 : 09:30:00', '2022-04-19 : 09:30:00', '2022-04-29 : 14:00:00', '2022-04-27 : 14:00:00', '2022-04-23 : 14:00:00', '2022-04-25 : 14:00:00', '2022-04-21 : 09:30:00', '2022-04-21 : 09:30:00', '2022-04-21 : 09:30:00', '2022-04-21 : 14:00:00', '2022-04-28 : 14:00:00', '2022-04-28 : 14:00:00', '2022-04-20 : 09:30:00', '2022-04-20 : 09:30:00', '2022-04-20 : 09:30:00', '2022-04-25 : 09:30:00', '2022-04-25 : 09:30:00', '2022-04-22 : 18:30:00', '2022-04-27 : 09:30:00', '2022-04-25 : 14:00:00', '2022-04-26 : 14:00:00', '2022-04-30 : 09:30:00', '2022-04-22 : 14:00:00', '2022-04-19 : 14:00:00', '2022-04-19 : 14:00:00', '2022-04-27 : 18:30:00', '2022-04-21 : 09:30:00', '2022-04-20 : 14:00:00', '2022-04-20 : 14:00:00', '2022-04-20 : 14:00:00', '2022-04-26 : 18:30:00', '2022-04-20 : 14:00:00', '2022-04-23 : 14:00:00', '2022-04-23 : 14:00:00', '2022-04-30 : 14:00:00', '2022-04-23 : 14:00:00', '2022-04-23 : 14:00:00', '2022-04-21 : 18:30:00', '2022-04-29 : 09:30:00', '2022-04-19 : 09:30:00', '2022-04-28 : 09:30:00', '2022-04-26 : 18:30:00', '2022-04-20 : 09:30:00', '2022-04-20 : 09:30:00', '2022-04-20 : 09:30:00', '2022-04-20 : 09:30:00', '2022-04-25 : 18:30:00', '2022-04-25 : 18:30:00', '2022-04-30 : 09:30:00', '2022-04-30 : 09:30:00', '2022-04-30 : 09:30:00', '2022-04-27 : 09:30:00', '2022-04-28 : 14:00:00', '2022-04-21 : 09:30:00', '2022-04-21 : 09:30:00', '2022-04-19 : 14:00:00', '2022-04-27 : 18:30:00', '2022-04-30 : 14:00:00', '2022-04-23 : 14:00:00', '2022-04-27 : 14:00:00', '2022-04-29 : 14:00:00', '2022-04-22 : 14:00:00', '2022-04-14 : 19:00:00', '2022-04-14 : 14:00:00', '2022-04-14 : 19:00:00', '2022-04-26 : 09:00:00', '2022-04-28 : 19:00:00', '2022-04-22 : 19:00:00', '2022-04-22 : 19:00:00', '2022-04-22 : 19:00:00', '2022-04-19 : 19:00:00', '2022-04-22 : 14:00:00', '2022-04-25 : 19:00:00', '2022-04-25 : 19:00:00', '2022-04-18 : 19:00:00', '2022-04-18 : 19:00:00', '2022-04-18 : 19:00:00', '2022-04-12 : 19:00:00', '2022-04-13 : 19:00:00', '2022-04-19 : 09:00:00', '2022-04-19 : 09:00:00', '2022-04-12 : 19:00:00'] \n",
      "\n",
      " Room Set:\n",
      " ['SF_2202', 'BA_1180', 'BA_2165', 'SF_3202', 'BA_2175', 'MY_330', 'BA_1180', 'BN_3', 'EX_200', 'BN_2N', 'BN_2S', 'BN_3', 'MY_330', 'APSCDept_APSCDept', 'APSCDept_APSCDept', 'WB_130', 'BA_1130', 'EX_200', 'GB_304', 'EX_300', 'BN_2N', 'BN_2S', 'BA_2159', 'SF_3202', 'MY_380', 'BA_2195', 'BA_2185', 'HA_410', 'BA_2175', 'MY_360', 'EX_300', 'EX_310', 'EX_320', 'MS_3153', 'MS_3154', 'ZZ_KNOX', 'SF_3202', 'ZZ_KNOX', 'ZZ_VLAD', 'TC _239', 'WY_119', 'SF_2202', 'SF_3202', 'EX_100', 'ZZ_KNOX', 'ZZ_VLAD', 'BA_2165', 'SF_2202', 'SF_3202', 'WB_219', 'GB_304', 'BA_2195', 'WB_119', 'BA_1160', 'APSCDept_ComputerLab', 'APSCDept_ComputerLab', 'BA_2185', 'BA_2139', 'BA_2139', 'EX_300', 'SF_3202', 'EX_300', 'EX_320', 'EX_310', 'SF_3202', 'ZZ_KNOX', 'SF_3202', 'EX_310', 'EX_300', 'EX_320', 'GB_304', 'BA_2139', 'SF_3202', 'GB_304', 'MY_315', 'MY_315', 'APSCDept_ComputerLab', 'EX_320', 'GB_303', 'GB_304', 'BN_2N', 'BN_2S', 'EX_200', 'EX_100', 'BN_2N', 'BN_2S', 'BN_2N', 'BN_2S', 'BN_3', 'BN_2N', 'BN_2S', 'EX_100', 'EX_310', 'EX_200', 'EX_100', 'APSCDept_APSCDept', 'APSCDept_APSCDept', 'HI_CART', 'ZZ_KNOX', 'BA_1170', 'BA_1160', 'EX_100', 'BA_2185', 'GB_303', 'GB_304', 'WY_119', 'WB_116', 'BA_2195', 'MY_315', 'APSCDept_ComputerLab', 'MY_380', 'BA_2175', 'HA_410', 'EX_320', 'EX_100', 'MY_150', 'BA_2159', 'EX_100', 'HA_401', 'HA_410', 'EX_100', 'MY_380', 'WB_219', 'BA_2139', 'MY_330', 'BA_2139', 'WB_119', 'EX_320', 'BA_1160', 'EX_320', 'EX_300', 'EX_310', 'BA_1190', 'EX_200', 'MY_150', 'MY_360', 'EX_100', 'EX_100', 'HI_CART', 'TC_239', 'BA_1130', 'MY_315', 'MY_150', 'EX_100', 'MY_150', 'MY_150', 'MY_360', 'EX_310', 'EX_100', 'EX_200', 'EX_300', 'EX_310', 'EX_320', 'GB_304', 'EX_200', 'EX_100', 'EX_200', 'BA_1160', 'BA_2165', 'BA_2175', 'BA_2185', 'MY_150', 'EX_300', 'EX_310', 'SF_2202', 'SF_3202', 'SF_2202', 'SF_3202', 'EX_300', 'EX_320', 'EX_300', 'EX_310', 'BN_3', 'APSCDept_ComputerLab', 'ZZ_KNOX', 'BN_3', 'EX_300', 'EX_310', 'SF_2202', 'SF_3202', 'WB_116', 'APSCDept_ComputerLab', 'BA_2175', 'BN_3', 'EX_320', 'ZZ_VLAD', 'MY_360', 'GB_304', 'APSCDept_ComputerLab', 'BA_2195', 'BA_2159', 'BA_2195', 'BA_1160', 'BA_2165', 'MY_150', 'EX_310', 'ZZ_VLAD', 'GB_304', 'APSCDept_ComputerLab', 'BA_2195', 'BA_2195', 'BA_2159', 'EX_200', 'MY_380', 'BN_3', 'GB_304', 'BA_2159', 'MY_380', 'BA_2159', 'HA_401', 'BA_2175', 'BA_2185', 'BA_1170', 'WB_119', 'EX_310', 'EX_100', 'GB_304', 'GB_304', 'MS_3154', 'GB_304', 'SF_2202', 'WB_119', 'MY_360', 'HI_CART', 'EX_200', 'GB_304', 'WB_119', 'MS_3154', 'EX_200', 'MY_315', 'MY_360', 'BN_3', 'ZZ_VLAD', 'EX_310', 'BA_2195', 'WB_116', 'BA_2159', 'BA_1180', 'APSCDept_ComputerLab', 'SF_3202', 'MY_315', 'ZZ_REFER_TO_FACULTY_SCHEDULE', 'ZZ_REFER_TO_FACULTY_SCHEDULE', 'ZZ_REFER_TO_FACULTY_SCHEDULE', 'ZZ_ONLIN', 'ZZ_DEPT', 'ZZ_REFER_TO_FACULTY_SCHEDULE', 'ZZ_REFER_TO_FACULTY_SCHEDULE', 'ZZ_REFER_TO_FACULTY_SCHEDULE', 'ZZ_REFER_TO_FACULTY_SCHEDULE', 'ZZ_REFER_TO_FACULTY_SCHEDULE', 'ZZ_REFER_TO_FACULTY_SCHEDULE', 'ZZ_REFER_TO_FACULTY_SCHEDULE', 'ZZ_REFER_TO_FACULTY_SCHEDULE', 'ZZ_REFER_TO_FACULTY_SCHEDULE', 'ZZ_REFER_TO_FACULTY_SCHEDULE', 'ZZ_ONLIN', 'EX_200', 'ZZ_ONLIN', 'SF_3202', 'EX_300', 'ZZ_ONLIN', 'EX_300', 'BN_2S', 'BN_3', 'ZZ_ONLIN', 'ZZ_ONLIN', 'ZZ_ONLIN', 'BN_2N', 'BN_2S', 'EX_320', 'HI_CART', 'EX_310', 'ZZ_ONLIN', 'ZZ_ONLIN', 'ZZ_ONLIN', 'TC_239', 'WY_119', 'BN_2N', 'BN_2S', 'WI_1016', 'ZZ_VLAD', 'ZZ_ONLIN', 'ZZ_ONLIN', 'ZZ_ONLIN', 'BN_2S', 'ZZ_ONLIN', 'ZZ_ONLIN', 'ZZ_VLAD', 'ZZ_ONLIN', 'BN_2N', 'BN_2S', 'BN_3', 'EX_100', 'EX_200', 'EX_300', 'EX_310', 'EX_320', 'ZZ_KNOX', 'ZZ_VLAD', 'ZZ_ONLIN', 'ZZ_ONLIN', 'MC_102', 'SF_2202', 'SF_3202', 'BA_1160', 'WB_116', 'EX_320', 'ZZ_ONLIN', 'MS_3153', 'MS_3154', 'EX_320', 'BN_3', 'ZZ_ONLIN', 'ZZ_ONLIN', 'ZZ_ONLIN', 'ZZ_ONLIN', 'ZZ_ONLIN', 'ZZ_ONLIN', 'EX_310', 'ZZ_ONLIN', 'GB_304', 'ZZ_ONLIN', 'EX_300', 'WI_1016', 'WI_1017', 'BA_2175', 'EX_100', 'WY_119', 'ZZ_ONLIN', 'ZZ_ONLIN', 'WB_119', 'ZZ_ONLIN', 'EX_200', 'EX_320', 'BN_2S', 'EX_320', 'EX_200', 'BN_3', 'ZZ_ONLIN', 'EX_200', 'PB_B150', 'ZZ_ONLIN', 'ZZ_ONLIN', 'ZZ_ONLIN', 'EX_320', 'ZZ_ONLIN', 'BA_1180', 'SS_2118', 'ZZ_ONLIN', 'BA_2159', 'BN_3', 'ZZ_ONLIN', 'ES_1050', 'EX_100', 'ZZ_ONLIN', 'BR_200', 'MC_252', 'ZZ_ONLIN', 'BN_2S', 'EX_300', 'EX_200', 'ZZ_ONLIN', 'BN_3', 'MY_150', 'BN_2N', 'BN_2S', 'BN_3', 'EX_100', 'EX_200', 'EX_100', 'EX_200', 'EX_300', 'ES_1050', 'GB_304', 'MC_102', 'MS_3153', 'MS_3154', 'SF_2202', 'SF_3202', 'WB_116', 'ZZ_KNOX', 'EX_300', 'BN_2N', 'BN_2S', 'BN_3', 'ZZ_ONLIN', 'ZZ_ONLIN', 'BN_3', 'BN_3', 'EX_310', 'EX_320', 'ZZ_VLAD', 'EX_100', 'EX_200', 'EX_100', 'ZZ_ONLIN', 'MY_150', 'MY_315', 'SF_3202', 'EX_320', 'EX_200', 'EX_100', 'EX_300', 'TC_239', 'MS_3153', 'PB_B150', 'ZZ_ONLIN', 'ZZ_ONLIN', 'ZZ_ONLIN', 'BN_2S', 'EX_100', 'EX_300', 'EX_310', 'EX_320', 'HA_410', 'BN_2N', 'BN_2S', 'BN_3', 'EX_100', 'EX_200', 'EX_300', 'EX_310', 'EX_320', 'MY_150', 'ZZ_KNOX', 'ZZ_VLAD', 'EX_100', 'EX_200', 'EX_200', 'EX_200', 'EX_200', 'EX_310', 'EX_100', 'EX_100', 'BN_2N', 'BN_2S', 'BN_3', 'BN_2N', 'BN_2S', 'BN_3', 'ZZ_KNOX', 'ZZ_VLAD', 'EX_100', 'EX_300', 'EX_320', 'BN_2S', 'BN_3', 'BN_2N', 'BN_2S', 'BN_3', 'EX_200', 'EX_310', 'EX_300', 'ZZ_KNOX', 'EX_310', 'EX_200', 'MY_150', 'BN_2N', 'BN_2S', 'EX_200', 'EX_300', 'BN_2N', 'BN_2S', 'ZZ_VLAD', 'EX_100', 'HI_CART', 'WY_119', 'BR_200', 'MY_380', 'BN_2N', 'HI_CART', 'EX_200', 'TC_239', 'WY_119', 'ZZ_ONLIN', 'EX_200', 'MC_102', 'MC_252', 'MC_254', 'EX_320', 'EX_100', 'EX_100', 'BA_2139', 'BN_2S', 'EX_320', 'MY_150', 'MY_150', 'HI_CART', 'EX_200', 'ZZ_ONLIN', 'BN_3', 'ZZ_ONLIN', 'MY_150', 'EX_100', 'BN_2S', 'GB_304', 'ZZ_ONLIN', 'ZZ_ONLIN', 'ZZ_ONLIN', 'ZZ_ONLIN', 'HI_CART', 'WY_119', 'ZZ_ONLIN', 'SF_3202', 'ZZ_ONLIN', 'ZZ_ONLIN', 'ZZ_ONLIN', 'ZZ_ONLIN', 'ZZ_ONLIN', 'EX_100', 'EX_200', 'EX_300', 'EX_300', 'ZZ_ONLIN', 'BA_2165', 'ZZ_ONLIN', 'EX_320', 'ZZ_ONLIN', 'ZZ_ONLIN', 'BN_2S', 'EX_300', 'HA_410', 'MY_150', 'WI_1016', 'WI_1017', 'BR_200', 'ZZ_ONLIN', 'ZZ_ONLIN', 'ZZ_ONLIN', 'BA_1130', 'TC_239', 'MY_150', 'MY_150', 'MY_150', 'MY_150', 'MY_150', 'MY_150', 'ZZ_ONLIN', 'ZZ_ONLIN', 'BA_1170', 'BA_1170', 'BA_1170', 'ZZ_ONLIN', 'ZZ_ONLIN', 'ZZ_ONLIN', 'ZZ_ONLIN', 'EX_200', 'EX_200', 'ES_1050', 'SS_2135', 'ZZ_ONLIN', 'ZZ_ONLIN', 'ZZ_ONLIN', 'EX_100', 'BN_2S', 'GB_304', 'ZZ_ONLIN', 'BA_2165', 'HI_CART', 'EX_320', 'MY_150', 'EX_300', 'EX_320', 'BA_2185', 'ZZ_ONLIN', 'SF_2202', 'SF_3202', 'ZZ_ONLIN', 'BA_2165', 'ZZ_ONLIN', 'TC_239', 'MY_150', 'ZZ_ONLIN', 'ZZ_ONLIN', 'BR_200', 'ZZ_ONLIN', 'ZZ_ONLIN', 'EX_100', 'EX_300', 'HI_CART', 'TC_239', 'EX_300', 'EX_310', 'EX_320', 'BN_2N', 'BN_2S', 'EX_100', 'ZZ_KNOX', 'EX_200', 'EX_320', 'EX_310', 'GB_304', 'ZZ_ONLIN', 'ZZ_ONLIN', 'BR_200', 'PB_B250', 'EX_200', 'ZZ_ONLIN', 'SS_2117', 'MY_150', 'MY_150', 'BN_2N', 'BN_2S', 'EX_320', 'BN_2S', 'EX_320', 'BN_2S', 'EX_300', 'BN_3', 'BN_3', 'BN_3', 'EX_310', 'ZZ_ONLIN', 'ZZ_ONLIN', 'ZZ_ONLIN', 'ZZ_ONLIN', 'ZZ_ONLIN', 'BA_2195', 'ZZ_ONLIN', 'EX_200', 'ZZ_ONLIN', 'ZZ_ONLIN', 'ZZ_ONLIN', 'MY_380', 'EX_200', 'HI_CART', 'ZZ_ONLIN', 'ZZ_ONLIN', 'EX_320', 'EX_100', 'EX_320', 'SF_2202', 'ZZ_ONLIN', 'BN_2N', 'BN_2S', 'EM_119', 'ZZ_ONLIN', 'BN_2N', 'ZZ_ONLIN', 'ZZ_ONLIN', 'EM_119', 'BA_2159', 'BA_1160', 'EX_310', 'ZZ_ONLIN', 'MY_380', 'EX_100', 'EX_100', 'BN_2N', 'BN_2S', 'EX_100', 'EX_200', 'BN_2N', 'BN_2S', 'BN_3', 'BN_2N', 'BN_2S', 'BN_3', 'EX_100', 'EX_200', 'EX_300', 'EX_310', 'EX_320', 'HA_401', 'ZZ_VLAD', 'BN_2N', 'BN_2S', 'BN_3', 'BN_3', 'BN_2S', 'EX_200', 'EX_200', 'TC_239', 'EX_100', 'EX_100', 'BN_3', 'BN_2N', 'BN_2S', 'EX_100', 'EX_200', 'BN_3', 'EX_300', 'EX_310', 'EX_320', 'EX_100', 'EX_200', 'EX_300', 'EX_310', 'EX_100', 'EX_310', 'EX_100', 'EX_300', 'EX_310', 'EX_320', 'MY_150', 'SF_2202', 'SF_3202', 'MP_102', 'ZZ_VLAD', 'EX_200', 'BR_200', 'ZZ_REFER_TO_FACULTY_SCHEDULE', 'ZZ_REFER_TO_FACULTY_SCHEDULE', 'BN_2N', 'BN_2S', 'EX_100', 'BN_2N', 'BN_2S', 'BN_2S', 'EX_100', 'BN_2N', 'BA_2159', 'EX_200', 'ES_1050', 'HA_401', 'BA_2195', 'HI_CART', 'EX_100', 'ZZ_VLAD', 'PB_B150', 'EX_200', 'EX_200', 'MY_150', 'BN_2S', 'WY_119', 'PB_B150', 'EX_200', 'EX_300', 'EX_200', 'EX_320', 'EX_200', 'WB_116', 'EX_200', 'MY_150', 'ZZ_ONLIN', 'BN_3', 'EX_310', 'ZZ_ONLIN', 'BN_2S', 'ZZ_ONLIN', 'ZZ_ONLIN', 'BN_2S', 'EX_300', 'EX_100', 'MY_150', 'GB_304', 'SF_2202', 'SF_3202', 'ZZ_ONLIN', 'ZZ_REFER_TO_FACULTY_SCHEDULE', 'ZZ_REFER_TO_FACULTY_SCHEDULE', 'TC_239', 'MY_150', 'EX_310', 'EX_300', 'EX_100', 'EX_100', 'MY_315', 'EX_320', 'EX_100', 'EX_100', 'ZZ_ONLIN', 'ZZ_ONLIN', 'ZZ_KNOX', 'ZZ_ONLIN', 'EX_100', 'ZZ_ONLIN', 'ZZ_ONLIN', 'ZZ_ONLIN', 'EX_320', 'ZZ_ONLIN', 'PB_B250', 'BA_2159', 'SF_2202', 'ZZ_ONLIN', 'EX_100', 'ZZ_ONLIN', 'EX_200', 'ZZ_ONLIN', 'BN_2N', 'BN_2S', 'BN_3', 'BN_2S', 'BN_2N', 'BN_2S', 'ZZ_ONLIN', 'BA_1160', 'SF_2202', 'BN_2N', 'SS_2102', 'BA_1160', 'BA_2165', 'BN_2S', 'BA_2165', 'SS_2117', 'BA_2185', 'BN_2N', 'ZZ_ONLIN', 'BN_2N', 'EX_300', 'EX_310', 'ZZ_ONLIN', 'ZZ_KNOX', 'EX_100', 'MP_102', 'ZZ_ONLIN', 'SF_3202', 'ZZ_ONLIN', 'ZZ_ONLIN', 'EX_200', 'ZZ_VLAD', 'ZZ_ONLIN', 'ZZ_ONLIN', 'EX_320', 'SS_2118', 'EX_200', 'EX_200', 'EX_200', 'ZZ_ONLIN', 'ZZ_ONLIN', 'ZZ_ONLIN', 'ZZ_ONLIN', 'ZZ_ONLIN', 'ZZ_ONLIN', 'ZZ_ONLIN', 'ZZ_ONLIN', 'ZZ_ONLIN', 'ZZ_ONLIN', 'ZZ_ONLIN', 'ZZ_ONLIN', 'EX_310', 'EX_320', 'ZZ_ONLIN', 'HA_410', 'ZZ_ONLIN', 'SF_2202', 'ZZ_ONLIN', 'ZZ_ONLIN', 'ZZ_ONLIN', 'ZZ_ONLIN', 'ZZ_ONLIN', 'ZZ_ONLIN', 'BN_3', 'EX_100', 'MP_103', 'BA_2165', 'WY_119', 'BA_2195', 'SF_2202', 'ZZ_ONLIN', 'ZZ_ONLIN', 'EX_100', 'ZZ_ONLIN', 'BN_2S', 'BN_3', 'ZZ_ONLIN', 'ZZ_ONLIN', 'ZZ_ONLIN', 'ZZ_ONLIN', 'ZZ_ONLIN', 'ZZ_REFER_TO_FACULTY_SCHEDULE', 'ZZ_ONLIN', 'EX_310', 'EX_310', 'ZZ_ONLIN', 'ZZ_ONLIN', 'ZZ_ONLIN', 'EX_300', 'ZZ_ONLIN', 'EX_100', 'BN_2N', 'BN_2S', 'BN_3', 'EX_300', 'EX_320', 'HA_401', 'ZZ_ONLIN', 'ZZ_ONLIN', 'ZZ_ONLIN', 'ZZ_ONLIN', 'EX_320', 'ZZ_ONLIN', 'ZZ_ONLIN', 'EX_310', 'SF_3202', 'WB_116', 'MY_150', 'EX_300', 'BN_3', 'RW_110', 'ZZ_ONLIN', 'ZZ_ONLIN', 'ZZ_ONLIN', 'EX_310', 'ZZ_ONLIN', 'EX_300', 'ZZ_ONLIN', 'ZZ_ONLIN', 'ZZ_ONLIN', 'BA_2185', 'ZZ_ONLIN', 'ZZ_ONLIN', 'BN_3', 'ZZ_ONLIN', 'MY_150', 'ZZ_ONLIN', 'EX_310', 'ZZ_ONLIN', 'BN_3', 'ZZ_ONLIN', 'EX_100', 'EX_200', 'EX_310', 'EX_320', 'BR_200', 'ZZ_ONLIN', 'EX_100', 'WB_116', 'ZZ_ONLIN', 'EX_100', 'BA_2195', 'BR_200', 'SF_2202', 'ZZ_ONLIN', 'ZZ_ONLIN', 'ZZ_ONLIN', 'ZZ_ONLIN', 'ZZ_ONLIN', 'ZZ_ONLIN', 'ZZ_ONLIN', 'ZZ_ONLIN', 'ZZ_ONLIN', 'ZZ_ONLIN', 'BA_1160', 'ZZ_ONLIN', 'ZZ_ONLIN', 'ZZ_ONLIN', 'ZZ_ONLIN', 'ZZ_ONLIN', 'ZZ_ONLIN', 'ZZ_ONLIN', 'ZZ_ONLIN', 'ZZ_ONLIN', 'ZZ_ONLIN', 'SF_3202', 'EX_310', 'HA_401', 'HI_CART', 'ZZ_ONLIN', 'ZZ_ONLIN', 'ZZ_ONLIN', 'ZZ_ONLIN', 'ZZ_ONLIN', 'ZZ_ONLIN', 'ZZ_ONLIN', 'ZZ_ONLIN', 'ZZ_ONLIN', 'ZZ_ONLIN', 'ZZ_ONLIN', 'ZZ_ONLIN', 'ZZ_ONLIN', 'ZZ_ONLIN', 'ZZ_ONLIN', 'ZZ_ONLIN', 'HA_410', 'ZZ_ONLIN', 'BA_2159', 'ZZ_ONLIN', 'EJ_209', 'EJ_BN', 'EJ_BN', 'EJ_330', 'EJ_320', 'ZZ_ONLINMUSIC', 'EJ_209', 'EJ_BN', 'EJ_120', 'EJ_120', 'ZZ_ONLINMUSIC', 'JP_280', 'JP_280', 'JP_280', 'JP_280', 'JP_380', 'JP_380', 'JP_280', 'JP_280', 'JP_280', 'JP_280', 'JP_280', 'JP_280', 'EJ_BN', 'ZZ_ONLINMUSIC', 'JP_380', 'JP_280', 'JP_280', 'JP_380', 'JP_380', 'JP_280', 'JP_280', 'JP_280', 'JP_280', 'JP_280', 'JP_280', 'JP_380', 'JP_280', 'JP_280', 'JP_380', 'JP_280', 'JP_280', 'JP_280', 'JP_280', 'EJ_209', 'EJ_120', 'EJ_130', 'EJ_130', 'EJ_120', 'EJ_BN', 'EJ_120', 'EJ_209', 'EJ_130', 'EJ_330', 'EJ_120', 'EJ_120', 'EJ_120', 'EJ_120', 'EJ_130', 'EJ_BN', 'EJ_130', 'EJ_130', 'EJ_209', 'EJ_WH', 'EJ_330', 'EJ_130', 'EJ_130', 'EJ_330', 'EJ_216', 'EJ_120', 'EJ_120', 'EJ_130', 'EJ_BN', 'EJ_130', 'EJ_130', 'EJ_130', 'EJ_330', 'EJ_130', 'EJ_330', 'EJ_209', 'EJ_120', 'EJ_130', 'EJ_130', 'EJ_330', 'EJ_BN', 'EJ_330', 'EJ_330', 'EJ_209', 'EJ_209', 'EJ_209', 'EJ_130', 'EJ_330', 'EJ_120', 'EJ_120', 'EJ_120', 'EJ_120', 'EJ_120', 'EJ_130', 'EJ_BN', 'EJ_130', 'EJ_330', 'EJ_WH', 'EJ_330', 'EJ_130', 'EJ_130', 'EJ_330', 'EJ_216', 'EJ_120', 'EJ_120', 'EJ_120', 'EJ_130', 'EJ_BN', 'EJ_130', 'EJ_130', 'EJ_130', 'EJ_120', 'EJ_330', 'EJ_WH', 'EJ_130', 'EJ_330', 'EJ_130', 'EJ_209', 'EJ_120', 'EJ_130', 'EJ_209', 'EJ_209', 'EJ_330', 'EJ_120', 'EJ_330', 'EJ_330', 'EJ_330', 'EJ_330', 'EJ_330', 'EJ_330', 'EJ_BN', 'EJ_130', 'EJ_330', 'EJ_330', 'EJ_130', 'EJ_130', 'EJ_130', 'EJ_130', 'EJ_130', 'EJ_209', 'EJ_330', 'EJ_120', 'EJ_120', 'EJ_120', 'EJ_120', 'EJ_130', 'EJ_BN', 'EJ_130', 'EJ_130', 'EJ_130', 'EJ_209', 'EJ_130', 'EJ_330', 'EJ_209', 'EJ_120', 'EJ_130', 'EJ_130', 'EJ_215', 'EJ_330', 'EJ_330', 'EJ_330', 'EJ_BN', 'EJ_130', 'EJ_330', 'EJ_330', 'EJ_130', 'EJ_120', 'EJ_130', 'EJ_120', 'EJ_120', 'EJ_120', 'EJ_130', 'EJ_BN', 'EJ_130', 'EJ_130', 'EJ_209', 'EJ_130', 'EJ_330', 'EJ_120', 'EJ_130', 'EJ_216', 'EJ_BN', 'EJ_120', 'EJ_130', 'EJ_120', 'EJ_130', 'EJ_120', 'EJ_130', 'EJ_120', 'EJ_130', 'EJ_BN', 'EJ_120', 'EJ_130', 'EX_100', 'EX_200', 'MY_150', 'MY_315', 'EX_100', 'MY_150', 'EX_310', 'EX_320', 'ZZ_KNOX', 'ZZ_VLAD', 'EX_200', 'MY_150', 'MY_150', 'EX_100', 'BA_2139', 'EX_300', 'BN_3', 'BN_3', 'BA_2185', 'ZZ_VLAD', 'EX_310', 'EX_300', 'EX_200', 'EX_310', 'EX_320', 'PB_B150', 'MY_380', 'SF_3202', 'GB_304', 'SF_2202', 'RW_110', 'RW_117', 'BN_3', 'PB_B150', 'ZZ_REFER_TO_FACULTY_SCHEDULE', 'GB_304', 'ZZ_REFER_TO_FACULTY_SCHEDULE', 'ZZ_ONLIN', 'ZZ_REFER_TO_FACULTY_SCHEDULE', 'ZZ_REFER_TO_FACULTY_SCHEDULE', 'ZZ_ONLIN', 'ZZ_REFER_TO_FACULTY_SCHEDULE', 'ZZ_REFER_TO_FACULTY_SCHEDULE', 'ZZ_REFER_TO_FACULTY_SCHEDULE', 'ZZ_REFER_TO_FACULTY_SCHEDULE', 'ZZ_REFER_TO_FACULTY_SCHEDULE', 'ZZ_REFER_TO_FACULTY_SCHEDULE', 'ZZ_REFER_TO_FACULTY_SCHEDULE', 'ZZ_REFER_TO_FACULTY_SCHEDULE', 'ZZ_REFER_TO_FACULTY_SCHEDULE', 'ZZ_REFER_TO_FACULTY_SCHEDULE', 'ZZ_REFER_TO_FACULTY_SCHEDULE', 'ZZ_REFER_TO_FACULTY_SCHEDULE', 'ZZ_REFER_TO_FACULTY_SCHEDULE', 'ZZ_REFER_TO_FACULTY_SCHEDULE', 'ZZ_REFER_TO_FACULTY_SCHEDULE', 'ZZ_REFER_TO_FACULTY_SCHEDULE', 'ZZ_REFER_TO_FACULTY_SCHEDULE', 'ZZ_REFER_TO_FACULTY_SCHEDULE', 'ZZ_REFER_TO_FACULTY_SCHEDULE', 'ZZ_REFER_TO_FACULTY_SCHEDULE', 'ZZ_REFER_TO_FACULTY_SCHEDULE', 'ZZ_REFER_TO_FACULTY_SCHEDULE', 'ZZ_REFER_TO_FACULTY_SCHEDULE', 'ZZ_REFER_TO_FACULTY_SCHEDULE', 'ZZ_REFER_TO_FACULTY_SCHEDULE', 'ZZ_REFER_TO_FACULTY_SCHEDULE', 'ZZ_REFER_TO_FACULTY_SCHEDULE', 'ZZ_REFER_TO_FACULTY_SCHEDULE', 'ZZ_REFER_TO_FACULTY_SCHEDULE', 'ZZ_REFER_TO_FACULTY_SCHEDULE', 'ZZ_REFER_TO_FACULTY_SCHEDULE', 'ZZ_REFER_TO_FACULTY_SCHEDULE', 'ZZ_REFER_TO_FACULTY_SCHEDULE', 'EX_200', 'EX_100', 'EX_200', 'EX_100', 'TC_239', 'BA_1130', 'WB_219', 'EX_200', 'EX_200', 'ZZ_REFER_TO_FACULTY_SCHEDULE', 'ZZ_REFER_TO_FACULTY_SCHEDULE', 'ZZ_REFER_TO_FACULTY_SCHEDULE', 'ZZ_REFER_TO_FACULTY_SCHEDULE', 'HI_CART', 'BA_2195', 'HA_401', 'GB_304', 'WB_119', 'MS_3154', 'EX_200', 'EJ_330', 'EJ_330', 'EJ_330', 'EJ_330', 'EJ_330', 'EJ_330', 'EJ_330', 'EJ_330', 'EJ_330', 'EJ_330', 'EJ_BN', 'BA_2185', 'BN_2S', 'EX_200', 'EX_200', 'EX_200', 'ZZ_REFER_TO_FACULTY_SCHEDULE', 'ZZ_REFER_TO_FACULTY_SCHEDULE', 'ZZ_REFER_TO_FACULTY_SCHEDULE'] \n",
      "\n",
      " Student set:\n",
      " ['0x0397AEB2839FA0BB7B451D4EA1040FA6C0E5A5AB', '0x12F9AA88AF116ADD23FF2B5814192E7375F385A1', '0x091D1AB8F8F588EBF18A6F0DA38A38C2F2DBD17F', '0x0CF071303D592F5428293E7D37E7D5E63583CFB6', '0x0CEA39BA59934FDB3F754C014547279619E46270', '0x10A8DEB4750A4C04F7CE72CBDD9D921B08856520', '0x02D528EC50851595C6CDB8FC1818F80507D9F593', '0x0C195B614344FB7E2B132AE6FA538F7EE30AE724', '0x03165EA7D713DCB2902DC50FC3BB5065C5C3D149', '0x0FA6BA86049A19EDFE6FCD34B13D729852C9C91B', '0x05874FC2203BAD8D3404D88A35165EFC1E3E7861', '0x0DA54BD41B45926EBA77F0E49B4B2F8859409B82', '0x11D4E22DC32C8DF13E493B0A0D637B4B6EEBEC24', '0x0C6ECCEDF46ADA38CE02F7AB00FA5818DD14EC6D', '0x04902F1CFDC3463BC5E29D00FD304D8545F3B314', '0x1278D8AF29B7BE8F442E2359FDEDAC0A740FA08E', '0x094828C5D1DDCDA8CB594EEF328E742C699E3F13', '0x12A841293277B8843A30443AAFF6949DE7934146', '0x0828C13A2C0F487484B3BFA3AE6233918C8463DC', '0x11505C1518002EBC5576B13A432AC72DAAA64A9D', '0x12B6BB483F0BF6852D5291DB517BE9E26610802B', '0x103787F033FF3F94D91531BA29C8558C6A4580E7', '0x12965E9F694E8A825987895DE15209FA7DEC02DB', '0x05F0C3E325911506DD79EDD06BBC2A27B271B0F5', '0x05303D16E4D095EF69C39294487212C8DC5CE4F2', '0x083FA141B21971D8043DB6650C9A46311EACE330', '0x0D3B9B7101787DBDECA03352B3E56622773A8281', '0x0742B346ED9F19B08BDBC6EBFCCA14E13B891818', '0x090D6111B679E6A123808E55998268E1B95A803C', '0x0E7D1B0C6FD46F65012FCCA355F71FF210537711', '0x0002FF223364B9840210B8000907043A6B4EE313', '0x052545A6B108CA7432D6508B9E1CE3646F715599', '0x111EBEBCBBDB10817EF956297F9A27BB77A3B444', '0x11C8CBB6B147988814DD1190185A78827CBEAE03', '0x11898B936E391650E35AF0BCF4DDA2EF9E7E9DC6', '0x0799E195BF43ACB6B00609A4A5EECC0F3E20EFEE', '0x09BBCC407A1030AD3B5A5AAB945DDD26F9389914', '0x0336FABA355111B365776923129B452C8DD9616B', '0x0C77C68FD06629FFEAAEDB06C5CB31753FB6524F', '0x126764B7F234C97F031D2ED7A43BE41ABE6E015D', '0x03BF6F8BD6C196D2ACCFD5BC41A36608F5A1EE9C', '0x06CE2CD3752BE001B7367BC9BA06B8637BA077AC', '0x05ADDFB62705A9323AC9D6B0FBC53C03FD124500', '0x0BFE05B9E96E4EBEE94F73B158F1ED7AB3788F6C', '0x066EC6FCEC4264C07BAA23FAB196C0857EB13622', '0x1524571EB3449AE896A228AB91955E567AC178BA', '0x12CCAD2F7F2816592CF666DF637A3DA0FC8D8BC3', '0x09F952DA4DD21410EC70A2FFD290C3BC397EB00E', '0x104E554E1D8C7B2B129635D7F6FC22ED3332120F', '0x11078D402BFC652D93810FC942EEBA6DCABD37E5', '0x040A83A3B3AEB4C173230603CAFA5B6A53C0CB6B', '0x01A95E5341B51EEE1CD8ED67D5AC8B4E16453E4C', '0x11D88578AE9BF82571056088B743ECDB700018BC', '0x00E400091CFB9EA5C7A38AE247064672323FE114', '0x069106501BEACAA1AB100D931FA5286A15210C7E', '0x08DBD59E0F5C0C0F58CC493221175FA3B1668BA0', '0x0266E54D74161FEE416FAAF2E8379A92F55210F1', '0x13236165BE0D384CC606A81071429F877096C464', '0x136A9C6F4D8FFF6ED302D3C5D0CED6E1B459EBBE', '0x0B110400C29B32E7AFBD60316A68985BC7023DAC', '0x097935210C2D1E075205F3761B07C3FD56A8FEC8', '0x02A15BD24F8AB2FD994941FC5A8D88E60D1EB195', '0x0A13B5B95D6DD9AEC79AF3341139A46C0BB44ECD', '0x029562C92485DEB8F795480F1E57ACC4A1E778F9', '0x15002623DFB659A0E3EAE7ACB2540596DE94E596', '0x10D530801C64D4F9FA872CBE07270ABF1F296090', '0x063F48A8304C46F84367351F72D85FFD01926984', '0x0264031FA6B8084CB3F6E72294C4834C8B89121B', '0x0672F33601BE16FE00CCD2E8CC12A711F11DC76A', '0x15325A37BBB53345723A59CE953A6CA1862E8B8A', '0x0800AEA56A9551E65816B6C648A418D3034553F7', '0x0F7687655D61CA410CB36EBF1FBFA53B527550D5', '0x12EB03C3A7707A8C0727F64F8487AD420DF076C7', '0x03A25794D1C80CDDA23419A840BE6A0E2E5D8E43', '0x0E4086D5C02D028399AAC080935F1A12BD24DBBE', '0x10B527D7FE0F98B57E3A9CB4815BC2BA3E496A7A', '0x00F3EAC2B60FA1D0DA2B49D69168337C40239C8E', '0x051C1B047F461936297AA73BE5D7FC569B3AA033', '0x1455895641E99ACD9C6AB9CDA1044AC66EFE8DD8', '0x0C239156697371E9526D4620F15453FEABE4243E', '0x0EF24E473F04C0B65CE2093E29C79AE2C8BA053E', '0x04E54B8318A3E560BEE3C5F0CBE1DF18D9983C74', '0x05A79525FB2C9BE178582FDEC186A5054B667BED', '0x0E35AFCB41FCBEA5C4468E9D9FFC5B7824010274', '0x115C77BB8D1FE1FE3474E31773DB841AFBA793BF', '0x03743CD83B9BA8D762C673F8F8B1185581D31872', '0x1287143557A9CD8EEC47E48745ED8C9BC1A5F127', '0x01828CF2AEF2CBD5D62D08DA2B1825612339682B', '0x0883D42ACF61A85986ED3072BD3E2BD9F4FA0579', '0x0F576F9A7C6FAF1B12C83542F544CBAC592D17B9', '0x130B00BE330F5765394CA32E115670CA009D0FE9', '0x02B1A47BE704FE664852765BFA4F07E3C39307D2', '0x02EAC1EE9811214A3720B01BF136353DF9C7C4FF', '0x0937391E4B580B3EFDDFB1B1538F45D144E6540F', '0x032957EDE4D4596FB9B3FF32FEF52A121A42F7DA', '0x10C0C54860E6CCA12A412A38DF0C9EF241801ECC', '0x0FE2C1C61F653227FEC36792FFC7B0E2C29A6511', '0x06D326A3996640B6E2BA543B6255BA4265F99C3F', '0x06BBF04A0E1EDC5C6F620E32F82DFE1458B91ED2', '0x0BE3D33CF02E49B3D0DECAE887918034BE8A0052', '0x050D4CE9CB832F2BAA9C0B24A2CA09B1B63FC759', '0x0BB782FFF61B01C63B8B0394CCEDCAB43C3147C4', '0x10EEA5FF3D2DA7F8BD8221ED4021BF3539150011', '0x0CDA9B101D0115F81A9E771E96D57E81DBC13689', '0x04D34E78C3F5AB989ACC5BB899FD683D9197D0D3', '0x0FC8F5B04A7B20F862F38DC449BA31F7F53A1308', '0x0F859A54F792789AE98C4982EA30A595860C9D16', '0x0A7B344DAFD2FE5C18DC5B0A8B6E104B58BFB7F6', '0x06B35E1ACE848948DF99D2DB30007C61AE80B23E', '0x0A13520A950652542835852752CA61DED8E8E6BA', '0x0206E042A49F01CA14FBF08CE4F5699EA6818DE2', '0x0A0ACA35F47532747F5ADFED67F36574A74B75C8', '0x1112762BF630AB48C737D0485D267869564B5206', '0x0035C6E9A3D00ECE1E970F098EC0A94BD76BEC78', '0x0BEBC6610A97D87FF28DD7E20770DEBE9CD7F26A', '0x11D34AEFB737DB1E430EE1909D1973D407305EDC', '0x1468CDF950A9F21C5CB0BFB51B58ADC0F84B40D6', '0x07A7B07242C3FFB2E57A4FBA700BBC80C1024422', '0x03B03A2ED009B4AAFB0F44B8F0BBEC15507A7911', '0x0994DB29AB155770BDCCACD5BEF6D9B901DF1B8E', '0x0AFD655390C3B1A9D4AAC9A694F5FCA4CD9333AE', '0x061379F292ECE1B4F8DB71B37182845F008B22A7', '0x09A077A9137A1D8E1EB895AAC7A58B388E9D73EF', '0x0C28866A71A3C6F24C41747BB1AF3B33F20B911E', '0x0686E59047518C77A1FCB65513DD502BE623BF4F', '0x0E7A09B4C54A3EB3712611E7DD8B4A8DB44ACC67', '0x00AD13843227BC3F0DD5CEE1148A0B13D7CD4186', '0x0EF46C9489DEFFA7AB42A0390F9F4D40D7B970AD', '0x0B3F9E3BAFE90F60000DF30F503836E615688DB5', '0x0C37829A10DB763BC47B37BF8D5B5F1CC5AA00D4', '0x04EAE86C95E1D80305B79B3511B65883DC8DE9CD', '0x07D64BD310D69BFDA54AA1AA8517E997FEC3002B', '0x091C622E6A5304D8F2BBF41FB5504C27134EBFA1', '0x0F34D6E0E5A861C8C031906D5594A5DB066ABD45', '0x0B6948BCE2E44C3379E95FD60DE810E38E324CCB', '0x0D4B34F5843DB9DF588B0854CD1918516BE7235C', '0x105184D083D38EB2E35D496DDA08B7B98EC58051', '0x13F232182E350376CBF2657128D3EA48A17E6FD5', '0x1165E54202CC5B53693A470BD35AF2A4F5009DB5', '0x0BE1244BBE742C7A50258492572B5C3ACE425869', '0x12DD681D93D9FECAFAE62CF47BB812FF511D7A47', '0x11603BFB434FBBB01C1E657D4E17FF7467E65A08', '0x0ADAE24F8D8F25EB66EC70EAA5167DDC60BD3526', '0x15661D44A6DEFF1922937F22A73411A238331703', '0x074223ADF5964CA27591A448185A91DED70E16C0', '0x0A364AF4A0D509691559E109D8E161E987AB15D1', '0x020F97DC5A83DDEF070EA7FD35025D9FD12BC7DF', '0x14204256E442F671765E42FE084E89FE0AA71453', '0x15698616B7B1051E1D402B152BCC092ABA084917', '0x0010F32B4F8F75A13D8DF229E7F9ECD03FCC8109', '0x109609D1E876AA17BBC7BE2DE63305C5F85739FF', '0x06DE8A479A3732A0635BE5F7E153982E3D24EF14', '0x0B7645153F645172E7C767316B5BCD3E929BAD92', '0x0501C9DF67EC8A6E562E10E959144B9DE93D11DA', '0x0FBD773FA00714AD72B18BD27345699921D0A743', '0x0AFC780AA22DB0BF6B2DACE5D9EBBA8CED660573', '0x0139C76838AF4F1AEF9D9DD3E265112DF350A7C8', '0x0D836EBF985144B5A931B27060C9B21BA773D0C5', '0x08C0FD9078CB626CFCD2471EEAA188DA73BEB3F7', '0x123B1CAD7A78E752125FB81992E24D3233B20AD2', '0x128353FBA7F328426DF160EC0BAAFA0225723A6F', '0x0EDD7E3CED43BE3DFE92E06893E9AE38D963347B', '0x0767483F7357F05772C8BE7F966E4C53EF064782', '0x10875ED700F6F176479D0BE76D87721B412E067C', '0x1447885A449A3547422DEE5B8D79611FDC80F76F', '0x0BA44006C5BB159464207830B666EE6B3039C825', '0x109DB2646EA184882A49256CB30A5979FDDE25F7', '0x156AA8BB2D8D743414FCC9112F0D5373F432DFCA', '0x0157B463B6B3E33F325CB434A1E5C7B42C01B400', '0x10F44D0164CE98467C77987548ADE68DF73C246B', '0x15745E4E067F8141209E5DEAE17ECE8F259CD0C3', '0x1246AD16ED0E42D561066C942981D16D831846AF', '0x0E47C66C17E97C3384ACDCD1D4746652C68F8E9A', '0x0C41B8518137CB979209586BA190AE5CF3B84EBB', '0x0B9F72F007137ABE0C78EF97C791019B4435E6A5', '0x00C648B3C4DD9B158A27944C47410B18565B8496', '0x144865572830D55443072080B0011167530354F5', '0x0677AFC7B1F64A7FDCD0A003372AECAFAB3EF722', '0x0A7C1EF335DB28A039843B0696154425E11440C4', '0x02797216F0A5FD6837A419B6E26F922EDEE0F687', '0x05962C962324DD777EAD53376559C4518E6B3DA6', '0x06353BFE817DA33720C3AF44C400F40A08AE71D8', '0x141AFA90B9041981CBFD4C9FDF7AB1369A0C8417', '0x0787767B427E7EAC21A357CA6F8CDF1829C49235', '0x00F58F35DF022A73815C25D6B05FC5432A74B015', '0x0A0A01C13A94DD4C7EECB348112D9A3CC74A6D7A', '0x14FA5C28106AE20867DA46F6AF8324BA5814A4B4', '0x15F03454793131534FBCCDE621A02048D9429167', '0x064D06836DF7A2DBD673774B8A6BA2BC9719D7D8', '0x1182B7F9350B108F0D4035EEDACF27141C6958CE', '0x0547B6132D1EED39F69339F9393E48786C198ECB', '0x0BF72EF8A48FD041E02BC923845FBBA099171265', '0x10C9603F9F7B1E46AAE7A8668F48705B39A67AAF', '0x02CEDB4C747CE492179D473AFEF5866D4E68367A', '0x15A45786EE983EEBC2F6B02BECCD6E063FB1FA1D', '0x070241D4B02E13CBCADA21DB11992596F5854FB2', '0x0C3C2EE21D765E729E860617F1192DCC2ACFF07A', '0x0B9901ACB2F23B16D323DD970FBCCDF83062A445', '0x12A3A9119C035216200779EC78775463AA33D309', '0x06B3DB3A995E6F0AF6F7EFFEBA8F1F7FDD9EB791', '0x0DC61EDBEABA25980FFF1532BA0C5A8E31D76BDC', '0x083E2C03304E936013C3742A9DA95A841CF308C3', '0x0A762713491B25813B9826EC3F2337054B0C239C', '0x02F367D04BD21EB4437106962B12E2664D8AD42B', '0x0E22228340BB04384BF01884A9DC85DED4E69AA1', '0x089818AAFB0F0DE0DD0C260C9065986049A94911', '0x0876DB707A54168BDE2E0D9525BD29B81C36FEE5', '0x13DA796CD9452EEA4CC315B3C635C979F323CCD4', '0x024A44A98F3F329582F056CDCDC761D729787148', '0x0B727947E049BC6251399C19F87FE038543A5129', '0x103FE651A307E8217EBF2E2F9E7FD8CE195C3A5D', '0x089C4CFFE75D9C34173574B2670D0DE59BD547B0', '0x11713E4F42C2A95ADB2E7E5707465D69BFB1DA79', '0x1316AC13C582D19FE4F9C9FB886AFE143835B839', '0x0AAF43CC2D77910EB405D6F66E1135EB1FD55FB1', '0x0F3D69B92F8F6DEAA239AFAEFABB4D6D32A2131E', '0x1490E32BFF8CED7C7FB53F566BE865CAAACDD684', '0x052D3920D0C43277463A480B2F1506BD8A12AAE1', '0x093FB43DA4D001939DF4A9A5F0A1CE017D7F8BCC', '0x157C1C396CCAC1FBA33A454850D84DCD2CAB16F7', '0x0A6EC74FDF7FB2D17BE7C1A136A9DEFAC3C9C29E', '0x127D762B2A0EF7DB73E7297A8B2C9B85785777F9', '0x158E6EF5EC9D49C3C0F8694F6C921945506DD891', '0x1337CD64C67A0B9A959A6C9DE8EAFB45E233D522', '0x122274F1542D67171DE85595C31DC27A283E1045', '0x06651843752710D682C28262FB6845EF9E4DF8A1', '0x05EDCE94B54074DF17352D4195379CE71DD87B74', '0x08B4EF645E4F4B75E1CCC0182EAF3FA7D19E7F12', '0x0253616FF33C25093798F901D36BAF95F2497D8F', '0x0D3509EB1C059DCCE2464A9A3CC797558EA53F4A', '0x00A79FC929C1AC5D6124A25E1C72A3F3BBA02AC1', '0x08A29D5772B89A0E6905A11A3700BF1D70B6BC3B', '0x0F4AD6FCBADA3B7DBB318CBFBFEBE223041BBAF6', '0x04E085277A3EA669B1EEC20273CDA5AF60DCFF23', '0x02881F0E9FFF6CAA46A5D732A048273343C41280', '0x00B1FED3EE084B4F0E52F291E2A4B3E80AE019C2', '0x0DC5B42BD78BA0EDEB3810F06CA431737E3E60A6', '0x0407CDEA26F1F579C5C0203EE5707C76BEA5D3DD', '0x075FA3158BB53692AD72E445412E65A90B7BD97E', '0x00E36B9B3F70DB14C72A9AAA38725B5534B57993', '0x064221AC8D2851F61488FEEEA1F6035B781C1B76', '0x0A8092C6AD3F4B7D4D0355D3FA88A824853696DF', '0x12A5418BD37940334C6142724E8CB71C3EB5296F', '0x0A25EB7FC8953C6E3EF15182EFC4DB5EEF4A32D3', '0x0F6B97A51611D5AE24F4764356AA4D2B28E29145', '0x0D717B1E25FA249C72F53A323BAAEB63CD67AD6C', '0x06A2C4DCA445816DF6A880FE57EB984290D6730B', '0x0EB7287433426D32E7C8E89AB1C1A592A63AECD6', '0x09C23C28A7FD351629CEA78240849F288826CB3A', '0x04785008F50134C7D0EBD7CFBD9F2A044015A60C', '0x0AAEB17ADC29111E02FFC77C9386ED10FF0B356B', '0x0038A8D0ED175C5D4160C299035830076FF5118D', '0x08EB66E4565076EC4C9B139027DCECD1237E1CB9', '0x04F718D03834E7016EF4203BF06E192989DD73C3', '0x0C470F3ED1DE6A5874751B94D17AFEAA9884DA53', '0x0FCD7F60CC6D9A5C186DCDC9798FFECFF0A33ADA', '0x0F783C41F4BD3330F01E5156709AF686C8632B18', '0x13595F60CE3AD13999B51DE22F3ACAA79E38BFD3', '0x100C01367DB07B5EBF11E51DCF4B87C6E1733BE8', '0x02C08538A99E45EC139A138BA4C9D3877BB858F9', '0x115A324042E74B2A7F9B5A7FBA2A88D8B4D0881A', '0x09D633BEE75D0DB1E02DE4280EA8AD66D24FB6E6', '0x0A1B83D9555C83037693DDDED86D8CC436F4221C', '0x022B32ED7918F991CFC87A7088563957D1AFB5F0', '0x069C86239BCB6BB67CAC5D888EF20B4A2E462EDF', '0x12756BDF13D23D5A6013553A3291877234CF9803', '0x001ED7DD124B5CB4B7E2640E8F2A4BCC28695EA3', '0x06C2C9BDB2E870D51BCEDDDF16504C8F5CE894C6', '0x14C89A5237377CC5DDACD66C338C929AA8D26CCB', '0x05A7FD16865F83CB4D8C9CD5182033F0A85B8E7F', '0x02EE9AD9C6BFB5D865764FE7CC66710D14D9CAD9', '0x0B8C4D722CC52154C78A40A4C61F47E8E6496F5F', '0x0712E9A755196279595A4161FFE9A028128C8D52', '0x147830A0E94B8BCECEA325BEC559920EB4D04950', '0x1038F643EF5E6927BA9B2BF0E9D7A8D167835E1A', '0x0A4ED140E0E9EAE92A1049E47485FE1E89BAA768', '0x0F4D86B3E9D65DFEA2532A29DF08BC30848C2D33', '0x1352B79278DEFA42F8895690584CC47EEB5353DF', '0x0D3496FB2194EA49A47F969E2293D2DC315C2021', '0x0CCE9EB5C2607D8199BEFC8AA96AC8273AD358E0', '0x114A3B6948CB6CB8377260355350773390313032', '0x06D9773DBA659BBFDBEC8641EC5F7FF4CA7A5AB4', '0x079994DE6FEDC000090ECA1859B31D1A68F0037C', '0x13457B61636B1EAC52884FEB3560BD4BF54A64F6', '0x06D7964868F35C3019D537EF1F93AAFCDFBB5969', '0x12F708F52354289CF02766A3E514CB5B22BEBE71', '0x084ADA0238B36A12B162B77BCFFCEC50A4937244', '0x086C7E7B07EFA8D79E49CAD61E4C42C8E2275608', '0x05507C5BEB595DD47AF7A99B5A1B2DAE4A4BE563', '0x07A9CDF4EC92059BBA9F8118DF68E4C1A89C1898', '0x148C111C786FC6F5B1DEB63C921E0839316E90F6', '0x136A0FA9C3E0C4E5298FE22FFD8BFC485BFD9905', '0x12CC387269FAB4EFBE21E5956D8397B0D8C689EC', '0x137636FB0678DCAB78660ED1B5CA5C2AC955BC3A', '0x0971BC2A972C0F0CCBD7F2082B2D63B616796ED2', '0x0A606B54C4BB8898BB42AD7BED8D2BEA581F232C', '0x0AF7410C8D054463936A7F4394ED6EE95FCF3319', '0x01FB7BEBE6FC77C198955614518CA4C726D88CC2', '0x08EB5C39A2116B4250B32B18B0D50D39C0612D06', '0x114C30CA48E6C1D145FB70F81FDD65DEF3936EB7', '0x0D22189DE6529BCBD22063B13A845E72CB550CCB', '0x09B84A697D01DE2377D1DCA2B17296708455CE26', '0x066E17005CEB3B56D69C09C3A816705F2453D29A', '0x0CFBE2CB50EE7D7AFF14575A7FC2842793557815', '0x09060382CB9A46222A71132E2ACC89A12B5EC889', '0x040AD7E39AF8D2D47D18A28518B18E0D8F76FC02', '0x03311425FA86E4FFFF7910F3C92E12F4A2908BC9', '0x0B37F5DB1A83A880A5BC2CD506AB40A0ADE4FC86', '0x0D7904B637D127009DC5A281B237D52D210FD0D8', '0x026090D921194847B1D304B7EE4471877CB67961', '0x101489F21D9F06479E5D95003E5B4916B26E6FA9', '0x0D50A8F10E91C4054D26F22D5CDFA17E4A84568E', '0x0CAEA4C4C5E2C9B105D444F4A4154DAF49BE55B0', '0x036737072580DAC8FFEAEEC01CF3F0F09F615D8E', '0x0B59829B3110AA4AB97E0BD8083564AD3B9ED5A6', '0x126D1E3F6315A733C332A4D755354486650CA630', '0x0068862EFE36B41C43E4D6BAECF09029E6FAB055', '0x0D3047BE294DD6D5277B658D011851E24AD7789D', '0x150F1B5BD4853757AE94F8CAB28EC4B27C2428EA', '0x02DD3FC420589AB9A287587BE74442E7B63384FB', '0x07DB9A6FDDD88376457F95F4B0EC09ECC9F8F450', '0x062F531071364FF0881DCC58BF27E36F3D5597B8', '0x081EA99DBC1C5C075EF9DE296CDCF31D8165B463', '0x0B2C75D2088EDCC3E3286E93572B485ABCE40776', '0x0A5427F8D22DD74D06DD27858B1D2B558407F6A7', '0x0082895E91CCE1DE74C0399D8A91DFE9431C46DB', '0x04A9F7F527D3A94A1A0082E13003C16A7EC96C9F', '0x0F1864CF97A5015664C2B89F4F5298AE1E8013FA', '0x12C1D294C2F594330B9442668F7769C9CADF9BE8', '0x0D2A4F8CC36BB152B9BFE85D2CA3B3E310D7EBD4', '0x036A59F24D9C3ED667FD1328EC0D740C2A35547D', '0x0AB1896183F117ED32ECDBC766829C3D0F5E2B8E', '0x09C0C1DE399B6C32DD4F274A1BF35552B15E86E8', '0x14B4C1C6A4F3B871A492B3AF1D1C6961985F18A9', '0x077885E94797208FED43F68778F73DB637020494', '0x126CFBC31A233659C852BBA5EB5E3E164223C323', '0x0128C6FCF24A80A83B427DE9BFB92CA8B5F953AF', '0x11B76BA7C5AE3B9CFA8727EFC4242EFEB823E6CE', '0x15229CBA668355C63959F01FEC55B0540DCBCA42', '0x00B88DF86938B9A7C4D1C2CE26A46B419268E5FD', '0x105BF66508ED5393E7AB690BF164233265410D1C', '0x093213E3AE29F08F3B0842CCC313CA3040CBC8CD', '0x0E6311D150086D5784B297470DA2FC17CC2218D6', '0x0C64A957DCABA84779506F7195D4B690F7CDBE35', '0x025C3E0513CB0C04B0705D669223B8AF698DE93E', '0x1436426EADC04D53351DD546144055E5859FBF8E', '0x1335403B8FCA8EF477554DCC005C36FC2E787091', '0x0593E317C7549F2118776BCD25E0B68C3B304331', '0x1411E91AB89E288626295754C20300E817507839', '0x139CCDA8E1DE3B0C28B3CAC089F8C0CC6084E9F4', '0x001A5BD2042986281855F45799DC3FB26344C6FA', '0x0CD3A4FD01769CB24F537189AF569F298F9A93FC', '0x0319B30530028A29C9839174748616989D664D2E', '0x0BA09CC8D9D5B0198599F25D1B5C6ACC86A666DA', '0x0141C5F2038EB61FFE8FEF4AEA374DE36EFE9CB1', '0x0BC6571522B7C0323D7FB46BFDE885F7B87A7B23', '0x0CA0717895AE857D869D3CC906F13DFD3F119C7F', '0x13782F195DED0717C67533DBF41F8B8F07067DA6', '0x079818ACA1143443FDE1D2861B046902AE73F268', '0x1004A9516897CC7DBF09FB33663C82E26EB98BFE', '0x0B2E8A663C35BE0B8623FA2B591D47A55FF2D638', '0x0ABA57AED4D5280AE7CE425123243634980E4208', '0x0933C3E2B3354CD8901A8918E5D42DBB695EBD64', '0x034F53E8854AB9CFA86CB85AA6EFC3F797B9573B', '0x0902B84746A9B2D5F083E250B07C4B77FACF487D', '0x11A299EC704D7C4492D287E130B290C9D6112EDC', '0x026B21028DE4E2A1FA82DD0C912D5F9F43F8955C', '0x08DC64070CE23B7682B94FA2A25931A76BE50B30', '0x1047506A39EB5D62DCBB5DDAB5A4C15AA515BC05', '0x0BC1626DBE5FEAB1967AE84355C214840F5279A8', '0x06C29DEAFA0C8CC96C1F7C1163C3AF3A9D4032C3', '0x04D57CC09C0B383628E360C4DD813FEC36079EFD', '0x047BBD07875160C98ADDC20C6AC6E021CC08EB8C', '0x0F3275613678E78D64E950E8B04FB993C1B060E6', '0x024EF80C7E87126058A9A6A8A68FCE87B06C4020', '0x0828830CBAFBD1F90C2092D42EF9EA588505661F', '0x04B9A33D0802D51CEA18530D8B5D43CFD889E358', '0x15F8E2828FE03CFC7B0CB9511C63D4BB71BB872F', '0x0DC9B23B56073B93E77EB24BCB9208E07C610BB1', '0x126E2F31136CA6CFDA3992C2034B19516A79564A', '0x059EB6922A4FF3DA42C6989B7A0002619666142B', '0x08F0024FBF5A3383679C6A6EA68E4EB9AC8D179A', '0x067B3CAE8053E0FA8B60E59A8B81FAFEB363D532', '0x11936E0DDD10743421C255980263B471EE1939ED', '0x1004E851C67AF633839DD416ACFB335932F0B359', '0x05BE4CA773B3827C2C939E6C8A98BFDDA5F35F29', '0x01F5BCBC823FA0BF1A7E206DAC8AD93C4E3D613A', '0x04F4557B72072B7C818A824C8CB44787CE50E492', '0x04B628A20CC2B6DCDCC04CEFD0A475CC8E083E8C', '0x11C148D33BBCAD70DD22C094B294C0CC6CC93B56', '0x06AA437FB4AC461816EEE3DC67EFB658BEBA42D3', '0x08D4FA942D4F76D48EF4DDBD28D44D20A0726FF9', '0x0596ED3F6BC091373D9AE594C1969285CC4E0D68', '0x0EBEA84C419185BB9CD9E3E7A05A8A12AA4690ED', '0x10E764E6D2FCE0C018BFD2F6A3CDA1F2C90A1EEF', '0x0B6B96CAB2017507DBF970631273E86CC34DD2F9', '0x00AD67A7AF3249B15BC931359C86057EEF03F7DF', '0x13C64091A350C6A52F716141C34E7BD82A714990', '0x0F1E345E8BD80745A20A850A232D73D0DE6D530D', '0x0E11B565CE33EE04DD9472062AF89713F3A823E7', '0x111D9CE5CF2BC25D816633311DCAA76D41884B19', '0x0528F6419CA3F77477F49730B8D03B736C2705D7', '0x14C7716B36421D02740688EF45577535BF247038', '0x04396585AA340E1DC66BEBED6C6705443E6E0445', '0x1413B58585B66246F5F5571A7C70243122895A93', '0x0CEA16BF6D3095C8FDFEE2504B7151325E7AC915', '0x00610546E95FA027E56C2FCC5C1F7B68C07A4DF7', '0x02EBA05449BD006C17B08CD5466EE091A7F21E64', '0x13D06A078C06FD6E296A26B6EBC23076ED988A18', '0x0C255C67030F327272FB3A4658717557BF24A4D7', '0x08227FC6940ACF3A91B4BE82E7E396070AA5E6CC', '0x0C01EFE96DC70DEC845C7CA0618ACD0737595767', '0x03CE7835FDEF4864E89EE86C14AC1122B27E82B7', '0x14128CBB635D23C058E58107362BE168041DE6C2', '0x158089BCE012BE037983E6D233465CC2ED9F449B', '0x122DDFCC3CEF141C69AF8AEB309739C1B637BEAF', '0x0ACEB21F5A567C3E76B74E59FF8454DDF8FB9A6A', '0x084E785F3202290300D1F42E1E20E982981FCB93', '0x0FFDE1DE3BC6F57416943D42B6E80FEED11C2119', '0x02792D7EE0DD219C911C2C53397D05D07B9A32D9', '0x0FAB6E5A319AEBA955DD4E60F6968C34B80DE75A', '0x005FFE927C8C1D84D3BAA3FBC62B76A75116838D', '0x02B791923A16A1FB342A773E7078BD2E9979FC08', '0x0557E59C7FF9F3A35DA2C225479C382504D6F214', '0x03EC2E5CF08994D3AB0468CDB1E9E06B49A667BF', '0x09C3BF21A702CC2081636D13BD4AE7EBA268FE9F', '0x0C7E7F93582E9CF7147BBD057839203036B90D15', '0x069D4E2C1826237767535B956DA28608234B25BC', '0x0CB36BF774CAC10E4E5D3D448286DDBA2EDBEA2D', '0x0402423E5F44DA683D4DA019333924EF708925FE', '0x0DBE6879C59C822FF098C83F41424796D850D7C2', '0x0218C9AC3CB25585CF651BC9152C16CA36CD6E0A', '0x13CFE7D5EFA35A17FF0A10CC8998062F7B5E2BD3', '0x05B820D6C1CDD5AE903E23B302DA22723AD2E9C0', '0x03F7D2EA054A6957DEE3752A65A0A17BC1FC6B9B', '0x157442F8E9513608D00F242CFD4D8D5DE48D10A8', '0x03469370C6378B0D4144298F377384F72222F4FF', '0x0C63C7D4104328DDCA13815CDE85E90AF43B3A85', '0x11C5FA7A76641BC91DFE7F4007C807F11816F9C9', '0x05A668E753AFD0BD97E4E1DE9397EB0E48FD23C4', '0x0993B1875AC3F26420FDD6FC11F291BFE05F2242', '0x104C1A5A8809E8EF9CA794B25C0A45B7BC85D5F9', '0x02B01EAFBECD24DCF3903D06C2E2B8862451CB05', '0x142C9F22A944E23DDA5523679CCF9CE13286808F', '0x06E5E64DD4BB570022A18FCB745C563B350C2B82', '0x1046666ADFC617D78DB5BF0EA3FDDD13F45AA382', '0x0BE6B2CDA84E9D36ACC832F9A6AEEED7A654EAE2', '0x0AA0CE73FB98DC77000C9EDFE4192F3B94963710', '0x121AC60485E5046D3A77059C540885F0312BE38D', '0x0C1D8218836E09DA97FB03BC2859560AD81D9D2D', '0x1355802AE4723E9EEADF02F10D0E937449DEA7CE', '0x09AEE2CAB78ADCF053E176219B70E25F1E250B1D', '0x05461F973D9B94B4E4110C9DF645FC864B97F118', '0x0185B013A6668A3D86C8813750743AB32D0537F4', '0x13A4D361A6F33778FEDC8FB9DDAC855BC3C8E9AE', '0x07D7D58E3645C8BCEBEBDC3E29C560BDEFFB45DB', '0x0B9A4D99E7CABC2C2EFA653C65A3419346D04008', '0x03BE2836ADFCEEF82FE73D3D52DC0AF4FE949DDB', '0x0CADEA18166E6C801B044D49EE7692B0DE31D8DD', '0x15E10EE813D739E49C523144F8685A35833BC45B', '0x0FA5653828E48E35565D1613593EC0580C1187F8', '0x02FE86BEDFAAF7F7B895EA81902186E324F1162D', '0x0C3FE4BF203FFDA9CECEF64B6BBBA26B68E8F7F8', '0x08084FDF404C8C147BB8A2AAEBD484B9D02009DC', '0x094A332C2B86769273BD5CB871BA4D83208C2F5E', '0x0EA5CA700DC67DBCD793F676614E9E41C51FE877', '0x0A2EF0B533B69903796128F72B953A6C32923CD9', '0x0412F54ADB9C449CF48FDE366F60DF569E110B3C', '0x0711A44D456617659599A75293A5E39B8F6BA9C7', '0x02685FFC9B2FBB22BD92D8EFA85C7A8498C89586', '0x11BEBB82D9818A5E2B7ADC60B68B2C14F61BF362', '0x0EDA3DC4864B6F2585FC04D0D2B866F237C6F0E9', '0x00934CFBC0A1CE2990E70AEC802A4D3F165ED008', '0x125543AE9EBE3B4AD3EE7D0A70832A96D1570252', '0x042B8934D73731B307065EE9D46A6C5D221009F0', '0x13E0E18B9B37DC31AB40BE8C186E4E0831DDCE3B', '0x0C457103C55BADFD1F250BA59CD74FCA55A59028', '0x087B178F566B879D33D1781E4B677195EC5B683B', '0x12E319DC53CC30DD7B75DE5E3135AA6CF56DECD5', '0x14A669D1B6B40273E1747277E30DC1C19F6A7069', '0x11574AE2E2364C6DFA9FD295028BA5F4D4BA1846', '0x09E97B7D24EB98977045AA98F30FBD226AA378A5', '0x0D350D76905562A790398C17776ED73160A963D1', '0x00CF8D58848365BC89B5638F26D927D9F26175DC', '0x0794B0699DAF71504CBAA7C417A17E42612E0A9F', '0x09E196CD94289E57A64AD20E95E8382380EBCC14', '0x14A73A904A240EE260874610905F19949AE9AFEF', '0x0041F0CA81DAB24B8F644B1C4453EBD226D2A24E', '0x079AA0A6DF4B4C1715C3AA5967C77A521079B667', '0x07885B615069D105A9251CEAC5C8C5C15B998113', '0x149B7FAB51B4E4528EC20DFD6CE8EC799DF4FD7D', '0x07EA58D1C2575682A85B0F28BE5FEFBA09E4151A', '0x03C3608CECF4F9273D8DE62AA559B25B57F53D8F', '0x009B0A06DDF26F443BEAF1057309AD7BC630279F', '0x028DF629E123A0C836FC92EE3F1DCB70C9527093', '0x11789ECED60CDF1B1502A2A3EC2E8C4B19CD830D', '0x0B8287B8F26B1ECFD69C39074B0EB465391CBBDD', '0x0DC0D0D3EA3BDA92A414CF26A19ABC619FDB9B56', '0x081E38991539A235AD9F0FE6B48520365407EBA3', '0x120D3FF11B100B37036C84F2662805F5576F80B7'] \n",
      "\n",
      "\n"
     ]
    }
   ],
   "source": [
    "print(\"Exam Date and time slot:\" '\\n',examdate_time_list,'\\n\\n',\n",
    "      \"Room Set:\" '\\n',roomlist, '\\n\\n', \n",
    "      \"Student set:\" '\\n', Student_ID_List,'\\n\\n')"
   ]
  },
  {
   "cell_type": "code",
   "execution_count": 36,
   "id": "5cc8f12b",
   "metadata": {},
   "outputs": [],
   "source": [
    "import pickle"
   ]
  },
  {
   "cell_type": "code",
   "execution_count": 37,
   "id": "0c47c02c",
   "metadata": {},
   "outputs": [],
   "source": [
    "# print(\"Exam set:\" '\\n', schdcrselist,'\\n\\n', \n",
    "#       \"Course Enrollement Set:\" '\\n',course_enrollment_values, '\\n\\n', \n",
    "#       \"Number of students in course:\" '\\n',sumHe_s, '\\n\\n', \n",
    "#       \"Room Capacity set:\" '\\n',roomcaplist, '\\n\\n'\n",
    "# )\n",
    "# print(\"Exam Date and time slot:\" '\\n',examdate_time_list,'\\n\\n',\n",
    "#       \"Room Set:\" '\\n',crseinroomlist, '\\n\\n', \n",
    "#       \"Student set:\" '\\n', Student_ID_List,'\\n\\n')"
   ]
  },
  {
   "cell_type": "code",
   "execution_count": 38,
   "id": "c19020a1",
   "metadata": {},
   "outputs": [
    {
     "ename": "NameError",
     "evalue": "name 'RL' is not defined",
     "output_type": "error",
     "traceback": [
      "\u001b[1;31m---------------------------------------------------------------------------\u001b[0m",
      "\u001b[1;31mNameError\u001b[0m                                 Traceback (most recent call last)",
      "Cell \u001b[1;32mIn [38], line 11\u001b[0m\n\u001b[0;32m      8\u001b[0m     pickle\u001b[39m.\u001b[39mdump(examdate_time_list, f)\n\u001b[0;32m     10\u001b[0m \u001b[39mwith\u001b[39;00m \u001b[39mopen\u001b[39m(\u001b[39m'\u001b[39m\u001b[39mRooms_Pickle.pkl\u001b[39m\u001b[39m'\u001b[39m, \u001b[39m'\u001b[39m\u001b[39mwb\u001b[39m\u001b[39m'\u001b[39m) \u001b[39mas\u001b[39;00m f:\n\u001b[1;32m---> 11\u001b[0m     pickle\u001b[39m.\u001b[39mdump(RL, f)\n\u001b[0;32m     13\u001b[0m \u001b[39mwith\u001b[39;00m \u001b[39mopen\u001b[39m(\u001b[39m'\u001b[39m\u001b[39mcourse enrolments_Pickle.pkl\u001b[39m\u001b[39m'\u001b[39m, \u001b[39m'\u001b[39m\u001b[39mwb\u001b[39m\u001b[39m'\u001b[39m) \u001b[39mas\u001b[39;00m f:\n\u001b[0;32m     14\u001b[0m     pickle\u001b[39m.\u001b[39mdump(course_enrollment_values, f)\n",
      "\u001b[1;31mNameError\u001b[0m: name 'RL' is not defined"
     ]
    }
   ],
   "source": [
    "with open('Exam_set_Pickle.pkl', 'wb') as f:\n",
    "    pickle.dump(schdcrselist, f)\n",
    "\n",
    "with open('Student_set_Pickle.pkl', 'wb') as f:\n",
    "    pickle.dump(Student_ID_List, f)\n",
    "    \n",
    "with open('Timeslots_Pickle.pkl', 'wb') as f:\n",
    "    pickle.dump(examdate_time_list, f)\n",
    "    \n",
    "with open('Rooms_Pickle.pkl', 'wb') as f:\n",
    "    pickle.dump(RL, f)\n",
    "\n",
    "with open('course enrolments_Pickle.pkl', 'wb') as f:\n",
    "    pickle.dump(course_enrollment_values, f)\n",
    "    \n",
    "with open('Room_Capacity.pkl', 'wb') as f:\n",
    "    pickle.dump(roomcaplist, f)\n"
   ]
  }
 ],
 "metadata": {
  "kernelspec": {
   "display_name": "Python 3.9.12 ('venv')",
   "language": "python",
   "name": "python3"
  },
  "language_info": {
   "codemirror_mode": {
    "name": "ipython",
    "version": 3
   },
   "file_extension": ".py",
   "mimetype": "text/x-python",
   "name": "python",
   "nbconvert_exporter": "python",
   "pygments_lexer": "ipython3",
   "version": "3.9.12"
  },
  "vscode": {
   "interpreter": {
    "hash": "9b192910274a1c529aa82efb3891000b6bfb36ab9aac7f7933ae5d00944f2e3c"
   }
  }
 },
 "nbformat": 4,
 "nbformat_minor": 5
}
