{
 "cells": [
  {
   "cell_type": "code",
   "execution_count": 1,
   "id": "b8e19dec-82d1-4be8-9599-7264efab1169",
   "metadata": {},
   "outputs": [],
   "source": [
    "import numpy as np \n",
    "import pandas as pd\n",
    "import cplex\n",
    "from docplex.mp.model import Model\n",
    "from docplex.mp.solution import SolveSolution\n",
    "from typing import Union, List"
   ]
  },
  {
   "cell_type": "markdown",
   "id": "3dfc5440-f19d-406c-92db-ba5c19f62db9",
   "metadata": {},
   "source": [
    "## Constants"
   ]
  },
  {
   "cell_type": "code",
   "execution_count": 2,
   "id": "cc4bf533-283b-4f32-bed3-41b34a088d74",
   "metadata": {},
   "outputs": [],
   "source": [
    "E = ['CSC101', 'CSC102', 'CSC103', 'CSC104'] # exams\n",
    "S = ['Aaron','Bruno','Cell','Dodo','Earl','Frank'] # students\n",
    "T = ['Dec 1st 9am', 'Dec 1st 12pm', 'Dec 2nd 9am', 'Dec 2nd 12pm', 'Dec 3rd 9am'] # timeslots\n",
    "R = ['SB1', 'SB2','SB3','SB4'] # rooms\n",
    "Cp = [1, 2, 3, 5] # capacity of rooms\n",
    "\n",
    "# course enrolments\n",
    "He_s = np.random.randint(0,2, (len(E),len(S)))\n",
    "sumHe_s = np.sum(He_s, axis=1)"
   ]
  },
  {
   "cell_type": "code",
   "execution_count": 3,
   "id": "2f9bf911-652b-499c-88c7-7f0396f221a7",
   "metadata": {},
   "outputs": [
    {
     "data": {
      "text/plain": [
       "(array([[1, 0, 1, 1, 0, 0],\n",
       "        [1, 0, 0, 1, 1, 1],\n",
       "        [1, 0, 0, 0, 0, 1],\n",
       "        [1, 1, 0, 1, 1, 1]]),\n",
       " array([3, 4, 2, 5]))"
      ]
     },
     "execution_count": 3,
     "metadata": {},
     "output_type": "execute_result"
    }
   ],
   "source": [
    "He_s, sumHe_s"
   ]
  },
  {
   "cell_type": "markdown",
   "id": "dd279455-b2df-461e-b098-58ea60fdafa7",
   "metadata": {},
   "source": [
    "## Variables"
   ]
  },
  {
   "cell_type": "code",
   "execution_count": 4,
   "id": "d519ee78-3d8f-44a4-8064-e8677fda73e0",
   "metadata": {},
   "outputs": [],
   "source": [
    "opt_mod = Model(name='ET MIP')"
   ]
  },
  {
   "cell_type": "code",
   "execution_count": 5,
   "id": "faa0fa90-ffd4-4d97-8be9-b47794b4ac40",
   "metadata": {},
   "outputs": [],
   "source": [
    "x = opt_mod.binary_var_matrix(len(E), len(T), name=\"X_e,t\") # whether we use timeslot t for exam e\n",
    "y = opt_mod.binary_var_matrix(len(E), len(R), name=\"Y_e,r\") # whether we use room r for exam e\n",
    "# z = opt_mod.binary_var_matrix(len(S), len(E), name=\"Z_s,e\") # whether exam e is allocated to student s "
   ]
  },
  {
   "cell_type": "markdown",
   "id": "b3a15681-9f78-4415-a981-f61d5bd04b02",
   "metadata": {},
   "source": [
    "## Constraints"
   ]
  },
  {
   "cell_type": "markdown",
   "id": "436172dc-9a05-487f-b380-3837fabfe68c",
   "metadata": {},
   "source": [
    "C1: For all exams, the sum of the allocated timeslots must be equal to 1\n",
    "\n",
    "$$\\sum_{t\\in T_c} X_e,_t=1 \\;\\forall \\; e \\in E, e \\in \\{0,1\\}$$\n",
    "\n",
    "C2: For all exams, the sum of the allocated rooms must be equal to 1\n",
    "\n",
    "$$\\sum_{r\\in R_e} Y_e,_r = 1 \\;\\forall \\; e \\in E $$\n",
    "\n",
    "C3: For every student and timeslot, the sum of the allocated exams must be less or equal to 1. \n",
    "- i.e. students can be at only one exam at a time\n",
    "\n",
    "C4: For all rooms, the sum of students in a room must be less than the capacity of the room"
   ]
  },
  {
   "cell_type": "code",
   "execution_count": 6,
   "id": "66450661-f046-4ba0-a6fb-07f189c21273",
   "metadata": {},
   "outputs": [],
   "source": [
    "c1 = opt_mod.add_constraints((sum(x[e, t] for t in range(len(T))) == 1 for e in range(len(E))), names='c1') "
   ]
  },
  {
   "cell_type": "code",
   "execution_count": 229,
   "id": "8643a36b-d4de-4ee5-aa85-6086f562436f",
   "metadata": {},
   "outputs": [],
   "source": [
    "c2 = opt_mod.add_constraints((sum(y[e, r] for r in range(len(R))) >= 1 for e in range(len(E))), names='c2') "
   ]
  },
  {
   "cell_type": "code",
   "execution_count": 8,
   "id": "00aa3ce5-83c9-4ae0-b090-c6e12e6ee4e7",
   "metadata": {},
   "outputs": [],
   "source": [
    "# c3 modified constraint \n",
    "for s in range(len(S)):\n",
    "    for t in range(len(T)):\n",
    "        cond = sum(x[e,t] * He_s[e,s] for e in range(len(E)))\n",
    "        if type(cond) != int:\n",
    "            opt_mod.add_constraint(cond <= 1)"
   ]
  },
  {
   "cell_type": "code",
   "execution_count": 9,
   "id": "00803689-8fcb-442c-b725-8808afc6c714",
   "metadata": {},
   "outputs": [],
   "source": [
    "# c4 modified constraint\n",
    "for r in range(len(R)):\n",
    "    for t in range(len(T)):\n",
    "        cond = sum((x[e,t]*y[e,r]) * sumHe_s[e] for e in range(len(E)))\n",
    "        if type(cond) != int:\n",
    "            opt_mod.add_constraint(cond <= Cp[r])"
   ]
  },
  {
   "cell_type": "code",
   "execution_count": 10,
   "id": "ded9f9bd-ba5c-40f9-8e29-6d5c4685264a",
   "metadata": {},
   "outputs": [],
   "source": [
    "# c4 = opt_mod.add_constraints((sum(y[e,r] * sumHe_s[e] for e in range(len(E))) <= Cp[r] for r in range(len(R))), names='c4') "
   ]
  },
  {
   "cell_type": "markdown",
   "id": "df95d1a2-ebf7-4c64-9327-dbc56aa1662b",
   "metadata": {},
   "source": [
    "## Objective Function"
   ]
  },
  {
   "cell_type": "markdown",
   "id": "c17ce398-889c-429e-9c2f-4da72f09bbe0",
   "metadata": {},
   "source": [
    "$$  minimize\\; I_T = \\sum_{k=1}^{K_T} \\; ceil \\; \\left[ \\sum_{c=1}^{C_K}\\; N_c \\; * \\; (ratio \\; students \\; to \\; invigilators) \\right] $$"
   ]
  },
  {
   "cell_type": "markdown",
   "id": "ebfd7119-69e6-49cb-a329-026482df8d2f",
   "metadata": {},
   "source": [
    "$$\\sum_{r \\in R} \\; ceil \\;  \\left[ \\sum_{e \\in E}y_e,_r ( \\sum_{s \\in S} H_e,_s ) \\; (ratio \\; students \\; to \\; invigilators) \\right] * \\; cost \\; per \\; invigilator $$"
   ]
  },
  {
   "cell_type": "code",
   "execution_count": 231,
   "id": "4346d498",
   "metadata": {},
   "outputs": [],
   "source": [
    "ratio_of_Inv = 1/60"
   ]
  },
  {
   "cell_type": "code",
   "execution_count": 232,
   "id": "c653171b",
   "metadata": {},
   "outputs": [],
   "source": [
    "# OverHeadCostCeil = pulp.LpVariable('OverHeadCostCeil', 0, None, LpInteger)\n",
    "\n",
    "# prob += OverHeadCostCeil >= OverHeadCost\n",
    "# prob += TotalModelsCost + OverHeadCostCeil\n"
   ]
  },
  {
   "cell_type": "code",
   "execution_count": 233,
   "id": "03257333",
   "metadata": {},
   "outputs": [],
   "source": [
    "#OB =  [(sum(y[e,r] * sumHe_s[e] * ratio_of_Inv for e in range(len(E))) for r in range(len(R)))]\n",
    "\n",
    "up = (sum(1 * sumHe_s[e] * ratio_of_Inv for e in range(len(E))) for r in range(len(R)))\n",
    "upper_bound=0\n",
    "for i in up:\n",
    "    upper_bound += np.ceil(i)\n",
    "#print(upper_bound)\n",
    "\n",
    "ceil_obj = []\n",
    "OB = []\n",
    "var=[]\n",
    "qwe = []\n",
    "sum_sum = []\n",
    "\n",
    "for r in range(len(R)):\n",
    "    ceil_obj.append(opt_mod.integer_var(lb=0, ub= upper_bound))\n",
    "    sum_sum.append(sum(y[e,r] * sumHe_s[e] * ratio_of_Inv for e in range(len(E))))\n",
    "    opt_mod.add_constraint(ceil_obj[r] >= sum_sum[r])\n"
   ]
  },
  {
   "cell_type": "code",
   "execution_count": 234,
   "id": "9dd0e8ab",
   "metadata": {},
   "outputs": [
    {
     "name": "stdout",
     "output_type": "stream",
     "text": [
      "Model: ET MIP\n",
      " - number of variables: 121\n",
      "   - binary=36, integer=85, continuous=0\n",
      " - number of constraints: 124\n",
      "   - linear=104, quadratic=20\n",
      " - parameters: defaults\n",
      " - objective: minimize\n",
      " - problem type is: MIQCP\n"
     ]
    }
   ],
   "source": [
    "OB = sum(ceil_obj[r] for r in range(len(R)))\n",
    "opt_mod.set_objective('min', OB)\n",
    "opt_mod.print_information()"
   ]
  },
  {
   "cell_type": "code",
   "execution_count": 235,
   "id": "0d0f6a78",
   "metadata": {},
   "outputs": [
    {
     "name": "stdout",
     "output_type": "stream",
     "text": [
      "Model: ET MIP\n",
      " - number of variables: 121\n",
      "   - binary=36, integer=85, continuous=0\n",
      " - number of constraints: 124\n",
      "   - linear=104, quadratic=20\n",
      " - parameters: defaults\n",
      " - objective: minimize\n",
      " - problem type is: MIQCP\n"
     ]
    }
   ],
   "source": [
    "#obj_fun =  sum((sum(y[e,r] * sumHe_s[e] * ratio_of_Inv for e in range(len(E))) for r in range(len(R))))\n",
    "#obj_fun =  sum(OB[r] for r in range(len(R)))\n",
    "\n",
    "OB = sum(ceil_obj[r] for r in range(len(R)))\n",
    "opt_mod.set_objective('min', OB)\n",
    "opt_mod.print_information()"
   ]
  },
  {
   "cell_type": "code",
   "execution_count": 236,
   "id": "3f01377f",
   "metadata": {},
   "outputs": [
    {
     "name": "stdout",
     "output_type": "stream",
     "text": [
      "objective: 1\n",
      "  X_e,t_0_3=1\n",
      "  X_e,t_1_2=1\n",
      "  X_e,t_2_0=1\n",
      "  X_e,t_3_4=1\n",
      "  Y_e,r_0_3=1\n",
      "  Y_e,r_1_3=1\n",
      "  Y_e,r_2_3=1\n",
      "  Y_e,r_3_3=1\n",
      "  x55=20\n",
      "  x56=20\n",
      "  x57=20\n",
      "  x58=20\n",
      "  x59=20\n",
      "  x60=20\n",
      "  x61=20\n",
      "  x62=20\n",
      "  x63=20\n",
      "  x64=20\n",
      "  x65=20\n",
      "  x66=20\n",
      "  x67=20\n",
      "  x68=20\n",
      "  x69=20\n",
      "  x70=20\n",
      "  x71=20\n",
      "  x75=20\n",
      "  x76=20\n",
      "  x77=20\n",
      "  x78=20\n",
      "  x79=20\n",
      "  x80=20\n",
      "  x81=20\n",
      "  x82=20\n",
      "  x83=20\n",
      "  x84=20\n",
      "  x85=20\n",
      "  x86=20\n",
      "  x87=20\n",
      "  x88=20\n",
      "  x89=20\n",
      "  x90=20\n",
      "  x91=20\n",
      "  x92=20\n",
      "  x93=20\n",
      "  x94=20\n",
      "  x97=20\n",
      "  x98=20\n",
      "  x99=20\n",
      "  x100=20\n",
      "  x101=20\n",
      "  x102=20\n",
      "  x103=20\n",
      "  x104=20\n",
      "  x105=20\n",
      "  x106=20\n",
      "  x107=20\n",
      "  x108=20\n",
      "  x109=20\n",
      "  x110=20\n",
      "  x111=20\n",
      "  x112=20\n",
      "  x113=20\n",
      "  x114=20\n",
      "  x115=20\n",
      "  x116=20\n",
      "  x117=20\n",
      "  x121=1\n"
     ]
    }
   ],
   "source": [
    "opt_mod.solve()\n",
    "opt_mod.print_solution()"
   ]
  },
  {
   "cell_type": "markdown",
   "id": "3dfa5080-c3a2-49c2-af66-a0ec44816d5b",
   "metadata": {},
   "source": [
    "## Processing Solution"
   ]
  },
  {
   "cell_type": "code",
   "execution_count": 237,
   "id": "8096f9ab-f40e-4457-9295-dcd9724a3ef4",
   "metadata": {},
   "outputs": [],
   "source": [
    "def process_solution(sol : SolveSolution) -> Union[pd.DataFrame, pd.DataFrame, pd.DataFrame]:\n",
    "    \"\"\"\n",
    "    Takes a cplex solution and produces a exam schedule\n",
    "    \n",
    "    Parameters\n",
    "    ----------\n",
    "    sol : SolveSolution\n",
    "        solution from the solver\n",
    "    \n",
    "    Returns\n",
    "    -------\n",
    "    final_schedule : pd.DataFrame\n",
    "        The schedule formatted in readable format for an exam organizer\n",
    "    \n",
    "    df_x : pd.DataFrame\n",
    "        The results for variable x\n",
    "    \n",
    "    df_y : pd.DataFrame\n",
    "        The results for variable y\n",
    "    \"\"\"\n",
    "    # extract solutions as df\n",
    "    df_x = sol.get_value_df(x).rename(columns={'key_1':'exam','key_2':'timeslot'})\n",
    "    df_y = sol.get_value_df(y).rename(columns={'key_1':'exam','key_2':'room'})\n",
    "\n",
    "    # Add rows with the names of courses and timelots\n",
    "    exam_col = [E[i] for i in range(len(E)) for j in range(len(T))]\n",
    "    time_col = [T[j] for i in range(len(E)) for j in range(len(T))]\n",
    "    df_x[\"EXAM\"] = exam_col\n",
    "    df_x[\"TIMESLOT\"] = time_col\n",
    "\n",
    "    # Add rows with the names of courses and rooms\n",
    "    exam_col = [E[i] for i in range(len(E)) for j in range(len(R))]\n",
    "    room_col = [R[j] for i in range(len(E)) for j in range(len(R))]\n",
    "    df_y[\"EXAM\"] = exam_col\n",
    "    df_y[\"ROOM\"] = room_col\n",
    "    \n",
    "    # Produce the final schedule\n",
    "    final_schedule = df_x[df_x[\"value\"]==1].merge(df_y[df_y[\"value\"]==1], on='EXAM', how='left')\n",
    "    \n",
    "    return final_schedule, df_x, df_y"
   ]
  },
  {
   "cell_type": "code",
   "execution_count": 238,
   "id": "1d2690bd-331d-472e-8e66-604cd5856bd9",
   "metadata": {},
   "outputs": [],
   "source": [
    "def create_enrolment_df(He_s : np.array, S : List[int]) -> pd.DataFrame:\n",
    "    \"\"\"\n",
    "    Creates a dataframe with the students for each exam/course\n",
    "    \"\"\"\n",
    "    exam_student_pairs = []\n",
    "    for exam in range(len(He_s)):\n",
    "        students_in_exam_e = []\n",
    "        for i, student in enumerate(He_s[exam]):\n",
    "            if student == 1:\n",
    "                students_in_exam_e.append(S[i])\n",
    "        exam_student_pairs.append(students_in_exam_e)\n",
    "        \n",
    "    enrolment_df = pd.DataFrame(columns=['EXAM','student'])\n",
    "    enrolment_df['EXAM'] = E\n",
    "    enrolment_df['student'] = exam_student_pairs\n",
    "\n",
    "    return enrolment_df"
   ]
  },
  {
   "cell_type": "code",
   "execution_count": 239,
   "id": "2e97e9ab-e01d-4052-8a67-cd03f4556495",
   "metadata": {},
   "outputs": [
    {
     "data": {
      "text/html": [
       "<div>\n",
       "<style scoped>\n",
       "    .dataframe tbody tr th:only-of-type {\n",
       "        vertical-align: middle;\n",
       "    }\n",
       "\n",
       "    .dataframe tbody tr th {\n",
       "        vertical-align: top;\n",
       "    }\n",
       "\n",
       "    .dataframe thead th {\n",
       "        text-align: right;\n",
       "    }\n",
       "</style>\n",
       "<table border=\"1\" class=\"dataframe\">\n",
       "  <thead>\n",
       "    <tr style=\"text-align: right;\">\n",
       "      <th></th>\n",
       "      <th>EXAM</th>\n",
       "      <th>student</th>\n",
       "    </tr>\n",
       "  </thead>\n",
       "  <tbody>\n",
       "    <tr>\n",
       "      <th>0</th>\n",
       "      <td>CSC101</td>\n",
       "      <td>[Aaron, Cell, Dodo]</td>\n",
       "    </tr>\n",
       "    <tr>\n",
       "      <th>1</th>\n",
       "      <td>CSC102</td>\n",
       "      <td>[Aaron, Dodo, Earl, Frank]</td>\n",
       "    </tr>\n",
       "    <tr>\n",
       "      <th>2</th>\n",
       "      <td>CSC103</td>\n",
       "      <td>[Aaron, Frank]</td>\n",
       "    </tr>\n",
       "    <tr>\n",
       "      <th>3</th>\n",
       "      <td>CSC104</td>\n",
       "      <td>[Aaron, Bruno, Dodo, Earl, Frank]</td>\n",
       "    </tr>\n",
       "  </tbody>\n",
       "</table>\n",
       "</div>"
      ],
      "text/plain": [
       "     EXAM                            student\n",
       "0  CSC101                [Aaron, Cell, Dodo]\n",
       "1  CSC102         [Aaron, Dodo, Earl, Frank]\n",
       "2  CSC103                     [Aaron, Frank]\n",
       "3  CSC104  [Aaron, Bruno, Dodo, Earl, Frank]"
      ]
     },
     "execution_count": 239,
     "metadata": {},
     "output_type": "execute_result"
    }
   ],
   "source": [
    "enrolment_df = create_enrolment_df(He_s, S)\n",
    "enrolment_df"
   ]
  },
  {
   "cell_type": "code",
   "execution_count": 240,
   "id": "f1d6af30",
   "metadata": {},
   "outputs": [
    {
     "name": "stdout",
     "output_type": "stream",
     "text": [
      "Found a solution \n",
      "\n",
      "Schedule: \n",
      "\n"
     ]
    },
    {
     "data": {
      "text/html": [
       "<div>\n",
       "<style scoped>\n",
       "    .dataframe tbody tr th:only-of-type {\n",
       "        vertical-align: middle;\n",
       "    }\n",
       "\n",
       "    .dataframe tbody tr th {\n",
       "        vertical-align: top;\n",
       "    }\n",
       "\n",
       "    .dataframe thead th {\n",
       "        text-align: right;\n",
       "    }\n",
       "</style>\n",
       "<table border=\"1\" class=\"dataframe\">\n",
       "  <thead>\n",
       "    <tr style=\"text-align: right;\">\n",
       "      <th></th>\n",
       "      <th>exam_x</th>\n",
       "      <th>timeslot</th>\n",
       "      <th>value_x</th>\n",
       "      <th>EXAM</th>\n",
       "      <th>TIMESLOT</th>\n",
       "      <th>exam_y</th>\n",
       "      <th>room</th>\n",
       "      <th>value_y</th>\n",
       "      <th>ROOM</th>\n",
       "      <th>student</th>\n",
       "    </tr>\n",
       "  </thead>\n",
       "  <tbody>\n",
       "    <tr>\n",
       "      <th>0</th>\n",
       "      <td>0</td>\n",
       "      <td>3</td>\n",
       "      <td>1.0</td>\n",
       "      <td>CSC101</td>\n",
       "      <td>Dec 2nd 12pm</td>\n",
       "      <td>0</td>\n",
       "      <td>3</td>\n",
       "      <td>1.0</td>\n",
       "      <td>SB4</td>\n",
       "      <td>[Aaron, Cell, Dodo]</td>\n",
       "    </tr>\n",
       "    <tr>\n",
       "      <th>1</th>\n",
       "      <td>1</td>\n",
       "      <td>2</td>\n",
       "      <td>1.0</td>\n",
       "      <td>CSC102</td>\n",
       "      <td>Dec 2nd 9am</td>\n",
       "      <td>1</td>\n",
       "      <td>3</td>\n",
       "      <td>1.0</td>\n",
       "      <td>SB4</td>\n",
       "      <td>[Aaron, Dodo, Earl, Frank]</td>\n",
       "    </tr>\n",
       "    <tr>\n",
       "      <th>2</th>\n",
       "      <td>2</td>\n",
       "      <td>0</td>\n",
       "      <td>1.0</td>\n",
       "      <td>CSC103</td>\n",
       "      <td>Dec 1st 9am</td>\n",
       "      <td>2</td>\n",
       "      <td>3</td>\n",
       "      <td>1.0</td>\n",
       "      <td>SB4</td>\n",
       "      <td>[Aaron, Frank]</td>\n",
       "    </tr>\n",
       "    <tr>\n",
       "      <th>3</th>\n",
       "      <td>3</td>\n",
       "      <td>4</td>\n",
       "      <td>1.0</td>\n",
       "      <td>CSC104</td>\n",
       "      <td>Dec 3rd 9am</td>\n",
       "      <td>3</td>\n",
       "      <td>3</td>\n",
       "      <td>1.0</td>\n",
       "      <td>SB4</td>\n",
       "      <td>[Aaron, Bruno, Dodo, Earl, Frank]</td>\n",
       "    </tr>\n",
       "  </tbody>\n",
       "</table>\n",
       "</div>"
      ],
      "text/plain": [
       "   exam_x  timeslot  value_x    EXAM      TIMESLOT  exam_y  room  value_y  \\\n",
       "0       0         3      1.0  CSC101  Dec 2nd 12pm       0     3      1.0   \n",
       "1       1         2      1.0  CSC102   Dec 2nd 9am       1     3      1.0   \n",
       "2       2         0      1.0  CSC103   Dec 1st 9am       2     3      1.0   \n",
       "3       3         4      1.0  CSC104   Dec 3rd 9am       3     3      1.0   \n",
       "\n",
       "  ROOM                            student  \n",
       "0  SB4                [Aaron, Cell, Dodo]  \n",
       "1  SB4         [Aaron, Dodo, Earl, Frank]  \n",
       "2  SB4                     [Aaron, Frank]  \n",
       "3  SB4  [Aaron, Bruno, Dodo, Earl, Frank]  "
      ]
     },
     "metadata": {},
     "output_type": "display_data"
    }
   ],
   "source": [
    "sol = opt_mod.solve()\n",
    "if sol:\n",
    "    print(\"Found a solution \\n\")\n",
    "    schedule, df_x, df_y = process_solution(sol)\n",
    "    \n",
    "    print(\"Schedule: \\n\")\n",
    "    display(schedule.merge(enrolment_df, on='EXAM', how='left'))\n",
    "else:\n",
    "    print(\"Could not find a solution\")"
   ]
  }
 ],
 "metadata": {
  "kernelspec": {
   "display_name": "Python 3.9.12 ('venv')",
   "language": "python",
   "name": "python3"
  },
  "language_info": {
   "codemirror_mode": {
    "name": "ipython",
    "version": 3
   },
   "file_extension": ".py",
   "mimetype": "text/x-python",
   "name": "python",
   "nbconvert_exporter": "python",
   "pygments_lexer": "ipython3",
   "version": "3.9.12"
  },
  "vscode": {
   "interpreter": {
    "hash": "9b192910274a1c529aa82efb3891000b6bfb36ab9aac7f7933ae5d00944f2e3c"
   }
  }
 },
 "nbformat": 4,
 "nbformat_minor": 5
}
