{
 "cells": [
  {
   "cell_type": "code",
   "execution_count": 1,
   "id": "b8e19dec-82d1-4be8-9599-7264efab1169",
   "metadata": {},
   "outputs": [],
   "source": [
    "import numpy as np \n",
    "import pandas as pd\n",
    "from docplex.mp.model import Model\n",
    "from docplex.mp.solution import SolveSolution\n",
    "from typing import Union, List\n",
    "from numpy.random import default_rng\n",
    "import names\n",
    "\n",
    "from datetime import datetime\n",
    "rng = default_rng()"
   ]
  },
  {
   "cell_type": "markdown",
   "id": "3dfc5440-f19d-406c-92db-ba5c19f62db9",
   "metadata": {},
   "source": [
    "## Constants"
   ]
  },
  {
   "cell_type": "code",
   "execution_count": 2,
   "id": "cc4bf533-283b-4f32-bed3-41b34a088d74",
   "metadata": {},
   "outputs": [],
   "source": [
    "number_exams = np.random.randint(5, 10) \n",
    "number_students = np.random.randint(50, 60)\n",
    "number_exam_days = np.random.randint(7, 15) # number of days allocated for final exams\n",
    "number_rooms = np.random.randint(5, 10) \n",
    "\n",
    "E = [f'CSC_{code}' for code in rng.choice(range(101, 401), size=number_exams, replace=False)] # exams\n",
    "S = [names.get_full_name() for i in range(number_students)] # students\n",
    "T = [[datetime(2022, 12, day, 9), datetime(2022, 12, day, 13), datetime(2022, 12, day, 17)] for day in range(1, number_exam_days)] # timeslots\n",
    "R = [f'RM_{code}' for code in rng.choice(range(101, 401), size=number_exams, replace=False)] # rooms\n",
    "Cp = np.random.randint(20, 60, (len(R))) # capacity of rooms\n",
    "\n",
    "# course enrolments\n",
    "He_s = np.random.randint(0,2, (len(E),len(S))) # binary random \n",
    "sumHe_s = np.sum(He_s, axis=1)"
   ]
  },
  {
   "cell_type": "markdown",
   "id": "dd279455-b2df-461e-b098-58ea60fdafa7",
   "metadata": {},
   "source": [
    "## Variables"
   ]
  },
  {
   "cell_type": "code",
   "execution_count": 3,
   "id": "d519ee78-3d8f-44a4-8064-e8677fda73e0",
   "metadata": {},
   "outputs": [],
   "source": [
    "opt_mod = Model(name='ET MIP')"
   ]
  },
  {
   "cell_type": "code",
   "execution_count": 4,
   "id": "faa0fa90-ffd4-4d97-8be9-b47794b4ac40",
   "metadata": {},
   "outputs": [],
   "source": [
    "x = opt_mod.binary_var_matrix(len(E), len(T), name=\"X_e,t\") # whether we use timeslot t for exam e\n",
    "y = opt_mod.binary_var_matrix(len(E), len(R), name=\"Y_e,r\") # whether we use room r for exam e\n",
    "# z = opt_mod.binary_var_matrix(len(S), len(E), name=\"Z_s,e\") # whether exam e is allocated to student s "
   ]
  },
  {
   "cell_type": "markdown",
   "id": "b3a15681-9f78-4415-a981-f61d5bd04b02",
   "metadata": {},
   "source": [
    "## Constraints"
   ]
  },
  {
   "cell_type": "markdown",
   "id": "436172dc-9a05-487f-b380-3837fabfe68c",
   "metadata": {},
   "source": [
    "C1: For all exams, the sum of the allocated timeslots must be equal to 1\n",
    "\n",
    "$$\\sum_{t\\in T_c} X_e,_t=1 \\;\\forall \\; e \\in E, e \\in \\{0,1\\}$$\n",
    "\n",
    "C2: For all exams, the sum of the allocated rooms must be equal to 1\n",
    "\n",
    "$$\\sum_{r\\in R_e} Y_e,_r = 1 \\;\\forall \\; e \\in E $$\n",
    "\n",
    "C3: For every student and timeslot, the sum of the allocated exams must be less or equal to 1. \n",
    "- i.e. students can be at only one exam at a time\n",
    "\n",
    "C4: For all rooms, the sum of students in a room must be less than the capacity of the room"
   ]
  },
  {
   "cell_type": "code",
   "execution_count": 5,
   "id": "66450661-f046-4ba0-a6fb-07f189c21273",
   "metadata": {},
   "outputs": [],
   "source": [
    "c1 = opt_mod.add_constraints((sum(x[e, t] for t in range(len(T))) == 1 for e in range(len(E))), names='c1') "
   ]
  },
  {
   "cell_type": "code",
   "execution_count": 6,
   "id": "8643a36b-d4de-4ee5-aa85-6086f562436f",
   "metadata": {},
   "outputs": [],
   "source": [
    "c2 = opt_mod.add_constraints((sum(y[e, r] for r in range(len(R))) == 1 for e in range(len(E))), names='c2') "
   ]
  },
  {
   "cell_type": "code",
   "execution_count": 7,
   "id": "00aa3ce5-83c9-4ae0-b090-c6e12e6ee4e7",
   "metadata": {},
   "outputs": [],
   "source": [
    "# c3 modified constraint \n",
    "for s in range(len(S)):\n",
    "    for t in range(len(T)):\n",
    "        cond = sum(x[e,t] * He_s[e,s] for e in range(len(E)))\n",
    "        if type(cond) != int:\n",
    "            opt_mod.add_constraint(cond <= 1)"
   ]
  },
  {
   "cell_type": "code",
   "execution_count": 8,
   "id": "00803689-8fcb-442c-b725-8808afc6c714",
   "metadata": {},
   "outputs": [],
   "source": [
    "# c4 modified constraint\n",
    "for r in range(len(R)):\n",
    "    for t in range(len(T)):\n",
    "        cond = sum((x[e,t]*y[e,r]) * sumHe_s[e] for e in range(len(E)))\n",
    "        if type(cond) != int:\n",
    "            opt_mod.add_constraint(cond <= Cp[r])"
   ]
  },
  {
   "cell_type": "code",
   "execution_count": 9,
   "id": "ded9f9bd-ba5c-40f9-8e29-6d5c4685264a",
   "metadata": {},
   "outputs": [],
   "source": [
    "# c4 = opt_mod.add_constraints((sum(y[e,r] * sumHe_s[e] for e in range(len(E))) <= Cp[r] for r in range(len(R))), names='c4') "
   ]
  },
  {
   "cell_type": "markdown",
   "id": "df95d1a2-ebf7-4c64-9327-dbc56aa1662b",
   "metadata": {},
   "source": [
    "## Objective Function"
   ]
  },
  {
   "cell_type": "markdown",
   "id": "c17ce398-889c-429e-9c2f-4da72f09bbe0",
   "metadata": {},
   "source": [
    "$$  minimize\\; I_T = \\sum_{k=1}^{K_T} \\; ceil \\; \\left[ \\sum_{c=1}^{C_K}\\; N_c \\; * \\; (ratio \\; students \\; to \\; invigilators) \\right] $$"
   ]
  },
  {
   "cell_type": "code",
   "execution_count": 10,
   "id": "4346d498",
   "metadata": {},
   "outputs": [],
   "source": [
    "ratio_of_Inv = 1/3"
   ]
  },
  {
   "cell_type": "code",
   "execution_count": 11,
   "id": "0d0f6a78",
   "metadata": {},
   "outputs": [
    {
     "name": "stdout",
     "output_type": "stream",
     "text": [
      "Model: ET MIP\n",
      " - number of variables: 65\n",
      "   - binary=65, integer=0, continuous=0\n",
      " - number of constraints: 482\n",
      "   - linear=442, quadratic=40\n",
      " - parameters: defaults\n",
      " - objective: minimize\n",
      " - problem type is: MIQCP\n"
     ]
    }
   ],
   "source": [
    "obj_fun =  sum(sum(y[e,r] * sumHe_s[e] for e in range(len(E))) for r in range(len(R)))\n",
    "opt_mod.set_objective('min', obj_fun)\n",
    "opt_mod.print_information()"
   ]
  },
  {
   "cell_type": "markdown",
   "id": "3dfa5080-c3a2-49c2-af66-a0ec44816d5b",
   "metadata": {},
   "source": [
    "## Processing Solution"
   ]
  },
  {
   "cell_type": "code",
   "execution_count": 12,
   "id": "8096f9ab-f40e-4457-9295-dcd9724a3ef4",
   "metadata": {},
   "outputs": [],
   "source": [
    "def process_solution(sol : SolveSolution) -> Union[pd.DataFrame, pd.DataFrame, pd.DataFrame]:\n",
    "    \"\"\"\n",
    "    Takes a cplex solution and produces a exam schedule\n",
    "    \n",
    "    Parameters\n",
    "    ----------\n",
    "    sol : SolveSolution\n",
    "        solution from the solver\n",
    "    \n",
    "    Returns\n",
    "    -------\n",
    "    final_schedule : pd.DataFrame\n",
    "        The schedule formatted in readable format for an exam organizer\n",
    "    \n",
    "    df_x : pd.DataFrame\n",
    "        The results for variable x\n",
    "    \n",
    "    df_y : pd.DataFrame\n",
    "        The results for variable y\n",
    "    \"\"\"\n",
    "    # extract solutions as df\n",
    "    df_x = sol.get_value_df(x).rename(columns={'key_1':'exam','key_2':'timeslot'})\n",
    "    df_y = sol.get_value_df(y).rename(columns={'key_1':'exam','key_2':'room'})\n",
    "\n",
    "    # Add rows with the names of courses and timelots\n",
    "    exam_col = [E[i] for i in range(len(E)) for j in range(len(T))]\n",
    "    time_col = [T[j] for i in range(len(E)) for j in range(len(T))]\n",
    "    df_x[\"EXAM\"] = exam_col\n",
    "    df_x[\"TIMESLOT\"] = time_col\n",
    "\n",
    "    # Add rows with the names of courses and rooms\n",
    "    exam_col = [E[i] for i in range(len(E)) for j in range(len(R))]\n",
    "    room_col = [R[j] for i in range(len(E)) for j in range(len(R))]\n",
    "    df_y[\"EXAM\"] = exam_col\n",
    "    df_y[\"ROOM\"] = room_col\n",
    "    \n",
    "    # Produce the final schedule\n",
    "    final_schedule = df_x[df_x[\"value\"]==1].merge(df_y[df_y[\"value\"]==1], on='EXAM', how='left')\n",
    "    \n",
    "    return final_schedule, df_x, df_y"
   ]
  },
  {
   "cell_type": "code",
   "execution_count": 13,
   "id": "1d2690bd-331d-472e-8e66-604cd5856bd9",
   "metadata": {},
   "outputs": [],
   "source": [
    "def create_enrolment_df(He_s : np.array, S : List[int]) -> pd.DataFrame:\n",
    "    \"\"\"\n",
    "    Creates a dataframe with the students for each exam/course\n",
    "    \"\"\"\n",
    "    exam_student_pairs = []\n",
    "    for exam in range(len(He_s)):\n",
    "        students_in_exam_e = []\n",
    "        for i, student in enumerate(He_s[exam]):\n",
    "            if student == 1:\n",
    "                students_in_exam_e.append(S[i])\n",
    "        exam_student_pairs.append(students_in_exam_e)\n",
    "        \n",
    "    enrolment_df = pd.DataFrame(columns=['EXAM','student'])\n",
    "    enrolment_df['EXAM'] = E\n",
    "    enrolment_df['student'] = exam_student_pairs\n",
    "\n",
    "    return enrolment_df"
   ]
  },
  {
   "cell_type": "code",
   "execution_count": 14,
   "id": "2e97e9ab-e01d-4052-8a67-cd03f4556495",
   "metadata": {},
   "outputs": [
    {
     "data": {
      "text/html": [
       "<div>\n",
       "<style scoped>\n",
       "    .dataframe tbody tr th:only-of-type {\n",
       "        vertical-align: middle;\n",
       "    }\n",
       "\n",
       "    .dataframe tbody tr th {\n",
       "        vertical-align: top;\n",
       "    }\n",
       "\n",
       "    .dataframe thead th {\n",
       "        text-align: right;\n",
       "    }\n",
       "</style>\n",
       "<table border=\"1\" class=\"dataframe\">\n",
       "  <thead>\n",
       "    <tr style=\"text-align: right;\">\n",
       "      <th></th>\n",
       "      <th>EXAM</th>\n",
       "      <th>student</th>\n",
       "    </tr>\n",
       "  </thead>\n",
       "  <tbody>\n",
       "    <tr>\n",
       "      <th>0</th>\n",
       "      <td>CSC_190</td>\n",
       "      <td>[Dan Toler, Consuelo Valencia, Oscar Obrien, K...</td>\n",
       "    </tr>\n",
       "    <tr>\n",
       "      <th>1</th>\n",
       "      <td>CSC_338</td>\n",
       "      <td>[Dan Toler, Bobby Powell, Joyce Brown, Glenda ...</td>\n",
       "    </tr>\n",
       "    <tr>\n",
       "      <th>2</th>\n",
       "      <td>CSC_231</td>\n",
       "      <td>[Dan Toler, Bobby Powell, Maryanne Jones, Robe...</td>\n",
       "    </tr>\n",
       "    <tr>\n",
       "      <th>3</th>\n",
       "      <td>CSC_302</td>\n",
       "      <td>[Richard Noga, Bobby Powell, Consuelo Valencia...</td>\n",
       "    </tr>\n",
       "    <tr>\n",
       "      <th>4</th>\n",
       "      <td>CSC_138</td>\n",
       "      <td>[Dan Toler, Richard Noga, Bobby Powell, Oscar ...</td>\n",
       "    </tr>\n",
       "  </tbody>\n",
       "</table>\n",
       "</div>"
      ],
      "text/plain": [
       "      EXAM                                            student\n",
       "0  CSC_190  [Dan Toler, Consuelo Valencia, Oscar Obrien, K...\n",
       "1  CSC_338  [Dan Toler, Bobby Powell, Joyce Brown, Glenda ...\n",
       "2  CSC_231  [Dan Toler, Bobby Powell, Maryanne Jones, Robe...\n",
       "3  CSC_302  [Richard Noga, Bobby Powell, Consuelo Valencia...\n",
       "4  CSC_138  [Dan Toler, Richard Noga, Bobby Powell, Oscar ..."
      ]
     },
     "execution_count": 14,
     "metadata": {},
     "output_type": "execute_result"
    }
   ],
   "source": [
    "enrolment_df = create_enrolment_df(He_s, S)\n",
    "enrolment_df"
   ]
  },
  {
   "cell_type": "code",
   "execution_count": 15,
   "id": "f1d6af30",
   "metadata": {},
   "outputs": [
    {
     "name": "stdout",
     "output_type": "stream",
     "text": [
      "Found a solution \n",
      "\n",
      "Schedule: \n",
      "\n"
     ]
    },
    {
     "data": {
      "text/html": [
       "<div>\n",
       "<style scoped>\n",
       "    .dataframe tbody tr th:only-of-type {\n",
       "        vertical-align: middle;\n",
       "    }\n",
       "\n",
       "    .dataframe tbody tr th {\n",
       "        vertical-align: top;\n",
       "    }\n",
       "\n",
       "    .dataframe thead th {\n",
       "        text-align: right;\n",
       "    }\n",
       "</style>\n",
       "<table border=\"1\" class=\"dataframe\">\n",
       "  <thead>\n",
       "    <tr style=\"text-align: right;\">\n",
       "      <th></th>\n",
       "      <th>exam_x</th>\n",
       "      <th>timeslot</th>\n",
       "      <th>value_x</th>\n",
       "      <th>EXAM</th>\n",
       "      <th>TIMESLOT</th>\n",
       "      <th>exam_y</th>\n",
       "      <th>room</th>\n",
       "      <th>value_y</th>\n",
       "      <th>ROOM</th>\n",
       "      <th>student</th>\n",
       "    </tr>\n",
       "  </thead>\n",
       "  <tbody>\n",
       "    <tr>\n",
       "      <th>0</th>\n",
       "      <td>0</td>\n",
       "      <td>1</td>\n",
       "      <td>1.0</td>\n",
       "      <td>CSC_190</td>\n",
       "      <td>[2022-12-02 09:00:00, 2022-12-02 13:00:00, 202...</td>\n",
       "      <td>0</td>\n",
       "      <td>2</td>\n",
       "      <td>1.0</td>\n",
       "      <td>RM_102</td>\n",
       "      <td>[Dan Toler, Consuelo Valencia, Oscar Obrien, K...</td>\n",
       "    </tr>\n",
       "    <tr>\n",
       "      <th>1</th>\n",
       "      <td>1</td>\n",
       "      <td>5</td>\n",
       "      <td>1.0</td>\n",
       "      <td>CSC_338</td>\n",
       "      <td>[2022-12-06 09:00:00, 2022-12-06 13:00:00, 202...</td>\n",
       "      <td>1</td>\n",
       "      <td>3</td>\n",
       "      <td>1.0</td>\n",
       "      <td>RM_136</td>\n",
       "      <td>[Dan Toler, Bobby Powell, Joyce Brown, Glenda ...</td>\n",
       "    </tr>\n",
       "    <tr>\n",
       "      <th>2</th>\n",
       "      <td>2</td>\n",
       "      <td>0</td>\n",
       "      <td>1.0</td>\n",
       "      <td>CSC_231</td>\n",
       "      <td>[2022-12-01 09:00:00, 2022-12-01 13:00:00, 202...</td>\n",
       "      <td>2</td>\n",
       "      <td>1</td>\n",
       "      <td>1.0</td>\n",
       "      <td>RM_193</td>\n",
       "      <td>[Dan Toler, Bobby Powell, Maryanne Jones, Robe...</td>\n",
       "    </tr>\n",
       "    <tr>\n",
       "      <th>3</th>\n",
       "      <td>3</td>\n",
       "      <td>4</td>\n",
       "      <td>1.0</td>\n",
       "      <td>CSC_302</td>\n",
       "      <td>[2022-12-05 09:00:00, 2022-12-05 13:00:00, 202...</td>\n",
       "      <td>3</td>\n",
       "      <td>2</td>\n",
       "      <td>1.0</td>\n",
       "      <td>RM_102</td>\n",
       "      <td>[Richard Noga, Bobby Powell, Consuelo Valencia...</td>\n",
       "    </tr>\n",
       "    <tr>\n",
       "      <th>4</th>\n",
       "      <td>4</td>\n",
       "      <td>2</td>\n",
       "      <td>1.0</td>\n",
       "      <td>CSC_138</td>\n",
       "      <td>[2022-12-03 09:00:00, 2022-12-03 13:00:00, 202...</td>\n",
       "      <td>4</td>\n",
       "      <td>3</td>\n",
       "      <td>1.0</td>\n",
       "      <td>RM_136</td>\n",
       "      <td>[Dan Toler, Richard Noga, Bobby Powell, Oscar ...</td>\n",
       "    </tr>\n",
       "  </tbody>\n",
       "</table>\n",
       "</div>"
      ],
      "text/plain": [
       "   exam_x  timeslot  value_x     EXAM  \\\n",
       "0       0         1      1.0  CSC_190   \n",
       "1       1         5      1.0  CSC_338   \n",
       "2       2         0      1.0  CSC_231   \n",
       "3       3         4      1.0  CSC_302   \n",
       "4       4         2      1.0  CSC_138   \n",
       "\n",
       "                                            TIMESLOT  exam_y  room  value_y  \\\n",
       "0  [2022-12-02 09:00:00, 2022-12-02 13:00:00, 202...       0     2      1.0   \n",
       "1  [2022-12-06 09:00:00, 2022-12-06 13:00:00, 202...       1     3      1.0   \n",
       "2  [2022-12-01 09:00:00, 2022-12-01 13:00:00, 202...       2     1      1.0   \n",
       "3  [2022-12-05 09:00:00, 2022-12-05 13:00:00, 202...       3     2      1.0   \n",
       "4  [2022-12-03 09:00:00, 2022-12-03 13:00:00, 202...       4     3      1.0   \n",
       "\n",
       "     ROOM                                            student  \n",
       "0  RM_102  [Dan Toler, Consuelo Valencia, Oscar Obrien, K...  \n",
       "1  RM_136  [Dan Toler, Bobby Powell, Joyce Brown, Glenda ...  \n",
       "2  RM_193  [Dan Toler, Bobby Powell, Maryanne Jones, Robe...  \n",
       "3  RM_102  [Richard Noga, Bobby Powell, Consuelo Valencia...  \n",
       "4  RM_136  [Dan Toler, Richard Noga, Bobby Powell, Oscar ...  "
      ]
     },
     "metadata": {},
     "output_type": "display_data"
    }
   ],
   "source": [
    "sol = opt_mod.solve()\n",
    "if sol:\n",
    "    print(\"Found a solution \\n\")\n",
    "    schedule, df_x, df_y = process_solution(sol)\n",
    "    print(\"Schedule: \\n\")\n",
    "    display(schedule.merge(enrolment_df, on='EXAM', how='left'))\n",
    "    \n",
    "    run_time = sol.solve_details.time\n",
    "    \n",
    "else:\n",
    "    print(\"Could not find a solution\")\n",
    "    run_time = np.nan"
   ]
  }
 ],
 "metadata": {
  "kernelspec": {
   "display_name": "Python 3 (ipykernel)",
   "language": "python",
   "name": "python3"
  },
  "language_info": {
   "codemirror_mode": {
    "name": "ipython",
    "version": 3
   },
   "file_extension": ".py",
   "mimetype": "text/x-python",
   "name": "python",
   "nbconvert_exporter": "python",
   "pygments_lexer": "ipython3",
   "version": "3.8.10"
  },
  "vscode": {
   "interpreter": {
    "hash": "e166ee78bdcdd75f3d9232dc9aefe64b3e805d3b62f341989d1774c6a1d322d6"
   }
  }
 },
 "nbformat": 4,
 "nbformat_minor": 5
}
