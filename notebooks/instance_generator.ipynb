{
 "cells": [
  {
   "cell_type": "code",
   "execution_count": 1,
   "id": "b8e19dec-82d1-4be8-9599-7264efab1169",
   "metadata": {},
   "outputs": [],
   "source": [
    "import numpy as np \n",
    "import pandas as pd\n",
    "from docplex.mp.model import Model\n",
    "from docplex.mp.solution import SolveSolution\n",
    "from typing import Union, List\n",
    "from numpy.random import default_rng\n",
    "import names\n",
    "import pickle\n",
    "\n",
    "import cplex\n",
    "import docplex\n",
    "\n",
    "from datetime import datetime\n",
    "rng = default_rng()"
   ]
  },
  {
   "cell_type": "code",
   "execution_count": 15,
   "id": "c656d84f-6701-44ab-8d2d-6c671558bd0a",
   "metadata": {},
   "outputs": [],
   "source": [
    "from tqdm import tqdm"
   ]
  },
  {
   "cell_type": "markdown",
   "id": "ab7d6950-cec4-49c7-b6e0-fbf81e6a5229",
   "metadata": {
    "tags": []
   },
   "source": [
    "## Solver Parameters"
   ]
  },
  {
   "cell_type": "code",
   "execution_count": 16,
   "id": "d519ee78-3d8f-44a4-8064-e8677fda73e0",
   "metadata": {},
   "outputs": [],
   "source": [
    "opt_mod = Model(name='ET MIP')"
   ]
  },
  {
   "cell_type": "code",
   "execution_count": 17,
   "id": "1f72e6af-5bfd-470e-8365-2aefd1e26d77",
   "metadata": {},
   "outputs": [
    {
     "data": {
      "text/plain": [
       "docplex.mp.params.NumParameter(parameters.timelimit,1e+75)"
      ]
     },
     "execution_count": 17,
     "metadata": {},
     "output_type": "execute_result"
    }
   ],
   "source": [
    "opt_mod.parameters.timelimit"
   ]
  },
  {
   "cell_type": "code",
   "execution_count": 4,
   "id": "66a9497b-f483-4606-87c6-e52c364e1072",
   "metadata": {},
   "outputs": [],
   "source": [
    "# opt_mod.parameters.timelimit = 10\n",
    "# opt_mod.set_time_limit(10)"
   ]
  },
  {
   "cell_type": "markdown",
   "id": "3dfc5440-f19d-406c-92db-ba5c19f62db9",
   "metadata": {},
   "source": [
    "## Constants"
   ]
  },
  {
   "cell_type": "code",
   "execution_count": 5,
   "id": "604e6000",
   "metadata": {},
   "outputs": [],
   "source": [
    "number_exams = 1279\n",
    "number_students = 10764\n",
    "number_exam_days = 20 # assumes 3 time slots per day\n",
    "number_rooms = 77\n",
    "min_room_size = 50\n",
    "max_room_size = 200\n",
    "\n",
    "E = [f'APSC_{code}' for code in rng.choice(range(0, number_exams + 1), size=number_exams, replace=False)] # exams\n",
    "S = [names.get_full_name() for i in range(number_students)] # students\n",
    "T = [[datetime(2022, 12, day, 9), datetime(2022, 12, day, 13), datetime(2022, 12, day, 17)] for day in range(1, number_exam_days)] # timeslots\n",
    "R = [f'RM_{code}' for code in rng.choice(range(number_rooms + 1), size=number_exams, replace=False)] # rooms\n",
    "Cp = np.random.randint(min_room_size, max_room_size, (len(R))) # capacity of rooms\n",
    "\n",
    "# # course enrolments\n",
    "# He_s = np.random.randint(0,2, (len(E),len(S))) # binary random \n",
    "# sumHe_s = np.sum(He_s, axis=1)"
   ]
  },
  {
   "cell_type": "code",
   "execution_count": 6,
   "id": "62895196",
   "metadata": {},
   "outputs": [],
   "source": [
    "# with open('E_Pickle.pkl', 'wb') as f:\n",
    "#     pickle.dump(E, f)\n",
    "\n",
    "# with open('S_Pickle.pkl', 'wb') as f:\n",
    "#     pickle.dump(S, f)\n",
    "    \n",
    "# with open('T_Pickle.pkl', 'wb') as f:\n",
    "#     pickle.dump(T, f)\n",
    "    \n",
    "# with open('R_Pickle.pkl', 'wb') as f:\n",
    "#     pickle.dump(R, f)\n",
    "\n",
    "# with open('He_s_Pickle.pkl', 'wb') as f:\n",
    "#     pickle.dump(He_s, f)"
   ]
  },
  {
   "cell_type": "code",
   "execution_count": 1,
   "id": "312306ee",
   "metadata": {},
   "outputs": [],
   "source": [
    "# with open('E_Pickle.pkl', 'rb') as f:\n",
    "#     E = pickle.load(f)\n",
    "\n",
    "# # with open('S_Pickle.pkl', 'rb') as f:\n",
    "# #     S = pickle.load(f)\n",
    "    \n",
    "# with open('T_Pickle.pkl', 'rb') as f:\n",
    "#     T = pickle.load(f)\n",
    "    \n",
    "# with open('R_Pickle.pkl', 'rb') as f:\n",
    "#     R = pickle.load(f)\n",
    "    \n",
    "# He_s = np.random.randint(0,2, (len(E),len(S))) # binary random \n",
    "# sumHe_s = np.sum(He_s, axis=1)"
   ]
  },
  {
   "cell_type": "code",
   "execution_count": 21,
   "id": "87ee36ce-493c-4508-98f1-43fcb14cc9af",
   "metadata": {},
   "outputs": [
    {
     "name": "stdout",
     "output_type": "stream",
     "text": [
      "Number of exams          : 1279\n",
      "Number of students       : 2561\n",
      "Number of rooms          : 77\n",
      "Number of datetime slots : 19\n",
      "Shape of enrolments      : (1279, 2561)\n"
     ]
    }
   ],
   "source": [
    "print(f\"Number of exams          : {len(E)}\")\n",
    "print(f\"Number of students       : {len(S)}\")\n",
    "print(f\"Number of rooms          : {len(R)}\")\n",
    "print(f\"Number of datetime slots : {len(T)}\")\n",
    "print(f\"Shape of enrolments      : {He_s.shape}\")"
   ]
  },
  {
   "cell_type": "markdown",
   "id": "dd279455-b2df-461e-b098-58ea60fdafa7",
   "metadata": {},
   "source": [
    "## Variables"
   ]
  },
  {
   "cell_type": "code",
   "execution_count": 22,
   "id": "faa0fa90-ffd4-4d97-8be9-b47794b4ac40",
   "metadata": {},
   "outputs": [],
   "source": [
    "x = opt_mod.binary_var_matrix(len(E), len(T), name=\"X_e,t\") # whether we use timeslot t for exam e\n",
    "y = opt_mod.binary_var_matrix(len(E), len(R), name=\"Y_e,r\") # whether we use room r for exam e"
   ]
  },
  {
   "cell_type": "markdown",
   "id": "b3a15681-9f78-4415-a981-f61d5bd04b02",
   "metadata": {},
   "source": [
    "## Constraints"
   ]
  },
  {
   "cell_type": "markdown",
   "id": "436172dc-9a05-487f-b380-3837fabfe68c",
   "metadata": {},
   "source": [
    "C1: For all exams, the sum of the allocated timeslots must be equal to 1\n",
    "\n",
    "$$\\sum_{t\\in T_c} X_e,_t=1 \\;\\forall \\; e \\in E$$\n",
    "\n",
    "C2: For all exams, the sum of the allocated rooms must be equal to 1\n",
    "\n",
    "$$\\sum_{r\\in R_e} Y_e,_r = 1 \\;\\forall \\; e \\in E$$\n",
    "\n",
    "C3: For every student and timeslot, the sum of the allocated exams must be less or equal to 1. \n",
    "- i.e. students can be at only one exam at a time\n",
    "\n",
    "$$\\sum_{e\\in E} X_e,_t * H_e,_s \\leq 1 \\;\\forall \\; s \\in S \\; and \\; t \\in T$$\n",
    "\n",
    "\n",
    "C4: For all rooms, the sum of students in a room must be less than the capacity of the room\n",
    "\n",
    "$$\\sum_{e\\in E} X_e,_t * y_e,_r \\leq C_p,_r \\;\\forall \\; r \\in R \\; and \\; t \\in T$$"
   ]
  },
  {
   "cell_type": "code",
   "execution_count": 23,
   "id": "66450661-f046-4ba0-a6fb-07f189c21273",
   "metadata": {},
   "outputs": [],
   "source": [
    "c1 = opt_mod.add_constraints((sum(x[e, t] for t in range(len(T))) == 1 for e in range(len(E))), names='c1') "
   ]
  },
  {
   "cell_type": "code",
   "execution_count": 24,
   "id": "8643a36b-d4de-4ee5-aa85-6086f562436f",
   "metadata": {},
   "outputs": [],
   "source": [
    "c2 = opt_mod.add_constraints((sum(y[e, r] for r in range(len(R))) == 1 for e in range(len(E))), names='c2') "
   ]
  },
  {
   "cell_type": "code",
   "execution_count": 13,
   "id": "98d1fa7b-1232-4cfc-bd84-c8a04ec23f8f",
   "metadata": {},
   "outputs": [],
   "source": [
    "# c3 = opt_mod.add_constraints((sum(x[e,t] * He_s[e,s] for e in range(len(E))) <= 1 for s in range(len(S)) for t in range(len(T))), names='c3')"
   ]
  },
  {
   "cell_type": "code",
   "execution_count": 25,
   "id": "00aa3ce5-83c9-4ae0-b090-c6e12e6ee4e7",
   "metadata": {},
   "outputs": [
    {
     "name": "stderr",
     "output_type": "stream",
     "text": [
      "100%|███████████████████████████████████████████████████████████████████████████████████████████████| 2561/2561 [08:43<00:00,  4.89it/s]\n"
     ]
    }
   ],
   "source": [
    "# c3 modified constraint \n",
    "i = 0\n",
    "for s in tqdm(range(len(S))):\n",
    "    for t in range(len(T)):\n",
    "        cond = sum(x[e,t] * He_s[e,s] for e in range(len(E)))\n",
    "        if type(cond) != int:\n",
    "            opt_mod.add_constraint(cond <= 1)\n",
    "    i += 1"
   ]
  },
  {
   "cell_type": "code",
   "execution_count": 26,
   "id": "00803689-8fcb-442c-b725-8808afc6c714",
   "metadata": {},
   "outputs": [
    {
     "name": "stderr",
     "output_type": "stream",
     "text": [
      "100%|███████████████████████████████████████████████████████████████████████████████████████████████████| 77/77 [00:38<00:00,  1.98it/s]\n"
     ]
    }
   ],
   "source": [
    "# c4 modified constraint\n",
    "for r in tqdm(range(len(R))):\n",
    "    for t in range(len(T)):\n",
    "        cond = sum((x[e,t]*y[e,r]) * sumHe_s[e] for e in range(len(E)))\n",
    "        if type(cond) != int:\n",
    "            opt_mod.add_constraint(cond <= Cp[r])"
   ]
  },
  {
   "cell_type": "code",
   "execution_count": null,
   "id": "ded9f9bd-ba5c-40f9-8e29-6d5c4685264a",
   "metadata": {},
   "outputs": [],
   "source": [
    "# c4 = opt_mod.add_constraints((sum(y[e,r] * sumHe_s[e] for e in range(len(E))) <= Cp[r] for r in range(len(R))), names='c4') "
   ]
  },
  {
   "cell_type": "markdown",
   "id": "df95d1a2-ebf7-4c64-9327-dbc56aa1662b",
   "metadata": {},
   "source": [
    "## Objective Function"
   ]
  },
  {
   "cell_type": "markdown",
   "id": "c17ce398-889c-429e-9c2f-4da72f09bbe0",
   "metadata": {},
   "source": [
    "$$  minimize\\; I_T = \\sum_{k=1}^{K_T} \\; ceil \\; \\left[ \\sum_{c=1}^{C_K}\\; N_c \\; * \\; (ratio \\; students \\; to \\; invigilators) \\right] $$"
   ]
  },
  {
   "cell_type": "code",
   "execution_count": 39,
   "id": "4346d498",
   "metadata": {},
   "outputs": [],
   "source": [
    "ratio_of_Inv = 1/3"
   ]
  },
  {
   "cell_type": "markdown",
   "id": "ebfd7119-69e6-49cb-a329-026482df8d2f",
   "metadata": {},
   "source": [
    "$$\\sum_{r \\in R} \\; ceil \\;  \\left[ \\sum_{e \\in E}y_e,_r ( \\sum_{s \\in S} H_e,_s ) \\; (ratio \\; students \\; to \\; invigilators) \\right] * \\; cost \\; per \\; invigilator $$"
   ]
  },
  {
   "cell_type": "code",
   "execution_count": 40,
   "id": "0d0f6a78",
   "metadata": {},
   "outputs": [
    {
     "name": "stdout",
     "output_type": "stream",
     "text": [
      "Model: ET MIP\n",
      " - number of variables: 122784\n",
      "   - binary=122784, integer=0, continuous=0\n",
      " - number of constraints: 52680\n",
      "   - linear=51217, quadratic=1463\n",
      " - parameters: defaults\n",
      " - objective: minimize\n",
      " - problem type is: MIQCP\n"
     ]
    }
   ],
   "source": [
    "obj_fun =  sum(sum(y[e,r] * sumHe_s[e] for e in range(len(E))) for r in range(len(R)))\n",
    "opt_mod.set_objective('min', obj_fun)\n",
    "opt_mod.print_information()"
   ]
  },
  {
   "cell_type": "code",
   "execution_count": 38,
   "id": "65ad44eb-cbba-4768-abe9-510ed37efeb4",
   "metadata": {},
   "outputs": [],
   "source": [
    "# pickle the model in case it crashes during solving\n",
    "model_id = 'model_' + datetime.now().strftime(\"%y-%m-%d-%H-%M\")\n",
    "with open(f'{model_id}.pkl', 'wb') as f:\n",
    "    pickle.dump(opt_mod, f)"
   ]
  },
  {
   "cell_type": "markdown",
   "id": "3dfa5080-c3a2-49c2-af66-a0ec44816d5b",
   "metadata": {},
   "source": [
    "## Processing Solution"
   ]
  },
  {
   "cell_type": "code",
   "execution_count": 41,
   "id": "8096f9ab-f40e-4457-9295-dcd9724a3ef4",
   "metadata": {},
   "outputs": [],
   "source": [
    "def process_solution(sol : SolveSolution) -> Union[pd.DataFrame, pd.DataFrame, pd.DataFrame]:\n",
    "    \"\"\"\n",
    "    Takes a cplex solution and produces a exam schedule\n",
    "    \n",
    "    Parameters\n",
    "    ----------\n",
    "    sol : SolveSolution\n",
    "        solution from the solver\n",
    "    \n",
    "    Returns\n",
    "    -------\n",
    "    final_schedule : pd.DataFrame\n",
    "        The schedule formatted in readable format for an exam organizer\n",
    "    \n",
    "    df_x : pd.DataFrame\n",
    "        The results for variable x\n",
    "    \n",
    "    df_y : pd.DataFrame\n",
    "        The results for variable y\n",
    "    \"\"\"\n",
    "    # extract solutions as df\n",
    "    df_x = sol.get_value_df(x).rename(columns={'key_1':'exam','key_2':'timeslot'})\n",
    "    df_y = sol.get_value_df(y).rename(columns={'key_1':'exam','key_2':'room'})\n",
    "\n",
    "    # Add rows with the names of courses and timelots\n",
    "    exam_col = [E[i] for i in range(len(E)) for j in range(len(T))]\n",
    "    time_col = [T[j] for i in range(len(E)) for j in range(len(T))]\n",
    "    df_x[\"EXAM\"] = exam_col\n",
    "    df_x[\"TIMESLOT\"] = time_col\n",
    "\n",
    "    # Add rows with the names of courses and rooms\n",
    "    exam_col = [E[i] for i in range(len(E)) for j in range(len(R))]\n",
    "    room_col = [R[j] for i in range(len(E)) for j in range(len(R))]\n",
    "    df_y[\"EXAM\"] = exam_col\n",
    "    df_y[\"ROOM\"] = room_col\n",
    "    \n",
    "    # Produce the final schedule\n",
    "    final_schedule = df_x[df_x[\"value\"]==1].merge(df_y[df_y[\"value\"]==1], on='EXAM', how='left')\n",
    "    \n",
    "    return final_schedule, df_x, df_y"
   ]
  },
  {
   "cell_type": "code",
   "execution_count": 42,
   "id": "1d2690bd-331d-472e-8e66-604cd5856bd9",
   "metadata": {},
   "outputs": [],
   "source": [
    "def create_enrolment_df(He_s : np.array, S : List[int]) -> pd.DataFrame:\n",
    "    \"\"\"\n",
    "    Creates a dataframe with the students for each exam/course\n",
    "    \"\"\"\n",
    "    exam_student_pairs = []\n",
    "    for exam in range(len(He_s)):\n",
    "        students_in_exam_e = []\n",
    "        for i, student in enumerate(He_s[exam]):\n",
    "            if student == 1:\n",
    "                students_in_exam_e.append(S[i])\n",
    "        exam_student_pairs.append(students_in_exam_e)\n",
    "        \n",
    "    enrolment_df = pd.DataFrame(columns=['EXAM','student'])\n",
    "    enrolment_df['EXAM'] = E\n",
    "    enrolment_df['student'] = exam_student_pairs\n",
    "\n",
    "    return enrolment_df"
   ]
  },
  {
   "cell_type": "code",
   "execution_count": 43,
   "id": "2e97e9ab-e01d-4052-8a67-cd03f4556495",
   "metadata": {},
   "outputs": [
    {
     "data": {
      "text/html": [
       "<div>\n",
       "<style scoped>\n",
       "    .dataframe tbody tr th:only-of-type {\n",
       "        vertical-align: middle;\n",
       "    }\n",
       "\n",
       "    .dataframe tbody tr th {\n",
       "        vertical-align: top;\n",
       "    }\n",
       "\n",
       "    .dataframe thead th {\n",
       "        text-align: right;\n",
       "    }\n",
       "</style>\n",
       "<table border=\"1\" class=\"dataframe\">\n",
       "  <thead>\n",
       "    <tr style=\"text-align: right;\">\n",
       "      <th></th>\n",
       "      <th>EXAM</th>\n",
       "      <th>student</th>\n",
       "    </tr>\n",
       "  </thead>\n",
       "  <tbody>\n",
       "    <tr>\n",
       "      <th>0</th>\n",
       "      <td>APSC_806</td>\n",
       "      <td>[Samantha Williams, Mary Chavez, Cynthia Guill...</td>\n",
       "    </tr>\n",
       "    <tr>\n",
       "      <th>1</th>\n",
       "      <td>APSC_352</td>\n",
       "      <td>[Robert Taylor, Lowell Coletti, Jamey Wollschl...</td>\n",
       "    </tr>\n",
       "    <tr>\n",
       "      <th>2</th>\n",
       "      <td>APSC_1117</td>\n",
       "      <td>[Robert Taylor, Mary Chavez, Joe Rand, Doreen ...</td>\n",
       "    </tr>\n",
       "    <tr>\n",
       "      <th>3</th>\n",
       "      <td>APSC_639</td>\n",
       "      <td>[Samantha Williams, Mary Chavez, Cynthia Guill...</td>\n",
       "    </tr>\n",
       "    <tr>\n",
       "      <th>4</th>\n",
       "      <td>APSC_62</td>\n",
       "      <td>[Lowell Coletti, William Chessman, Cynthia Gui...</td>\n",
       "    </tr>\n",
       "    <tr>\n",
       "      <th>...</th>\n",
       "      <td>...</td>\n",
       "      <td>...</td>\n",
       "    </tr>\n",
       "    <tr>\n",
       "      <th>1274</th>\n",
       "      <td>APSC_896</td>\n",
       "      <td>[Lowell Coletti, William Chessman, Jamey Wolls...</td>\n",
       "    </tr>\n",
       "    <tr>\n",
       "      <th>1275</th>\n",
       "      <td>APSC_250</td>\n",
       "      <td>[Samantha Williams, Tina Burkley, Jodi Henry, ...</td>\n",
       "    </tr>\n",
       "    <tr>\n",
       "      <th>1276</th>\n",
       "      <td>APSC_303</td>\n",
       "      <td>[Robert Taylor, Lowell Coletti, Cynthia Guillo...</td>\n",
       "    </tr>\n",
       "    <tr>\n",
       "      <th>1277</th>\n",
       "      <td>APSC_724</td>\n",
       "      <td>[Robert Taylor, William Chessman, Jamey Wollsc...</td>\n",
       "    </tr>\n",
       "    <tr>\n",
       "      <th>1278</th>\n",
       "      <td>APSC_915</td>\n",
       "      <td>[Lowell Coletti, Jamey Wollschlager, Mary Chav...</td>\n",
       "    </tr>\n",
       "  </tbody>\n",
       "</table>\n",
       "<p>1279 rows × 2 columns</p>\n",
       "</div>"
      ],
      "text/plain": [
       "           EXAM                                            student\n",
       "0      APSC_806  [Samantha Williams, Mary Chavez, Cynthia Guill...\n",
       "1      APSC_352  [Robert Taylor, Lowell Coletti, Jamey Wollschl...\n",
       "2     APSC_1117  [Robert Taylor, Mary Chavez, Joe Rand, Doreen ...\n",
       "3      APSC_639  [Samantha Williams, Mary Chavez, Cynthia Guill...\n",
       "4       APSC_62  [Lowell Coletti, William Chessman, Cynthia Gui...\n",
       "...         ...                                                ...\n",
       "1274   APSC_896  [Lowell Coletti, William Chessman, Jamey Wolls...\n",
       "1275   APSC_250  [Samantha Williams, Tina Burkley, Jodi Henry, ...\n",
       "1276   APSC_303  [Robert Taylor, Lowell Coletti, Cynthia Guillo...\n",
       "1277   APSC_724  [Robert Taylor, William Chessman, Jamey Wollsc...\n",
       "1278   APSC_915  [Lowell Coletti, Jamey Wollschlager, Mary Chav...\n",
       "\n",
       "[1279 rows x 2 columns]"
      ]
     },
     "execution_count": 43,
     "metadata": {},
     "output_type": "execute_result"
    }
   ],
   "source": [
    "enrolment_df = create_enrolment_df(He_s, S)\n",
    "enrolment_df"
   ]
  },
  {
   "cell_type": "code",
   "execution_count": 44,
   "id": "290269fc-f20c-4a8d-8cdb-feaa6744cb6b",
   "metadata": {},
   "outputs": [],
   "source": [
    "from docplex.mp.progress import TextProgressListener"
   ]
  },
  {
   "cell_type": "code",
   "execution_count": null,
   "id": "f1d6af30",
   "metadata": {},
   "outputs": [],
   "source": [
    "opt_mod.clear_progress_listeners()\n",
    "opt_mod.add_progress_listener(TextProgressListener())\n",
    "sol = opt_mod.solve(clean_before_solve=True)\n",
    "if sol:\n",
    "    print(\"Found a solution \\n\")\n",
    "    schedule, df_x, df_y = process_solution(sol)\n",
    "    print(\"Schedule: \\n\")\n",
    "    display(schedule.merge(enrolment_df, on='EXAM', how='left'))\n",
    "    \n",
    "    run_time = sol.solve_details.time\n",
    "    \n",
    "else:\n",
    "    print(\"Could not find a solution\")\n",
    "    run_time = np.nan"
   ]
  },
  {
   "cell_type": "code",
   "execution_count": null,
   "id": "30f5f3eb",
   "metadata": {},
   "outputs": [],
   "source": []
  }
 ],
 "metadata": {
  "kernelspec": {
   "display_name": "Python 3 (ipykernel)",
   "language": "python",
   "name": "python3"
  },
  "language_info": {
   "codemirror_mode": {
    "name": "ipython",
    "version": 3
   },
   "file_extension": ".py",
   "mimetype": "text/x-python",
   "name": "python",
   "nbconvert_exporter": "python",
   "pygments_lexer": "ipython3",
   "version": "3.8.10"
  },
  "vscode": {
   "interpreter": {
    "hash": "9b192910274a1c529aa82efb3891000b6bfb36ab9aac7f7933ae5d00944f2e3c"
   }
  }
 },
 "nbformat": 4,
 "nbformat_minor": 5
}
