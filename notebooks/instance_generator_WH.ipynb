{
 "cells": [
  {
   "cell_type": "code",
   "execution_count": 31,
   "id": "b8e19dec-82d1-4be8-9599-7264efab1169",
   "metadata": {},
   "outputs": [],
   "source": [
    "import numpy as np \n",
    "import pandas as pd\n",
    "from docplex.mp.model import Model\n",
    "from docplex.mp.solution import SolveSolution\n",
    "from typing import Union, List\n",
    "from numpy.random import default_rng\n",
    "import names\n",
    "import pickle\n",
    "\n",
    "import cplex\n",
    "import docplex\n",
    "\n",
    "from datetime import datetime\n",
    "rng = default_rng()"
   ]
  },
  {
   "cell_type": "markdown",
   "id": "ab7d6950-cec4-49c7-b6e0-fbf81e6a5229",
   "metadata": {
    "tags": []
   },
   "source": [
    "## Solver Parameters"
   ]
  },
  {
   "cell_type": "code",
   "execution_count": 32,
   "id": "d519ee78-3d8f-44a4-8064-e8677fda73e0",
   "metadata": {},
   "outputs": [],
   "source": [
    "opt_mod = Model(name='ET MIP')"
   ]
  },
  {
   "cell_type": "code",
   "execution_count": 33,
   "id": "1f72e6af-5bfd-470e-8365-2aefd1e26d77",
   "metadata": {},
   "outputs": [
    {
     "data": {
      "text/plain": [
       "docplex.mp.params.NumParameter(parameters.timelimit,1e+75)"
      ]
     },
     "execution_count": 33,
     "metadata": {},
     "output_type": "execute_result"
    }
   ],
   "source": [
    "opt_mod.parameters.timelimit"
   ]
  },
  {
   "cell_type": "code",
   "execution_count": 34,
   "id": "66a9497b-f483-4606-87c6-e52c364e1072",
   "metadata": {},
   "outputs": [],
   "source": [
    "opt_mod.parameters.timelimit = 10\n",
    "opt_mod.set_time_limit(10)"
   ]
  },
  {
   "cell_type": "markdown",
   "id": "3dfc5440-f19d-406c-92db-ba5c19f62db9",
   "metadata": {},
   "source": [
    "## Constants"
   ]
  },
  {
   "cell_type": "code",
   "execution_count": 35,
   "id": "cc4bf533-283b-4f32-bed3-41b34a088d74",
   "metadata": {},
   "outputs": [],
   "source": [
    "# number_exams = np.random.randint(10, 20) \n",
    "# number_students = np.random.randint(1000, 3000)\n",
    "# number_exam_days = np.random.randint(14, 15) # number of days allocated for final exams\n",
    "# number_rooms = np.random.randint(10, 20) \n",
    "\n",
    "# E = [f'CSC_{code}' for code in rng.choice(range(101, 401), size=number_exams, replace=False)] # exams\n",
    "# S = [names.get_full_name() for i in range(number_students)] # students\n",
    "# T = [[datetime(2022, 12, day, 9), datetime(2022, 12, day, 13), datetime(2022, 4, day, 17)] for day in range(1, number_exam_days)] # timeslots\n",
    "# R = [f'RM_{code}' for code in rng.choice(range(101, 401), size=number_exams, replace=False)] # rooms\n",
    "# Cp = np.random.randint(20, 60, (len(R))) # capacity of rooms\n",
    "\n",
    "# # course enrolments\n",
    "# He_s = np.random.randint(0,2, (len(E),len(S))) # binary random \n",
    "# sumHe_s = np.sum(He_s, axis=1)"
   ]
  },
  {
   "cell_type": "code",
   "execution_count": 36,
   "id": "604e6000",
   "metadata": {},
   "outputs": [],
   "source": [
    "# number_exams = 1279\n",
    "# number_students = 10764\n",
    "# number_exam_days = 20 #4/11/2022 - 4/31/2022 # number of days allocated for final exams\n",
    "# number_rooms = 77\n",
    "\n",
    "# E = [f'APSC_{code}' for code in rng.choice(range(0, number_exams + 1), size=number_exams, replace=False)] # exams\n",
    "# S = [names.get_full_name() for i in range(number_students)] # students\n",
    "# T = [[datetime(2022, 12, day, 9), datetime(2022, 12, day, 13), datetime(2022, 12, day, 17)] for day in range(1, number_exam_days)] # timeslots\n",
    "# R = [f'RM_{code}' for code in rng.choice(range(0, number_rooms + 1), size=number_rooms, replace=False)] # rooms\n",
    "# Cp = np.random.randint(24, 2000, (len(R))) # capacity of rooms\n",
    "\n",
    "# # course enrolments\n",
    "# He_s = np.random.randint(0,2, (len(E),len(S))) # binary random #min:1 max:1948\n",
    "# sumHe_s = np.sum(He_s, axis=1)"
   ]
  },
  {
   "cell_type": "code",
   "execution_count": 37,
   "id": "62895196",
   "metadata": {},
   "outputs": [],
   "source": [
    "# with open('E_Pickle.pkl', 'wb') as f:\n",
    "#     pickle.dump(E, f)\n",
    "\n",
    "# with open('S_Pickle.pkl', 'wb') as f:\n",
    "#     pickle.dump(S, f)\n",
    "    \n",
    "# with open('T_Pickle.pkl', 'wb') as f:\n",
    "#     pickle.dump(T, f)\n",
    "    \n",
    "# with open('R_Pickle.pkl', 'wb') as f:\n",
    "#     pickle.dump(R, f)\n",
    "\n",
    "# with open('He_s_Pickle.pkl', 'wb') as f:\n",
    "#     pickle.dump(He_s, f)\n"
   ]
  },
  {
   "cell_type": "code",
   "execution_count": 38,
   "id": "312306ee",
   "metadata": {},
   "outputs": [],
   "source": [
    "# with open('E_Pickle.pkl', 'rb') as f:\n",
    "#     E = pickle.load(f)\n",
    "\n",
    "# with open('S_Pickle.pkl', 'rb') as f:\n",
    "#     S = pickle.load(f)\n",
    "    \n",
    "# with open('T_Pickle.pkl', 'rb') as f:\n",
    "#     T = pickle.load(f)\n",
    "    \n",
    "# with open('R_Pickle.pkl', 'rb') as f:\n",
    "#     R = pickle.load(f)\n",
    "\n",
    "# with open('He_s_Pickle.pkl', 'rb') as f:\n",
    "#    He_s = pickle.load(f)"
   ]
  },
  {
   "cell_type": "markdown",
   "id": "dd279455-b2df-461e-b098-58ea60fdafa7",
   "metadata": {},
   "source": [
    "## Variables"
   ]
  },
  {
   "cell_type": "code",
   "execution_count": 39,
   "id": "f1e7145c",
   "metadata": {},
   "outputs": [],
   "source": [
    "with open('Exam_set_Pickle.pkl', 'rb') as f:\n",
    "    E = pickle.load(f)\n",
    "\n",
    "with open('Student_set_Pickle.pkl', 'rb') as f:\n",
    "    S = pickle.load(f)\n",
    "    \n",
    "with open('Timeslots_Pickle.pkl', 'rb') as f:\n",
    "    T = pickle.load(f)\n",
    "    \n",
    "with open('Rooms_Pickle.pkl', 'rb') as f:\n",
    "    R = pickle.load(f)\n",
    "\n",
    "with open('course enrolments_Pickle.pkl', 'rb') as f:\n",
    "   He_s = pickle.load(f)\n",
    "   \n",
    "with open('Room_Capacity.pkl', 'rb') as f:\n",
    "    Cp =pickle.load(f)"
   ]
  },
  {
   "cell_type": "code",
   "execution_count": 40,
   "id": "366dc84f",
   "metadata": {},
   "outputs": [],
   "source": [
    "sumHe_s = np.sum(He_s, axis=1)"
   ]
  },
  {
   "cell_type": "code",
   "execution_count": 41,
   "id": "faa0fa90-ffd4-4d97-8be9-b47794b4ac40",
   "metadata": {},
   "outputs": [],
   "source": [
    "x = opt_mod.binary_var_matrix(len(E), len(T), name=\"X_e,t\") # whether we use timeslot t for exam e\n",
    "y = opt_mod.binary_var_matrix(len(E), len(R), name=\"Y_e,r\") # whether we use room r for exam e\n",
    "# z = opt_mod.binary_var_matrix(len(S), len(E), name=\"Z_s,e\") # whether exam e is allocated to student s "
   ]
  },
  {
   "cell_type": "markdown",
   "id": "b3a15681-9f78-4415-a981-f61d5bd04b02",
   "metadata": {},
   "source": [
    "## Constraints"
   ]
  },
  {
   "cell_type": "markdown",
   "id": "436172dc-9a05-487f-b380-3837fabfe68c",
   "metadata": {},
   "source": [
    "C1: For all exams, the sum of the allocated timeslots must be equal to 1\n",
    "\n",
    "$$\\sum_{t\\in T_c} X_e,_t=1 \\;\\forall \\; e \\in E$$\n",
    "\n",
    "C2: For all exams, the sum of the allocated rooms must be equal to 1\n",
    "\n",
    "$$\\sum_{r\\in R_e} Y_e,_r = 1 \\;\\forall \\; e \\in E$$\n",
    "\n",
    "C3: For every student and timeslot, the sum of the allocated exams must be less or equal to 1. \n",
    "- i.e. students can be at only one exam at a time\n",
    "\n",
    "$$\\sum_{e\\in E} X_e,_t * H_e,_s \\leq 1 \\;\\forall \\; s \\in S \\; and \\; t \\in T$$\n",
    "\n",
    "\n",
    "C4: For all rooms, the sum of students in a room must be less than the capacity of the room\n",
    "\n",
    "$$\\sum_{e\\in E} X_e,_t * y_e,_r \\leq C_p,_r \\;\\forall \\; r \\in R \\; and \\; t \\in T$$"
   ]
  },
  {
   "cell_type": "code",
   "execution_count": 79,
   "id": "66450661-f046-4ba0-a6fb-07f189c21273",
   "metadata": {},
   "outputs": [],
   "source": [
    "c1 = opt_mod.add_constraints((sum(x[e, t] for t in range(len(T))) == 1 for e in range(len(E))), names='c1') "
   ]
  },
  {
   "cell_type": "code",
   "execution_count": 80,
   "id": "8643a36b-d4de-4ee5-aa85-6086f562436f",
   "metadata": {},
   "outputs": [],
   "source": [
    "c2 = opt_mod.add_constraints((sum(y[e, r] for r in range(len(R))) >= 1 for e in range(len(E))), names='c2') "
   ]
  },
  {
   "cell_type": "code",
   "execution_count": 81,
   "id": "00aa3ce5-83c9-4ae0-b090-c6e12e6ee4e7",
   "metadata": {},
   "outputs": [],
   "source": [
    "# c3 modified constraint \n",
    "for s in range(len(S)):\n",
    "    for t in range(len(T)):\n",
    "        cond = sum(x[e,t] * He_s[e,s] for e in range(len(E)))\n",
    "        if type(cond) != int:\n",
    "            opt_mod.add_constraint(cond <= 1)"
   ]
  },
  {
   "cell_type": "code",
   "execution_count": 82,
   "id": "00803689-8fcb-442c-b725-8808afc6c714",
   "metadata": {},
   "outputs": [],
   "source": [
    "# c4 modified constraint\n",
    "for r in range(len(R)):\n",
    "    for t in range(len(T)):\n",
    "        cond = sum((x[e,t]*y[e,r]) * sumHe_s[e] for e in range(len(E)))\n",
    "        if type(cond) != int:\n",
    "            opt_mod.add_constraint(cond <= Cp[r])"
   ]
  },
  {
   "cell_type": "code",
   "execution_count": 83,
   "id": "ded9f9bd-ba5c-40f9-8e29-6d5c4685264a",
   "metadata": {},
   "outputs": [],
   "source": [
    "# c4 = opt_mod.add_constraints((sum(y[e,r] * sumHe_s[e] for e in range(len(E))) <= Cp[r] for r in range(len(R))), names='c4') "
   ]
  },
  {
   "cell_type": "markdown",
   "id": "df95d1a2-ebf7-4c64-9327-dbc56aa1662b",
   "metadata": {},
   "source": [
    "## Objective Function"
   ]
  },
  {
   "cell_type": "markdown",
   "id": "c17ce398-889c-429e-9c2f-4da72f09bbe0",
   "metadata": {},
   "source": [
    "$$  minimize\\; I_T = \\sum_{k=1}^{K_T} \\; ceil \\; \\left[ \\sum_{c=1}^{C_K}\\; N_c \\; * \\; (ratio \\; students \\; to \\; invigilators) \\right] $$"
   ]
  },
  {
   "cell_type": "code",
   "execution_count": 84,
   "id": "4346d498",
   "metadata": {},
   "outputs": [],
   "source": [
    "ratio_of_Inv = 1/50"
   ]
  },
  {
   "cell_type": "markdown",
   "id": "ebfd7119-69e6-49cb-a329-026482df8d2f",
   "metadata": {},
   "source": [
    "$$\\sum_{r \\in R} \\; ceil \\;  \\left[ \\sum_{e \\in E}y_e,_r ( \\sum_{s \\in S} H_e,_s ) \\; (ratio \\; students \\; to \\; invigilators) \\right] * \\; cost \\; per \\; invigilator $$"
   ]
  },
  {
   "cell_type": "code",
   "execution_count": 85,
   "id": "eb531a6d",
   "metadata": {},
   "outputs": [],
   "source": [
    "up = (sum(1 * sumHe_s[e] * ratio_of_Inv for e in range(len(E))) for r in range(len(R)))\n",
    "upper_bound=0\n",
    "for i in up:\n",
    "    upper_bound += np.ceil(i)\n",
    "#print(upper_bound)\n",
    "\n",
    "ceil_obj = []\n",
    "OB = []\n",
    "var=[]\n",
    "qwe = []\n",
    "sum_sum = []\n",
    "\n",
    "for r in range(len(R)):\n",
    "    ceil_obj.append(opt_mod.integer_var(lb=0, ub= upper_bound))\n",
    "    sum_sum.append(sum(y[e,r] * sumHe_s[e] * ratio_of_Inv for e in range(len(E))))\n",
    "    opt_mod.add_constraint(ceil_obj[r] >= sum_sum[r])\n"
   ]
  },
  {
   "cell_type": "code",
   "execution_count": 86,
   "id": "15c439d0",
   "metadata": {},
   "outputs": [
    {
     "name": "stdout",
     "output_type": "stream",
     "text": [
      "Model: ET MIP\n",
      " - number of variables: 21733\n",
      "   - binary=21218, integer=515, continuous=0\n",
      " - number of constraints: 124939\n",
      "   - linear=103721, quadratic=21218\n",
      " - parameters:\n",
      "     parameters.timelimit = 10.00000000000000\n",
      " - objective: minimize\n",
      " - problem type is: MIQCP\n"
     ]
    }
   ],
   "source": [
    "OB = sum(ceil_obj[r] for r in range(len(R)))\n",
    "opt_mod.set_objective('min', OB)\n",
    "opt_mod.print_information()"
   ]
  },
  {
   "cell_type": "code",
   "execution_count": 87,
   "id": "0d0f6a78",
   "metadata": {},
   "outputs": [],
   "source": [
    "# obj_fun = sum(sum(y[e,r] * sumHe_s[e] *ratio_of_Inv for e in range(len(E))) for r in range(len(R)))\n",
    "# opt_mod.set_objective('min', obj_fun)\n",
    "# opt_mod.print_information()"
   ]
  },
  {
   "cell_type": "code",
   "execution_count": null,
   "id": "90b2fa78",
   "metadata": {},
   "outputs": [],
   "source": []
  },
  {
   "cell_type": "markdown",
   "id": "3dfa5080-c3a2-49c2-af66-a0ec44816d5b",
   "metadata": {},
   "source": [
    "## Processing Solution"
   ]
  },
  {
   "cell_type": "code",
   "execution_count": 88,
   "id": "8096f9ab-f40e-4457-9295-dcd9724a3ef4",
   "metadata": {},
   "outputs": [],
   "source": [
    "def process_solution(sol : SolveSolution) -> Union[pd.DataFrame, pd.DataFrame, pd.DataFrame]:\n",
    "    \"\"\"\n",
    "    Takes a cplex solution and produces a exam schedule\n",
    "    \n",
    "    Parameters\n",
    "    ----------\n",
    "    sol : SolveSolution\n",
    "        solution from the solver\n",
    "    \n",
    "    Returns\n",
    "    -------\n",
    "    final_schedule : pd.DataFrame\n",
    "        The schedule formatted in readable format for an exam organizer\n",
    "    \n",
    "    df_x : pd.DataFrame\n",
    "        The results for variable x\n",
    "    \n",
    "    df_y : pd.DataFrame\n",
    "        The results for variable y\n",
    "    \"\"\"\n",
    "    # extract solutions as df\n",
    "    df_x = sol.get_value_df(x).rename(columns={'key_1':'exam','key_2':'timeslot'})\n",
    "    df_y = sol.get_value_df(y).rename(columns={'key_1':'exam','key_2':'room'})\n",
    "\n",
    "    # Add rows with the names of courses and timelots\n",
    "    exam_col = [E[i] for i in range(len(E)) for j in range(len(T))]\n",
    "    time_col = [T[j] for i in range(len(E)) for j in range(len(T))]\n",
    "    df_x[\"EXAM\"] = exam_col\n",
    "    df_x[\"TIMESLOT\"] = time_col\n",
    "\n",
    "    # Add rows with the names of courses and rooms\n",
    "    exam_col = [E[i] for i in range(len(E)) for j in range(len(R))]\n",
    "    room_col = [R[j] for i in range(len(E)) for j in range(len(R))]\n",
    "    df_y[\"EXAM\"] = exam_col\n",
    "    df_y[\"ROOM\"] = room_col\n",
    "    \n",
    "    # Produce the final schedule\n",
    "    final_schedule = df_x[df_x[\"value\"]==1].merge(df_y[df_y[\"value\"]==1], on='EXAM', how='left')\n",
    "    \n",
    "    return final_schedule, df_x, df_y"
   ]
  },
  {
   "cell_type": "code",
   "execution_count": 89,
   "id": "1d2690bd-331d-472e-8e66-604cd5856bd9",
   "metadata": {},
   "outputs": [],
   "source": [
    "def create_enrolment_df(He_s : np.array, S : List[int]) -> pd.DataFrame:\n",
    "    \"\"\"\n",
    "    Creates a dataframe with the students for each exam/course\n",
    "    \"\"\"\n",
    "    exam_student_pairs = []\n",
    "    for exam in range(len(He_s)):\n",
    "        students_in_exam_e = []\n",
    "        for i, student in enumerate(He_s[exam]):\n",
    "            if student == 1:\n",
    "                students_in_exam_e.append(S[i])\n",
    "        exam_student_pairs.append(students_in_exam_e)\n",
    "        \n",
    "    enrolment_df = pd.DataFrame(columns=['EXAM','student'])\n",
    "    enrolment_df['EXAM'] = E\n",
    "    enrolment_df['student'] = exam_student_pairs\n",
    "\n",
    "    return enrolment_df"
   ]
  },
  {
   "cell_type": "code",
   "execution_count": 90,
   "id": "2e97e9ab-e01d-4052-8a67-cd03f4556495",
   "metadata": {},
   "outputs": [
    {
     "data": {
      "text/html": [
       "<div>\n",
       "<style scoped>\n",
       "    .dataframe tbody tr th:only-of-type {\n",
       "        vertical-align: middle;\n",
       "    }\n",
       "\n",
       "    .dataframe tbody tr th {\n",
       "        vertical-align: top;\n",
       "    }\n",
       "\n",
       "    .dataframe thead th {\n",
       "        text-align: right;\n",
       "    }\n",
       "</style>\n",
       "<table border=\"1\" class=\"dataframe\">\n",
       "  <thead>\n",
       "    <tr style=\"text-align: right;\">\n",
       "      <th></th>\n",
       "      <th>EXAM</th>\n",
       "      <th>student</th>\n",
       "    </tr>\n",
       "  </thead>\n",
       "  <tbody>\n",
       "    <tr>\n",
       "      <th>0</th>\n",
       "      <td>AER302H1S</td>\n",
       "      <td>[0x15698616B7B1051E1D402B152BCC092ABA084917]</td>\n",
       "    </tr>\n",
       "    <tr>\n",
       "      <th>1</th>\n",
       "      <td>AER372H1S</td>\n",
       "      <td>[0x079994DE6FEDC000090ECA1859B31D1A68F0037C, 0...</td>\n",
       "    </tr>\n",
       "    <tr>\n",
       "      <th>2</th>\n",
       "      <td>APS105H1S</td>\n",
       "      <td>[0x121AC60485E5046D3A77059C540885F0312BE38D]</td>\n",
       "    </tr>\n",
       "    <tr>\n",
       "      <th>3</th>\n",
       "      <td>APS105H1S</td>\n",
       "      <td>[0x0557E59C7FF9F3A35DA2C225479C382504D6F214]</td>\n",
       "    </tr>\n",
       "    <tr>\n",
       "      <th>4</th>\n",
       "      <td>APS106H1S</td>\n",
       "      <td>[0x10F44D0164CE98467C77987548ADE68DF73C246B]</td>\n",
       "    </tr>\n",
       "    <tr>\n",
       "      <th>...</th>\n",
       "      <td>...</td>\n",
       "      <td>...</td>\n",
       "    </tr>\n",
       "    <tr>\n",
       "      <th>98</th>\n",
       "      <td>CSC401H1S</td>\n",
       "      <td>[0x0319B30530028A29C9839174748616989D664D2E, 0...</td>\n",
       "    </tr>\n",
       "    <tr>\n",
       "      <th>99</th>\n",
       "      <td>CSC488H1S</td>\n",
       "      <td>[0x0E4086D5C02D028399AAC080935F1A12BD24DBBE, 0...</td>\n",
       "    </tr>\n",
       "    <tr>\n",
       "      <th>100</th>\n",
       "      <td>GGR124H1S</td>\n",
       "      <td>[0x12965E9F694E8A825987895DE15209FA7DEC02DB, 0...</td>\n",
       "    </tr>\n",
       "    <tr>\n",
       "      <th>101</th>\n",
       "      <td>GGR124H1S</td>\n",
       "      <td>[0x06B35E1ACE848948DF99D2DB30007C61AE80B23E, 0...</td>\n",
       "    </tr>\n",
       "    <tr>\n",
       "      <th>102</th>\n",
       "      <td>SOC100H1S</td>\n",
       "      <td>[0x06AA437FB4AC461816EEE3DC67EFB658BEBA42D3, 0...</td>\n",
       "    </tr>\n",
       "  </tbody>\n",
       "</table>\n",
       "<p>103 rows × 2 columns</p>\n",
       "</div>"
      ],
      "text/plain": [
       "          EXAM                                            student\n",
       "0    AER302H1S       [0x15698616B7B1051E1D402B152BCC092ABA084917]\n",
       "1    AER372H1S  [0x079994DE6FEDC000090ECA1859B31D1A68F0037C, 0...\n",
       "2    APS105H1S       [0x121AC60485E5046D3A77059C540885F0312BE38D]\n",
       "3    APS105H1S       [0x0557E59C7FF9F3A35DA2C225479C382504D6F214]\n",
       "4    APS106H1S       [0x10F44D0164CE98467C77987548ADE68DF73C246B]\n",
       "..         ...                                                ...\n",
       "98   CSC401H1S  [0x0319B30530028A29C9839174748616989D664D2E, 0...\n",
       "99   CSC488H1S  [0x0E4086D5C02D028399AAC080935F1A12BD24DBBE, 0...\n",
       "100  GGR124H1S  [0x12965E9F694E8A825987895DE15209FA7DEC02DB, 0...\n",
       "101  GGR124H1S  [0x06B35E1ACE848948DF99D2DB30007C61AE80B23E, 0...\n",
       "102  SOC100H1S  [0x06AA437FB4AC461816EEE3DC67EFB658BEBA42D3, 0...\n",
       "\n",
       "[103 rows x 2 columns]"
      ]
     },
     "execution_count": 90,
     "metadata": {},
     "output_type": "execute_result"
    }
   ],
   "source": [
    "enrolment_df = create_enrolment_df(He_s, S)\n",
    "enrolment_df"
   ]
  },
  {
   "cell_type": "code",
   "execution_count": 91,
   "id": "f1d6af30",
   "metadata": {},
   "outputs": [
    {
     "name": "stdout",
     "output_type": "stream",
     "text": [
      "Could not find a solution\n"
     ]
    }
   ],
   "source": [
    "sol = opt_mod.solve()\n",
    "if sol:\n",
    "    print(\"Found a solution \\n\")\n",
    "    schedule, df_x, df_y = process_solution(sol)\n",
    "    print(\"Schedule: \\n\")\n",
    "    display(schedule.merge(enrolment_df, on='EXAM', how='left'))\n",
    "    \n",
    "    run_time = sol.solve_details.time\n",
    "    \n",
    "else:\n",
    "    print(\"Could not find a solution\")\n",
    "    run_time = np.nan"
   ]
  }
 ],
 "metadata": {
  "kernelspec": {
   "display_name": "Python 3.9.12 ('venv')",
   "language": "python",
   "name": "python3"
  },
  "language_info": {
   "codemirror_mode": {
    "name": "ipython",
    "version": 3
   },
   "file_extension": ".py",
   "mimetype": "text/x-python",
   "name": "python",
   "nbconvert_exporter": "python",
   "pygments_lexer": "ipython3",
   "version": "3.9.12"
  },
  "vscode": {
   "interpreter": {
    "hash": "9b192910274a1c529aa82efb3891000b6bfb36ab9aac7f7933ae5d00944f2e3c"
   }
  }
 },
 "nbformat": 4,
 "nbformat_minor": 5
}
