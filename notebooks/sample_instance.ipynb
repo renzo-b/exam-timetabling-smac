{
 "cells": [
  {
   "cell_type": "code",
   "execution_count": 212,
   "id": "b8e19dec-82d1-4be8-9599-7264efab1169",
   "metadata": {},
   "outputs": [],
   "source": [
    "import numpy as np \n",
    "import cplex\n",
    "from docplex.mp.model import Model"
   ]
  },
  {
   "cell_type": "code",
   "execution_count": 213,
   "id": "d519ee78-3d8f-44a4-8064-e8677fda73e0",
   "metadata": {},
   "outputs": [],
   "source": [
    "opt_mod = Model(name='ET MIP')"
   ]
  },
  {
   "cell_type": "markdown",
   "id": "3dfc5440-f19d-406c-92db-ba5c19f62db9",
   "metadata": {},
   "source": [
    "## Constants"
   ]
  },
  {
   "cell_type": "code",
   "execution_count": 214,
   "id": "cc4bf533-283b-4f32-bed3-41b34a088d74",
   "metadata": {},
   "outputs": [],
   "source": [
    "E = ['CSC101', 'CSC102', 'CSC103', 'CSC104'] # exams\n",
    "S = ['Aaron','Bruno','Cell','Dodo','Earl','Frank'] # students\n",
    "T = ['Dec 1st 9am', 'Dec 1st 12pm', 'Dec 2nd 9am', 'Dec 2nd 12pm'] # timeslots\n",
    "R = ['SB1', 'SB2','SB3','SB4'] # rooms\n",
    "Cp = [6, 4, 3, 7] # capacity of rooms\n",
    "\n",
    "# course enrolments\n",
    "Hs = [[1, 1, 0, 0], # student A\n",
    "      [1, 0, 0, 0],\n",
    "      [1, 0, 0, 1],\n",
    "      [0, 0, 0, 1],\n",
    "      [1, 1, 1, 1],\n",
    "      [1, 1, 1, 1], # student F\n",
    "     ]\n",
    "Hs = np.asarray(Hs)"
   ]
  },
  {
   "cell_type": "markdown",
   "id": "dd279455-b2df-461e-b098-58ea60fdafa7",
   "metadata": {},
   "source": [
    "## Variables"
   ]
  },
  {
   "cell_type": "code",
   "execution_count": 215,
   "id": "faa0fa90-ffd4-4d97-8be9-b47794b4ac40",
   "metadata": {},
   "outputs": [],
   "source": [
    "x = opt_mod.binary_var_matrix(len(E), len(T), name=\"X_e,t\") # whether we use timeslot t for exam e\n",
    "y = opt_mod.binary_var_matrix(len(E), len(R), name=\"Y_e,r\") # whether we use room r for exam e\n",
    "z = opt_mod.binary_var_matrix(len(S), len(E), name=\"Z_s,e\") # whether exam e is allocated to student s "
   ]
  },
  {
   "cell_type": "code",
   "execution_count": 216,
   "id": "83279853",
   "metadata": {},
   "outputs": [
    {
     "data": {
      "text/plain": [
       "{(0, 0): docplex.mp.Var(type=B,name='X_e,t_0_0'),\n",
       " (0, 1): docplex.mp.Var(type=B,name='X_e,t_0_1'),\n",
       " (0, 2): docplex.mp.Var(type=B,name='X_e,t_0_2'),\n",
       " (0, 3): docplex.mp.Var(type=B,name='X_e,t_0_3'),\n",
       " (1, 0): docplex.mp.Var(type=B,name='X_e,t_1_0'),\n",
       " (1, 1): docplex.mp.Var(type=B,name='X_e,t_1_1'),\n",
       " (1, 2): docplex.mp.Var(type=B,name='X_e,t_1_2'),\n",
       " (1, 3): docplex.mp.Var(type=B,name='X_e,t_1_3'),\n",
       " (2, 0): docplex.mp.Var(type=B,name='X_e,t_2_0'),\n",
       " (2, 1): docplex.mp.Var(type=B,name='X_e,t_2_1'),\n",
       " (2, 2): docplex.mp.Var(type=B,name='X_e,t_2_2'),\n",
       " (2, 3): docplex.mp.Var(type=B,name='X_e,t_2_3'),\n",
       " (3, 0): docplex.mp.Var(type=B,name='X_e,t_3_0'),\n",
       " (3, 1): docplex.mp.Var(type=B,name='X_e,t_3_1'),\n",
       " (3, 2): docplex.mp.Var(type=B,name='X_e,t_3_2'),\n",
       " (3, 3): docplex.mp.Var(type=B,name='X_e,t_3_3')}"
      ]
     },
     "execution_count": 216,
     "metadata": {},
     "output_type": "execute_result"
    }
   ],
   "source": [
    "x  "
   ]
  },
  {
   "cell_type": "code",
   "execution_count": 217,
   "id": "8d5bf1f7",
   "metadata": {},
   "outputs": [
    {
     "data": {
      "text/plain": [
       "{(0, 0): docplex.mp.Var(type=B,name='Y_e,r_0_0'),\n",
       " (0, 1): docplex.mp.Var(type=B,name='Y_e,r_0_1'),\n",
       " (0, 2): docplex.mp.Var(type=B,name='Y_e,r_0_2'),\n",
       " (0, 3): docplex.mp.Var(type=B,name='Y_e,r_0_3'),\n",
       " (1, 0): docplex.mp.Var(type=B,name='Y_e,r_1_0'),\n",
       " (1, 1): docplex.mp.Var(type=B,name='Y_e,r_1_1'),\n",
       " (1, 2): docplex.mp.Var(type=B,name='Y_e,r_1_2'),\n",
       " (1, 3): docplex.mp.Var(type=B,name='Y_e,r_1_3'),\n",
       " (2, 0): docplex.mp.Var(type=B,name='Y_e,r_2_0'),\n",
       " (2, 1): docplex.mp.Var(type=B,name='Y_e,r_2_1'),\n",
       " (2, 2): docplex.mp.Var(type=B,name='Y_e,r_2_2'),\n",
       " (2, 3): docplex.mp.Var(type=B,name='Y_e,r_2_3'),\n",
       " (3, 0): docplex.mp.Var(type=B,name='Y_e,r_3_0'),\n",
       " (3, 1): docplex.mp.Var(type=B,name='Y_e,r_3_1'),\n",
       " (3, 2): docplex.mp.Var(type=B,name='Y_e,r_3_2'),\n",
       " (3, 3): docplex.mp.Var(type=B,name='Y_e,r_3_3')}"
      ]
     },
     "execution_count": 217,
     "metadata": {},
     "output_type": "execute_result"
    }
   ],
   "source": [
    "y"
   ]
  },
  {
   "cell_type": "code",
   "execution_count": 218,
   "id": "853ab75c",
   "metadata": {},
   "outputs": [
    {
     "data": {
      "text/plain": [
       "{(0, 0): docplex.mp.Var(type=B,name='Z_s,e_0_0'),\n",
       " (0, 1): docplex.mp.Var(type=B,name='Z_s,e_0_1'),\n",
       " (0, 2): docplex.mp.Var(type=B,name='Z_s,e_0_2'),\n",
       " (0, 3): docplex.mp.Var(type=B,name='Z_s,e_0_3'),\n",
       " (1, 0): docplex.mp.Var(type=B,name='Z_s,e_1_0'),\n",
       " (1, 1): docplex.mp.Var(type=B,name='Z_s,e_1_1'),\n",
       " (1, 2): docplex.mp.Var(type=B,name='Z_s,e_1_2'),\n",
       " (1, 3): docplex.mp.Var(type=B,name='Z_s,e_1_3'),\n",
       " (2, 0): docplex.mp.Var(type=B,name='Z_s,e_2_0'),\n",
       " (2, 1): docplex.mp.Var(type=B,name='Z_s,e_2_1'),\n",
       " (2, 2): docplex.mp.Var(type=B,name='Z_s,e_2_2'),\n",
       " (2, 3): docplex.mp.Var(type=B,name='Z_s,e_2_3'),\n",
       " (3, 0): docplex.mp.Var(type=B,name='Z_s,e_3_0'),\n",
       " (3, 1): docplex.mp.Var(type=B,name='Z_s,e_3_1'),\n",
       " (3, 2): docplex.mp.Var(type=B,name='Z_s,e_3_2'),\n",
       " (3, 3): docplex.mp.Var(type=B,name='Z_s,e_3_3'),\n",
       " (4, 0): docplex.mp.Var(type=B,name='Z_s,e_4_0'),\n",
       " (4, 1): docplex.mp.Var(type=B,name='Z_s,e_4_1'),\n",
       " (4, 2): docplex.mp.Var(type=B,name='Z_s,e_4_2'),\n",
       " (4, 3): docplex.mp.Var(type=B,name='Z_s,e_4_3'),\n",
       " (5, 0): docplex.mp.Var(type=B,name='Z_s,e_5_0'),\n",
       " (5, 1): docplex.mp.Var(type=B,name='Z_s,e_5_1'),\n",
       " (5, 2): docplex.mp.Var(type=B,name='Z_s,e_5_2'),\n",
       " (5, 3): docplex.mp.Var(type=B,name='Z_s,e_5_3')}"
      ]
     },
     "execution_count": 218,
     "metadata": {},
     "output_type": "execute_result"
    }
   ],
   "source": [
    "z"
   ]
  },
  {
   "cell_type": "markdown",
   "id": "b3a15681-9f78-4415-a981-f61d5bd04b02",
   "metadata": {},
   "source": [
    "## Constraints"
   ]
  },
  {
   "cell_type": "markdown",
   "id": "436172dc-9a05-487f-b380-3837fabfe68c",
   "metadata": {},
   "source": [
    "C1: $$\\sum_{t\\in T_c} X_e,_t=1 \\;\\forall \\; X_e,_t \\in \\{0,1\\}$$\n",
    "\n",
    "C2: $$\\sum_{r\\in R_e} Y_e,_r = 1$$\n",
    "\n",
    "C3: $$\\sum_{e\\in E} Z_s,_e = H_s \\; \\forall \\; s \\in S$$\n",
    "\n",
    "C4: $$\\sum_{s\\in S, r \\in R_e} Z_s,_e,_r Y_e,_r \\leq C_r \\ \\forall e \\in E$$\n",
    "\n",
    "C5: $$\\sum_{e \\in E } Z_s,_e \\leq 1 \\ \\forall s \\in S$$"
   ]
  },
  {
   "cell_type": "code",
   "execution_count": 219,
   "id": "3bb8a8ef-a03a-431a-9120-aef515d0db75",
   "metadata": {},
   "outputs": [],
   "source": [
    "Hs = np.asarray(Hs)"
   ]
  },
  {
   "cell_type": "code",
   "execution_count": 220,
   "id": "66450661-f046-4ba0-a6fb-07f189c21273",
   "metadata": {},
   "outputs": [],
   "source": [
    "c1 = opt_mod.add_constraints((sum(x[e, t] for e in range(len(E))) == 1 for t in range(len(T))), names='c1') "
   ]
  },
  {
   "cell_type": "code",
   "execution_count": 221,
   "id": "8643a36b-d4de-4ee5-aa85-6086f562436f",
   "metadata": {},
   "outputs": [],
   "source": [
    "c2 = opt_mod.add_constraints((sum(y[e, r] for e in range(len(E))) == 1 for r in range(len(R))), names='c2') "
   ]
  },
  {
   "cell_type": "code",
   "execution_count": 222,
   "id": "1e49973a-94ba-43db-91bf-ca7344dc6adb",
   "metadata": {},
   "outputs": [],
   "source": [
    "c3 = opt_mod.add_constraints((z[s,e] == Hs[s,e] for e in range(len(E)) for s in range(len(S))), names='c3') "
   ]
  },
  {
   "cell_type": "code",
   "execution_count": 223,
   "id": "deb3ebc9",
   "metadata": {},
   "outputs": [],
   "source": [
    "c4 = opt_mod.add_constraints((sum(z[s,e]for e in range(len(E))) <= Cp[r] for s in range(len(S)) for r in range(len(R))) , names='c4') "
   ]
  },
  {
   "cell_type": "code",
   "execution_count": 224,
   "id": "8a333b6e-479e-4a78-af5f-94160b403897",
   "metadata": {},
   "outputs": [],
   "source": [
    "c5 = opt_mod.add_constraints((sum(z[s, e] for s in range(len(S))) <= 1 for e in range(len(E))), names='c5') "
   ]
  },
  {
   "cell_type": "markdown",
   "id": "df95d1a2-ebf7-4c64-9327-dbc56aa1662b",
   "metadata": {},
   "source": [
    "## Objective Function"
   ]
  },
  {
   "cell_type": "markdown",
   "id": "c17ce398-889c-429e-9c2f-4da72f09bbe0",
   "metadata": {},
   "source": [
    "$$  minimize\\; I_T = \\sum_{k=1}^{K_T} \\; ceil \\; \\left[ \\sum_{c=1}^{C_K}\\; N_c \\; * \\; (ratio \\; students \\; to \\; invigilators) \\right] $$"
   ]
  },
  {
   "cell_type": "code",
   "execution_count": 225,
   "id": "2bbf9427",
   "metadata": {},
   "outputs": [
    {
     "data": {
      "text/plain": [
       "3"
      ]
     },
     "execution_count": 225,
     "metadata": {},
     "output_type": "execute_result"
    }
   ],
   "source": [
    "TE = len(E) -1\n",
    "TE"
   ]
  },
  {
   "cell_type": "code",
   "execution_count": 226,
   "id": "4346d498",
   "metadata": {},
   "outputs": [],
   "source": [
    "ratio_of_Inv = 1/3"
   ]
  },
  {
   "cell_type": "code",
   "execution_count": 227,
   "id": "b7280ba1",
   "metadata": {},
   "outputs": [
    {
     "data": {
      "text/plain": [
       "4"
      ]
     },
     "execution_count": 227,
     "metadata": {},
     "output_type": "execute_result"
    }
   ],
   "source": [
    "N_c = sum(Hs[:,3])\n",
    "N_c"
   ]
  },
  {
   "cell_type": "code",
   "execution_count": 229,
   "id": "0d0f6a78",
   "metadata": {},
   "outputs": [
    {
     "name": "stdout",
     "output_type": "stream",
     "text": [
      "Model: ET MIP\n",
      " - number of variables: 56\n",
      "   - binary=56, integer=0, continuous=0\n",
      " - number of constraints: 60\n",
      "   - linear=60\n",
      " - parameters: defaults\n",
      " - objective: none\n",
      " - problem type is: MILP\n"
     ]
    }
   ],
   "source": [
    "obj_fun =  sum(np.ceil(sum(Hs[:,i] * ratio_of_Inv)) for i in range(TE))\n",
    "opt_mod.set_objective('min', obj_fun)\n",
    "opt_mod.print_information()"
   ]
  },
  {
   "cell_type": "code",
   "execution_count": 230,
   "id": "43046a49",
   "metadata": {},
   "outputs": [
    {
     "data": {
      "text/plain": [
       "4.0"
      ]
     },
     "execution_count": 230,
     "metadata": {},
     "output_type": "execute_result"
    }
   ],
   "source": [
    "obj_fun"
   ]
  },
  {
   "cell_type": "code",
   "execution_count": 231,
   "id": "f1d6af30",
   "metadata": {},
   "outputs": [
    {
     "name": "stdout",
     "output_type": "stream",
     "text": [
      "None\n"
     ]
    }
   ],
   "source": [
    "opt_mod.solve()\n",
    "print(opt_mod.print_solution())\n",
    "\n"
   ]
  },
  {
   "cell_type": "code",
   "execution_count": 232,
   "id": "3ba4c3c1",
   "metadata": {},
   "outputs": [
    {
     "ename": "DOcplexException",
     "evalue": "Model<ET MIP> did not solve successfully",
     "output_type": "error",
     "traceback": [
      "\u001b[1;31m---------------------------------------------------------------------------\u001b[0m",
      "\u001b[1;31mDOcplexException\u001b[0m                          Traceback (most recent call last)",
      "\u001b[1;32mc:\\Users\\William Hazen\\Documents\\GitHub\\exam-timetabling-smac\\notebooks\\sample_instance.ipynb Cell 27\u001b[0m in \u001b[0;36m<cell line: 1>\u001b[1;34m()\u001b[0m\n\u001b[1;32m----> <a href='vscode-notebook-cell:/c%3A/Users/William%20Hazen/Documents/GitHub/exam-timetabling-smac/notebooks/sample_instance.ipynb#X44sZmlsZQ%3D%3D?line=0'>1</a>\u001b[0m \u001b[39mprint\u001b[39m(opt_mod\u001b[39m.\u001b[39;49mobjective_value)\n",
      "File \u001b[1;32mc:\\Users\\William Hazen\\anaconda3\\envs\\my_venv_p39\\lib\\site-packages\\docplex\\mp\\model.py:5364\u001b[0m, in \u001b[0;36mModel.objective_value\u001b[1;34m(self)\u001b[0m\n\u001b[0;32m   5356\u001b[0m \u001b[39m@property\u001b[39m\n\u001b[0;32m   5357\u001b[0m \u001b[39mdef\u001b[39;00m \u001b[39mobjective_value\u001b[39m(\u001b[39mself\u001b[39m):\n\u001b[0;32m   5358\u001b[0m     \u001b[39m\"\"\" This property returns the value of the objective expression in the solution of the last solve.\u001b[39;00m\n\u001b[0;32m   5359\u001b[0m \u001b[39m    In case of a multi-objective, only the value of the first objective is returned\u001b[39;00m\n\u001b[0;32m   5360\u001b[0m \n\u001b[0;32m   5361\u001b[0m \u001b[39m    Raises an exception if the model has not been solved successfully.\u001b[39;00m\n\u001b[0;32m   5362\u001b[0m \n\u001b[0;32m   5363\u001b[0m \u001b[39m    \"\"\"\u001b[39;00m\n\u001b[1;32m-> 5364\u001b[0m     \u001b[39mself\u001b[39;49m\u001b[39m.\u001b[39;49m_check_has_solution()\n\u001b[0;32m   5365\u001b[0m     \u001b[39mreturn\u001b[39;00m \u001b[39mself\u001b[39m\u001b[39m.\u001b[39m_objective_value()\n",
      "File \u001b[1;32mc:\\Users\\William Hazen\\anaconda3\\envs\\my_venv_p39\\lib\\site-packages\\docplex\\mp\\model.py:5182\u001b[0m, in \u001b[0;36mModel._check_has_solution\u001b[1;34m(self)\u001b[0m\n\u001b[0;32m   5180\u001b[0m     \u001b[39mself\u001b[39m\u001b[39m.\u001b[39mfatal(\u001b[39m\"\u001b[39m\u001b[39mModel<\u001b[39m\u001b[39m{0}\u001b[39;00m\u001b[39m> has not been solved yet\u001b[39m\u001b[39m\"\u001b[39m, \u001b[39mself\u001b[39m\u001b[39m.\u001b[39mname)\n\u001b[0;32m   5181\u001b[0m \u001b[39melse\u001b[39;00m:\n\u001b[1;32m-> 5182\u001b[0m     \u001b[39mself\u001b[39;49m\u001b[39m.\u001b[39;49mfatal(\u001b[39m\"\u001b[39;49m\u001b[39mModel<\u001b[39;49m\u001b[39m{0}\u001b[39;49;00m\u001b[39m> did not solve successfully\u001b[39;49m\u001b[39m\"\u001b[39;49m, \u001b[39mself\u001b[39;49m\u001b[39m.\u001b[39;49mname)\n",
      "File \u001b[1;32mc:\\Users\\William Hazen\\anaconda3\\envs\\my_venv_p39\\lib\\site-packages\\docplex\\mp\\model.py:1078\u001b[0m, in \u001b[0;36mModel.fatal\u001b[1;34m(self, msg, *args)\u001b[0m\n\u001b[0;32m   1077\u001b[0m \u001b[39mdef\u001b[39;00m \u001b[39mfatal\u001b[39m(\u001b[39mself\u001b[39m, msg, \u001b[39m*\u001b[39margs):\n\u001b[1;32m-> 1078\u001b[0m     \u001b[39mself\u001b[39;49m\u001b[39m.\u001b[39;49m_error_handler\u001b[39m.\u001b[39;49mfatal(msg, args)\n",
      "File \u001b[1;32mc:\\Users\\William Hazen\\anaconda3\\envs\\my_venv_p39\\lib\\site-packages\\docplex\\mp\\error_handler.py:210\u001b[0m, in \u001b[0;36mAbstractErrorHandler.fatal\u001b[1;34m(self, msg, args)\u001b[0m\n\u001b[0;32m    208\u001b[0m resolved_message \u001b[39m=\u001b[39m resolve_pattern(msg, args)\n\u001b[0;32m    209\u001b[0m docplex_error_stop_here()\n\u001b[1;32m--> 210\u001b[0m \u001b[39mraise\u001b[39;00m DOcplexException(resolved_message)\n",
      "\u001b[1;31mDOcplexException\u001b[0m: Model<ET MIP> did not solve successfully"
     ]
    }
   ],
   "source": [
    "print(opt_mod.objective_value)"
   ]
  },
  {
   "cell_type": "code",
   "execution_count": null,
   "id": "d9019105",
   "metadata": {},
   "outputs": [
    {
     "ename": "DOcplexException",
     "evalue": "Expecting linear constraint, got: Y_e,r_0_0*Z_s,e_0_0+Y_e,r_1_0*Z_s,e_0_1+Y_e,r_2_0*Z_s,e_0_2+Y_e,r_3_0*Z_s,e_0_3 <= 2 with type: <class 'docplex.mp.constr.QuadraticConstraint'>",
     "output_type": "error",
     "traceback": [
      "\u001b[1;31m---------------------------------------------------------------------------\u001b[0m",
      "\u001b[1;31mDOcplexException\u001b[0m                          Traceback (most recent call last)",
      "\u001b[1;32mc:\\Users\\William Hazen\\Documents\\GitHub\\exam-timetabling-smac\\notebooks\\sample_instance.ipynb Cell 18\u001b[0m in \u001b[0;36m<cell line: 1>\u001b[1;34m()\u001b[0m\n\u001b[1;32m----> <a href='vscode-notebook-cell:/c%3A/Users/William%20Hazen/Documents/GitHub/exam-timetabling-smac/notebooks/sample_instance.ipynb#X23sZmlsZQ%3D%3D?line=0'>1</a>\u001b[0m c4 \u001b[39m=\u001b[39m opt_mod\u001b[39m.\u001b[39;49madd_constraints((\u001b[39msum\u001b[39;49m(z[s,e]\u001b[39m*\u001b[39;49my[e,r] \u001b[39mfor\u001b[39;49;00m e \u001b[39min\u001b[39;49;00m \u001b[39mrange\u001b[39;49m(\u001b[39mlen\u001b[39;49m(E))) \u001b[39m<\u001b[39;49m\u001b[39m=\u001b[39;49m \u001b[39m2\u001b[39;49m \u001b[39mfor\u001b[39;49;00m s \u001b[39min\u001b[39;49;00m \u001b[39mrange\u001b[39;49m(\u001b[39mlen\u001b[39;49m(S)) \u001b[39mfor\u001b[39;49;00m r \u001b[39min\u001b[39;49;00m \u001b[39mrange\u001b[39;49m(\u001b[39mlen\u001b[39;49m(R))) , names\u001b[39m=\u001b[39;49m\u001b[39m'\u001b[39;49m\u001b[39mc4\u001b[39;49m\u001b[39m'\u001b[39;49m)\n",
      "File \u001b[1;32mc:\\Users\\William Hazen\\anaconda3\\envs\\my_venv_p39\\lib\\site-packages\\docplex\\mp\\model.py:4114\u001b[0m, in \u001b[0;36mModel.add_constraints\u001b[1;34m(self, cts, names)\u001b[0m\n\u001b[0;32m   4112\u001b[0m     \u001b[39mif\u001b[39;00m \u001b[39mnot\u001b[39;00m is_iterable(names) \u001b[39mor\u001b[39;00m (is_string(names) \u001b[39mand\u001b[39;00m \u001b[39mnot\u001b[39;00m names):\n\u001b[0;32m   4113\u001b[0m         \u001b[39mself\u001b[39m\u001b[39m.\u001b[39mfatal(\u001b[39m\"\u001b[39m\u001b[39mModel.add_constraints() expects a sequence of strings or a non-empty string\u001b[39m\u001b[39m\"\u001b[39m)\n\u001b[1;32m-> 4114\u001b[0m     \u001b[39mreturn\u001b[39;00m \u001b[39mself\u001b[39;49m\u001b[39m.\u001b[39;49m_lfactory\u001b[39m.\u001b[39;49m_new_constraint_block2(cts, names)\n\u001b[0;32m   4115\u001b[0m \u001b[39melse\u001b[39;00m:\n\u001b[0;32m   4116\u001b[0m     \u001b[39mreturn\u001b[39;00m \u001b[39mself\u001b[39m\u001b[39m.\u001b[39m_lfactory\u001b[39m.\u001b[39m_new_constraint_block1(cts)\n",
      "File \u001b[1;32mc:\\Users\\William Hazen\\anaconda3\\envs\\my_venv_p39\\lib\\site-packages\\docplex\\mp\\mfactory.py:959\u001b[0m, in \u001b[0;36mModelFactory._new_constraint_block2\u001b[1;34m(self, cts, ctnames)\u001b[0m\n\u001b[0;32m    956\u001b[0m \u001b[39mif\u001b[39;00m ct \u001b[39mis\u001b[39;00m \u001b[39mNone\u001b[39;00m:  \u001b[39m# izip stops\u001b[39;00m\n\u001b[0;32m    957\u001b[0m     \u001b[39mbreak\u001b[39;00m\n\u001b[1;32m--> 959\u001b[0m checker\u001b[39m.\u001b[39;49mtypecheck_linear_constraint(ct, accept_range\u001b[39m=\u001b[39;49m\u001b[39mFalse\u001b[39;49;00m)\n\u001b[0;32m    960\u001b[0m checker\u001b[39m.\u001b[39mtypecheck_string(ctname, accept_none\u001b[39m=\u001b[39m\u001b[39mTrue\u001b[39;00m, accept_empty\u001b[39m=\u001b[39m\u001b[39mFalse\u001b[39;00m, caller\u001b[39m=\u001b[39m\u001b[39m\"\u001b[39m\u001b[39mModel.add_constraints()\u001b[39m\u001b[39m\"\u001b[39m)\n\u001b[0;32m    961\u001b[0m \u001b[39mif\u001b[39;00m prepfn(ct, ctname, check_for_trivial_ct\u001b[39m=\u001b[39mcheck_trivials):\n",
      "File \u001b[1;32mc:\\Users\\William Hazen\\anaconda3\\envs\\my_venv_p39\\lib\\site-packages\\docplex\\mp\\tck.py:397\u001b[0m, in \u001b[0;36mStandardTypeChecker.typecheck_linear_constraint\u001b[1;34m(self, obj, accept_range)\u001b[0m\n\u001b[0;32m    395\u001b[0m \u001b[39melse\u001b[39;00m:\n\u001b[0;32m    396\u001b[0m     \u001b[39mif\u001b[39;00m \u001b[39mnot\u001b[39;00m \u001b[39misinstance\u001b[39m(obj, LinearConstraint):\n\u001b[1;32m--> 397\u001b[0m         \u001b[39mself\u001b[39;49m\u001b[39m.\u001b[39;49mfatal(\u001b[39m\"\u001b[39;49m\u001b[39mExpecting linear constraint, got: \u001b[39;49m\u001b[39m{0!s}\u001b[39;49;00m\u001b[39m with type: \u001b[39;49m\u001b[39m{1!s}\u001b[39;49;00m\u001b[39m\"\u001b[39;49m, obj, \u001b[39mtype\u001b[39;49m(obj))\n",
      "File \u001b[1;32mc:\\Users\\William Hazen\\anaconda3\\envs\\my_venv_p39\\lib\\site-packages\\docplex\\mp\\tck.py:256\u001b[0m, in \u001b[0;36mDOcplexLoggerTypeChecker.fatal\u001b[1;34m(self, msg, *args)\u001b[0m\n\u001b[0;32m    255\u001b[0m \u001b[39mdef\u001b[39;00m \u001b[39mfatal\u001b[39m(\u001b[39mself\u001b[39m, msg, \u001b[39m*\u001b[39margs):\n\u001b[1;32m--> 256\u001b[0m     \u001b[39mself\u001b[39;49m\u001b[39m.\u001b[39;49m_logger\u001b[39m.\u001b[39;49mfatal(msg, args)\n",
      "File \u001b[1;32mc:\\Users\\William Hazen\\anaconda3\\envs\\my_venv_p39\\lib\\site-packages\\docplex\\mp\\error_handler.py:210\u001b[0m, in \u001b[0;36mAbstractErrorHandler.fatal\u001b[1;34m(self, msg, args)\u001b[0m\n\u001b[0;32m    208\u001b[0m resolved_message \u001b[39m=\u001b[39m resolve_pattern(msg, args)\n\u001b[0;32m    209\u001b[0m docplex_error_stop_here()\n\u001b[1;32m--> 210\u001b[0m \u001b[39mraise\u001b[39;00m DOcplexException(resolved_message)\n",
      "\u001b[1;31mDOcplexException\u001b[0m: Expecting linear constraint, got: Y_e,r_0_0*Z_s,e_0_0+Y_e,r_1_0*Z_s,e_0_1+Y_e,r_2_0*Z_s,e_0_2+Y_e,r_3_0*Z_s,e_0_3 <= 2 with type: <class 'docplex.mp.constr.QuadraticConstraint'>"
     ]
    }
   ],
   "source": [
    "c4 = opt_mod.add_constraints((sum(z[s,e]*y[e,r] for e in range(len(E))) <= 2 for s in range(len(S)) for r in range(len(R))) , names='c4') "
   ]
  },
  {
   "cell_type": "code",
   "execution_count": null,
   "id": "312f7781",
   "metadata": {},
   "outputs": [],
   "source": []
  }
 ],
 "metadata": {
  "kernelspec": {
   "display_name": "Python 3.9.12 ('my_venv_p39')",
   "language": "python",
   "name": "python3"
  },
  "language_info": {
   "codemirror_mode": {
    "name": "ipython",
    "version": 3
   },
   "file_extension": ".py",
   "mimetype": "text/x-python",
   "name": "python",
   "nbconvert_exporter": "python",
   "pygments_lexer": "ipython3",
   "version": "3.9.12"
  },
  "vscode": {
   "interpreter": {
    "hash": "e166ee78bdcdd75f3d9232dc9aefe64b3e805d3b62f341989d1774c6a1d322d6"
   }
  }
 },
 "nbformat": 4,
 "nbformat_minor": 5
}
