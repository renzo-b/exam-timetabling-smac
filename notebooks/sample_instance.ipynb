{
 "cells": [
  {
   "cell_type": "code",
   "execution_count": 1,
   "id": "b8e19dec-82d1-4be8-9599-7264efab1169",
   "metadata": {},
   "outputs": [],
   "source": [
    "import numpy as np \n",
    "\n",
    "from docplex.mp.model import Model"
   ]
  },
  {
   "cell_type": "code",
   "execution_count": 2,
   "id": "d519ee78-3d8f-44a4-8064-e8677fda73e0",
   "metadata": {},
   "outputs": [],
   "source": [
    "opt_mod = Model(name='ET MIP')"
   ]
  },
  {
   "cell_type": "markdown",
   "id": "3dfc5440-f19d-406c-92db-ba5c19f62db9",
   "metadata": {},
   "source": [
    "## Constants"
   ]
  },
  {
   "cell_type": "code",
   "execution_count": 18,
   "id": "cc4bf533-283b-4f32-bed3-41b34a088d74",
   "metadata": {},
   "outputs": [],
   "source": [
    "E = ['CSC101', 'CSC102', 'CSC103', 'CSC104'] # exams\n",
    "S = ['Aaron','Bruno','Cell','Dodo','Earl','Frank'] # students\n",
    "T = ['Dec 1st 9am', 'Dec 1st 12pm', 'Dec 2nd 9am', 'Dec 2nd 12pm'] # timeslots\n",
    "R = ['SB1', 'SB2','SB3','SB4'] # rooms\n",
    "C = [20, 20, 20, 20] # capacity of rooms\n",
    "\n",
    "# course enrolments\n",
    "Hs = [[1, 1, 0, 0], # student A\n",
    "      [1, 0, 0, 0],\n",
    "      [1, 0, 0, 1],\n",
    "      [0, 0, 0, 1],\n",
    "      [1, 1, 1, 1],\n",
    "      [1, 1, 1, 1], # student F\n",
    "     ]\n",
    "Hs = np.asarray(Hs)"
   ]
  },
  {
   "cell_type": "markdown",
   "id": "dd279455-b2df-461e-b098-58ea60fdafa7",
   "metadata": {},
   "source": [
    "## Variables"
   ]
  },
  {
   "cell_type": "code",
   "execution_count": 4,
   "id": "faa0fa90-ffd4-4d97-8be9-b47794b4ac40",
   "metadata": {},
   "outputs": [],
   "source": [
    "x = opt_mod.binary_var_matrix(len(E), len(T), name=\"X_e,t\") # whether we use timeslot t for exam e\n",
    "y = opt_mod.binary_var_matrix(len(E), len(R), name=\"Y_e,r\") # whether we use room r for exam e\n",
    "z = opt_mod.binary_var_matrix(len(S), len(E), name=\"Z_s,e\") # whether exam e is allocated to student s "
   ]
  },
  {
   "cell_type": "markdown",
   "id": "b3a15681-9f78-4415-a981-f61d5bd04b02",
   "metadata": {},
   "source": [
    "## Constraints"
   ]
  },
  {
   "cell_type": "markdown",
   "id": "436172dc-9a05-487f-b380-3837fabfe68c",
   "metadata": {},
   "source": [
    "C1: $$\\sum_{t\\in T_c} X_e,_t=1 \\;\\forall \\; X_e,_t \\in \\{0,1\\}$$\n",
    "\n",
    "C2: $$\\sum_{r\\in R_e} Y_e,_r = 1$$\n",
    "\n",
    "C3: $$\\sum_{e\\in E} Z_s,_e = H_s \\; \\forall \\; s \\in S$$\n",
    "\n",
    "C4: $$\\sum_{s\\in S, r \\in R_e} Z_s,_e,_r Y_e,_r \\leq C_r \\ \\forall e \\in E$$\n",
    "\n",
    "C5: $$\\sum_{e \\in E } Z_s,_e \\leq 1 \\ \\forall s \\in S$$"
   ]
  },
  {
   "cell_type": "code",
   "execution_count": 28,
   "id": "3bb8a8ef-a03a-431a-9120-aef515d0db75",
   "metadata": {},
   "outputs": [],
   "source": [
    "Hs = np.asarray(Hs)"
   ]
  },
  {
   "cell_type": "code",
   "execution_count": 11,
   "id": "66450661-f046-4ba0-a6fb-07f189c21273",
   "metadata": {},
   "outputs": [],
   "source": [
    "c1 = opt_mod.add_constraints((sum(x[e, t] for e in range(len(E))) == 1 for t in range(len(T))), names='c1') "
   ]
  },
  {
   "cell_type": "code",
   "execution_count": 13,
   "id": "8643a36b-d4de-4ee5-aa85-6086f562436f",
   "metadata": {},
   "outputs": [],
   "source": [
    "c2 = opt_mod.add_constraints((sum(y[e, r] for e in range(len(E))) == 1 for r in range(len(R))), names='c2') "
   ]
  },
  {
   "cell_type": "code",
   "execution_count": 31,
   "id": "1e49973a-94ba-43db-91bf-ca7344dc6adb",
   "metadata": {},
   "outputs": [],
   "source": [
    "c3 = opt_mod.add_constraints((z[s, e] == Hs[s,e] for e in range(len(E)) for s in range(len(S))), names='c3') "
   ]
  },
  {
   "cell_type": "code",
   "execution_count": 53,
   "id": "91344fb9-5d8a-487d-9c46-6228cdfcb383",
   "metadata": {},
   "outputs": [
    {
     "ename": "DOcplexException",
     "evalue": "Expecting linear constraint, got: Y_e,r_0_0*Z_s,e_0_0+Y_e,r_0_0*Z_s,e_1_0+Y_e,r_0_0*Z_s,e_2_0+Y_e,r_0_0*Z_s,e_3_0+Y_e,r_0_0*Z_s,e_4_0+Y_e,r_0_0*Z_s,e_5_0+Y_e,r_0_1*Z_s,e_0_0+Y_e,r_0_1*Z_s,e_1_0+Y_e,r_0_1*Z_s,e_2_0+Y_e,r_0_1*Z_s,e_3_0+Y_e,r_0_1*Z_s,e_4_0+Y_e,r_0_1*Z_s,e_5_0+Y_e,r_0_2*Z_s,e_0_0+Y_e,r_0_2*Z_s,e_1_0+Y_e,r_0_2*Z_s,e_2_0+Y_e,r_0_2*Z_s,e_3_0+Y_e,r_0_2*Z_s,e_4_0+Y_e,r_0_2*Z_s,e_5_0+Y_e,r_0_3*Z_s,e_0_0+Y_e,r_0_3*Z_s,e_1_0+Y_e,r_0_3*Z_s,e_2_0+Y_e,r_0_3*Z_s,e_3_0+Y_e,r_0_3*Z_s,e_4_0+Y_e,r_0_3*Z_s,e_5_0 <= 20 with type: <class 'docplex.mp.constr.QuadraticConstraint'>",
     "output_type": "error",
     "traceback": [
      "\u001b[0;31m---------------------------------------------------------------------------\u001b[0m",
      "\u001b[0;31mDOcplexException\u001b[0m                          Traceback (most recent call last)",
      "Cell \u001b[0;32mIn [53], line 1\u001b[0m\n\u001b[0;32m----> 1\u001b[0m c4 \u001b[38;5;241m=\u001b[39m \u001b[43mopt_mod\u001b[49m\u001b[38;5;241;43m.\u001b[39;49m\u001b[43madd_constraints\u001b[49m\u001b[43m(\u001b[49m\u001b[43m(\u001b[49m\u001b[38;5;28;43msum\u001b[39;49m\u001b[43m(\u001b[49m\u001b[43mz\u001b[49m\u001b[43m[\u001b[49m\u001b[43ms\u001b[49m\u001b[43m,\u001b[49m\u001b[43m \u001b[49m\u001b[43me\u001b[49m\u001b[43m]\u001b[49m\u001b[38;5;241;43m*\u001b[39;49m\u001b[43my\u001b[49m\u001b[43m[\u001b[49m\u001b[43me\u001b[49m\u001b[43m,\u001b[49m\u001b[43mr\u001b[49m\u001b[43m]\u001b[49m\u001b[43m \u001b[49m\u001b[38;5;28;43;01mfor\u001b[39;49;00m\u001b[43m \u001b[49m\u001b[43ms\u001b[49m\u001b[43m \u001b[49m\u001b[38;5;129;43;01min\u001b[39;49;00m\u001b[43m \u001b[49m\u001b[38;5;28;43mrange\u001b[39;49m\u001b[43m(\u001b[49m\u001b[38;5;28;43mlen\u001b[39;49m\u001b[43m(\u001b[49m\u001b[43mS\u001b[49m\u001b[43m)\u001b[49m\u001b[43m)\u001b[49m\u001b[43m \u001b[49m\u001b[38;5;28;43;01mfor\u001b[39;49;00m\u001b[43m \u001b[49m\u001b[43mr\u001b[49m\u001b[43m \u001b[49m\u001b[38;5;129;43;01min\u001b[39;49;00m\u001b[43m \u001b[49m\u001b[38;5;28;43mrange\u001b[39;49m\u001b[43m(\u001b[49m\u001b[38;5;28;43mlen\u001b[39;49m\u001b[43m(\u001b[49m\u001b[43mR\u001b[49m\u001b[43m)\u001b[49m\u001b[43m)\u001b[49m\u001b[43m)\u001b[49m\u001b[43m \u001b[49m\u001b[38;5;241;43m<\u001b[39;49m\u001b[38;5;241;43m=\u001b[39;49m\u001b[43m \u001b[49m\u001b[43mC\u001b[49m\u001b[43m[\u001b[49m\u001b[43mr\u001b[49m\u001b[43m]\u001b[49m\u001b[43m \u001b[49m\u001b[38;5;28;43;01mfor\u001b[39;49;00m\u001b[43m \u001b[49m\u001b[43me\u001b[49m\u001b[43m \u001b[49m\u001b[38;5;129;43;01min\u001b[39;49;00m\u001b[43m \u001b[49m\u001b[38;5;28;43mrange\u001b[39;49m\u001b[43m(\u001b[49m\u001b[38;5;28;43mlen\u001b[39;49m\u001b[43m(\u001b[49m\u001b[43mE\u001b[49m\u001b[43m)\u001b[49m\u001b[43m)\u001b[49m\u001b[43m)\u001b[49m\u001b[43m,\u001b[49m\u001b[43m \u001b[49m\u001b[43mnames\u001b[49m\u001b[38;5;241;43m=\u001b[39;49m\u001b[38;5;124;43m'\u001b[39;49m\u001b[38;5;124;43mc4\u001b[39;49m\u001b[38;5;124;43m'\u001b[39;49m\u001b[43m)\u001b[49m \n",
      "File \u001b[0;32m~/.local/lib/python3.8/site-packages/docplex/mp/model.py:4114\u001b[0m, in \u001b[0;36mModel.add_constraints\u001b[0;34m(self, cts, names)\u001b[0m\n\u001b[1;32m   4112\u001b[0m     \u001b[38;5;28;01mif\u001b[39;00m \u001b[38;5;129;01mnot\u001b[39;00m is_iterable(names) \u001b[38;5;129;01mor\u001b[39;00m (is_string(names) \u001b[38;5;129;01mand\u001b[39;00m \u001b[38;5;129;01mnot\u001b[39;00m names):\n\u001b[1;32m   4113\u001b[0m         \u001b[38;5;28mself\u001b[39m\u001b[38;5;241m.\u001b[39mfatal(\u001b[38;5;124m\"\u001b[39m\u001b[38;5;124mModel.add_constraints() expects a sequence of strings or a non-empty string\u001b[39m\u001b[38;5;124m\"\u001b[39m)\n\u001b[0;32m-> 4114\u001b[0m     \u001b[38;5;28;01mreturn\u001b[39;00m \u001b[38;5;28;43mself\u001b[39;49m\u001b[38;5;241;43m.\u001b[39;49m\u001b[43m_lfactory\u001b[49m\u001b[38;5;241;43m.\u001b[39;49m\u001b[43m_new_constraint_block2\u001b[49m\u001b[43m(\u001b[49m\u001b[43mcts\u001b[49m\u001b[43m,\u001b[49m\u001b[43m \u001b[49m\u001b[43mnames\u001b[49m\u001b[43m)\u001b[49m\n\u001b[1;32m   4115\u001b[0m \u001b[38;5;28;01melse\u001b[39;00m:\n\u001b[1;32m   4116\u001b[0m     \u001b[38;5;28;01mreturn\u001b[39;00m \u001b[38;5;28mself\u001b[39m\u001b[38;5;241m.\u001b[39m_lfactory\u001b[38;5;241m.\u001b[39m_new_constraint_block1(cts)\n",
      "File \u001b[0;32m~/.local/lib/python3.8/site-packages/docplex/mp/mfactory.py:959\u001b[0m, in \u001b[0;36mModelFactory._new_constraint_block2\u001b[0;34m(self, cts, ctnames)\u001b[0m\n\u001b[1;32m    956\u001b[0m \u001b[38;5;28;01mif\u001b[39;00m ct \u001b[38;5;129;01mis\u001b[39;00m \u001b[38;5;28;01mNone\u001b[39;00m:  \u001b[38;5;66;03m# izip stops\u001b[39;00m\n\u001b[1;32m    957\u001b[0m     \u001b[38;5;28;01mbreak\u001b[39;00m\n\u001b[0;32m--> 959\u001b[0m \u001b[43mchecker\u001b[49m\u001b[38;5;241;43m.\u001b[39;49m\u001b[43mtypecheck_linear_constraint\u001b[49m\u001b[43m(\u001b[49m\u001b[43mct\u001b[49m\u001b[43m,\u001b[49m\u001b[43m \u001b[49m\u001b[43maccept_range\u001b[49m\u001b[38;5;241;43m=\u001b[39;49m\u001b[38;5;28;43;01mFalse\u001b[39;49;00m\u001b[43m)\u001b[49m\n\u001b[1;32m    960\u001b[0m checker\u001b[38;5;241m.\u001b[39mtypecheck_string(ctname, accept_none\u001b[38;5;241m=\u001b[39m\u001b[38;5;28;01mTrue\u001b[39;00m, accept_empty\u001b[38;5;241m=\u001b[39m\u001b[38;5;28;01mFalse\u001b[39;00m, caller\u001b[38;5;241m=\u001b[39m\u001b[38;5;124m\"\u001b[39m\u001b[38;5;124mModel.add_constraints()\u001b[39m\u001b[38;5;124m\"\u001b[39m)\n\u001b[1;32m    961\u001b[0m \u001b[38;5;28;01mif\u001b[39;00m prepfn(ct, ctname, check_for_trivial_ct\u001b[38;5;241m=\u001b[39mcheck_trivials):\n",
      "File \u001b[0;32m~/.local/lib/python3.8/site-packages/docplex/mp/tck.py:397\u001b[0m, in \u001b[0;36mStandardTypeChecker.typecheck_linear_constraint\u001b[0;34m(self, obj, accept_range)\u001b[0m\n\u001b[1;32m    395\u001b[0m \u001b[38;5;28;01melse\u001b[39;00m:\n\u001b[1;32m    396\u001b[0m     \u001b[38;5;28;01mif\u001b[39;00m \u001b[38;5;129;01mnot\u001b[39;00m \u001b[38;5;28misinstance\u001b[39m(obj, LinearConstraint):\n\u001b[0;32m--> 397\u001b[0m         \u001b[38;5;28;43mself\u001b[39;49m\u001b[38;5;241;43m.\u001b[39;49m\u001b[43mfatal\u001b[49m\u001b[43m(\u001b[49m\u001b[38;5;124;43m\"\u001b[39;49m\u001b[38;5;124;43mExpecting linear constraint, got: \u001b[39;49m\u001b[38;5;132;43;01m{0!s}\u001b[39;49;00m\u001b[38;5;124;43m with type: \u001b[39;49m\u001b[38;5;132;43;01m{1!s}\u001b[39;49;00m\u001b[38;5;124;43m\"\u001b[39;49m\u001b[43m,\u001b[49m\u001b[43m \u001b[49m\u001b[43mobj\u001b[49m\u001b[43m,\u001b[49m\u001b[43m \u001b[49m\u001b[38;5;28;43mtype\u001b[39;49m\u001b[43m(\u001b[49m\u001b[43mobj\u001b[49m\u001b[43m)\u001b[49m\u001b[43m)\u001b[49m\n",
      "File \u001b[0;32m~/.local/lib/python3.8/site-packages/docplex/mp/tck.py:256\u001b[0m, in \u001b[0;36mDOcplexLoggerTypeChecker.fatal\u001b[0;34m(self, msg, *args)\u001b[0m\n\u001b[1;32m    255\u001b[0m \u001b[38;5;28;01mdef\u001b[39;00m \u001b[38;5;21mfatal\u001b[39m(\u001b[38;5;28mself\u001b[39m, msg, \u001b[38;5;241m*\u001b[39margs):\n\u001b[0;32m--> 256\u001b[0m     \u001b[38;5;28;43mself\u001b[39;49m\u001b[38;5;241;43m.\u001b[39;49m\u001b[43m_logger\u001b[49m\u001b[38;5;241;43m.\u001b[39;49m\u001b[43mfatal\u001b[49m\u001b[43m(\u001b[49m\u001b[43mmsg\u001b[49m\u001b[43m,\u001b[49m\u001b[43m \u001b[49m\u001b[43margs\u001b[49m\u001b[43m)\u001b[49m\n",
      "File \u001b[0;32m~/.local/lib/python3.8/site-packages/docplex/mp/error_handler.py:210\u001b[0m, in \u001b[0;36mAbstractErrorHandler.fatal\u001b[0;34m(self, msg, args)\u001b[0m\n\u001b[1;32m    208\u001b[0m resolved_message \u001b[38;5;241m=\u001b[39m resolve_pattern(msg, args)\n\u001b[1;32m    209\u001b[0m docplex_error_stop_here()\n\u001b[0;32m--> 210\u001b[0m \u001b[38;5;28;01mraise\u001b[39;00m DOcplexException(resolved_message)\n",
      "\u001b[0;31mDOcplexException\u001b[0m: Expecting linear constraint, got: Y_e,r_0_0*Z_s,e_0_0+Y_e,r_0_0*Z_s,e_1_0+Y_e,r_0_0*Z_s,e_2_0+Y_e,r_0_0*Z_s,e_3_0+Y_e,r_0_0*Z_s,e_4_0+Y_e,r_0_0*Z_s,e_5_0+Y_e,r_0_1*Z_s,e_0_0+Y_e,r_0_1*Z_s,e_1_0+Y_e,r_0_1*Z_s,e_2_0+Y_e,r_0_1*Z_s,e_3_0+Y_e,r_0_1*Z_s,e_4_0+Y_e,r_0_1*Z_s,e_5_0+Y_e,r_0_2*Z_s,e_0_0+Y_e,r_0_2*Z_s,e_1_0+Y_e,r_0_2*Z_s,e_2_0+Y_e,r_0_2*Z_s,e_3_0+Y_e,r_0_2*Z_s,e_4_0+Y_e,r_0_2*Z_s,e_5_0+Y_e,r_0_3*Z_s,e_0_0+Y_e,r_0_3*Z_s,e_1_0+Y_e,r_0_3*Z_s,e_2_0+Y_e,r_0_3*Z_s,e_3_0+Y_e,r_0_3*Z_s,e_4_0+Y_e,r_0_3*Z_s,e_5_0 <= 20 with type: <class 'docplex.mp.constr.QuadraticConstraint'>"
     ]
    }
   ],
   "source": [
    "c4 = opt_mod.add_constraints((sum(z[s, e]*y[e,r] for s in range(len(S)) for r in range(len(R))) <= C[r] for e in range(len(E))), names='c4') "
   ]
  },
  {
   "cell_type": "code",
   "execution_count": 54,
   "id": "8a333b6e-479e-4a78-af5f-94160b403897",
   "metadata": {},
   "outputs": [],
   "source": [
    "c5 = opt_mod.add_constraints((sum(z[s, e] for s in range(len(S))) <= 1 for e in range(len(E))), names='c5') "
   ]
  },
  {
   "cell_type": "markdown",
   "id": "df95d1a2-ebf7-4c64-9327-dbc56aa1662b",
   "metadata": {},
   "source": [
    "## Objective Function"
   ]
  },
  {
   "cell_type": "markdown",
   "id": "c17ce398-889c-429e-9c2f-4da72f09bbe0",
   "metadata": {},
   "source": [
    "$$\\sum  $$"
   ]
  }
 ],
 "metadata": {
  "kernelspec": {
   "display_name": "Python 3 (ipykernel)",
   "language": "python",
   "name": "python3"
  },
  "language_info": {
   "codemirror_mode": {
    "name": "ipython",
    "version": 3
   },
   "file_extension": ".py",
   "mimetype": "text/x-python",
   "name": "python",
   "nbconvert_exporter": "python",
   "pygments_lexer": "ipython3",
   "version": "3.8.10"
  }
 },
 "nbformat": 4,
 "nbformat_minor": 5
}
