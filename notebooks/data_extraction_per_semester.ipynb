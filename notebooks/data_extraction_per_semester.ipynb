{
 "cells": [
  {
   "cell_type": "code",
   "execution_count": 1,
   "metadata": {},
   "outputs": [],
   "source": [
    "import pandas as pd\n",
    "import numpy as np\n",
    "import random"
   ]
  },
  {
   "cell_type": "code",
   "execution_count": 3,
   "metadata": {},
   "outputs": [],
   "source": [
    "\n",
    "semester_date = \"a_20189\"\n",
    "num_students = 50"
   ]
  },
  {
   "cell_type": "code",
   "execution_count": 4,
   "metadata": {},
   "outputs": [
    {
     "name": "stderr",
     "output_type": "stream",
     "text": [
      "C:\\Users\\William Hazen\\AppData\\Local\\Temp\\ipykernel_11372\\360064934.py:94: FutureWarning: In a future version of pandas all arguments of DataFrame.any and Series.any will be keyword-only.\n",
      "  Student_ID_Exams.append(semester[\"ACAD_ACT_CD\"][semester.eq(ID).any(1)].values)\n"
     ]
    }
   ],
   "source": [
    "file = \"Exam Sched Prog Datasets.xlsx\"\n",
    "#file = r\"C:\\Users\\William Hazen\\Documents\\GitHub\\exam-timetabling-smac\\Exam Sched Prog Datasets.xlsx\"\n",
    "rooms = pd.read_excel(file, sheet_name = \"datasets room caps \")\n",
    "#courses_20221 = pd.read_excel(file, sheet_name = \"20221 course size\")\n",
    "#enrolments_20221 = pd.read_excel(file, sheet_name = \"20221 anonymized enrolments\")\n",
    "schedule_20221 = pd.read_excel(file, sheet_name = \"20221 Final Schedule_fromLSM\")\n",
    "\n",
    "hist_anonymized_enrolments = pd.read_excel(file, sheet_name=\"hist anonymized enrolments\")\n",
    "#hist_course_size = pd.read_excel(file, sheet_name=\"hist course size \")\n",
    "\n",
    "#initalizing\n",
    "#OG_Course_list = schedule_20221.Course.dropna().values\n",
    "\n",
    "rooms['Room'] = rooms['Room'].astype(str)\n",
    "rooms['Room'] = rooms['Bd'].str.cat(rooms['Room'], sep = \" \")\n",
    "\n",
    "#rooms = rooms.drop(['Note','Bd'], axis=1)\n",
    "\n",
    "# courses_20221['COURSE_CODE'] = courses_20221['COURSE_CODE'].str.cat(courses_20221['SECTIONCD'], sep = \"\")\n",
    "# courses_20221 = courses_20221.drop(['SESSION_CD','SECTIONCD','ADMINFACULTYCODE','ADMINDEPT'], axis=1)\n",
    "# crselist = courses_20221['COURSE_CODE'].tolist()\n",
    "# sizelist = courses_20221['CURR_REG_QTY'].tolist()\n",
    "# # Enrolment data\n",
    "# idlist = enrolments_20221['HASHED_PERSON_ID'].tolist()\n",
    "# classlist = enrolments_20221['ACAD_ACT_CD'].tolist()\n",
    "\n",
    "# schedule_20221['Room'] = schedule_20221['Room'].astype(str)\n",
    "# schedule_20221['Examdate'] = schedule_20221['Examdate'].astype(str)\n",
    "# schedule_20221['Begin'] = schedule_20221['Begin'].astype(str)\n",
    "# schedule_20221['Ends'] = schedule_20221['Ends'].astype(str)\n",
    "\n",
    "# schedule_20221['Room'] = schedule_20221['Bd'].str.cat(schedule_20221['Room'], sep = \" \")\n",
    "\n",
    "# schedule_20221 = schedule_20221.drop(['Bd','Faculty','Department','Section','Sesson','Course Name','Duration'], axis=1)\n",
    "\n",
    "# schedule_20221.replace('ZZ REFER_TO_FACULTY_SCHEDULE', 'None', inplace=True)\n",
    "# schedule_20221.replace('ZZ REFER_TO_FACULTY_SCHEDULE', 'None', inplace=True)\n",
    "# schedule_20221.replace('ZZ ONLIN', 'None', inplace=True)\n",
    "# schedule_20221.replace('APSCDept APSCDept', 'None', inplace=True)\n",
    "# schedule_20221.replace('APSCDept ComputerLab', 'None', inplace=True)\n",
    "# schedule_20221.replace('ZZ KNOX', 'None', inplace=True)\n",
    "# schedule_20221.replace('ZZ VLAD', 'None', inplace=True)\n",
    "# schedule_20221.replace('ZZ ONLINMUSIC', 'None', inplace=True)\n",
    "\n",
    "schedule_20221['Examdate'] = schedule_20221['Examdate'].astype(str)\n",
    "schedule_20221['Begin'] = schedule_20221['Begin'].astype(str)\n",
    "examdate_time_list = (schedule_20221['Examdate'].dropna().astype(str) + \" : \" + schedule_20221['Begin']).dropna().tolist()\n",
    "\n",
    "ETL = np.unique(examdate_time_list)\n",
    "examdate_time_list = [i for i in ETL if i != \"NaT : nan\"]\n",
    "\n",
    "# course_enrollment_values = courses_enrollments_set.values #.drop([\"TEP445H1\"], axis=0).values\n",
    "# sumHe_s = np.sum(courses_enrollments_set, axis=1)\n",
    "\n",
    "# room_list = schedule_20221['bd_room'].dropna().values\n",
    "# test_list = room_list.tolist()\n",
    "# roomlist = [i for i in test_list if i != \"None\"]\n",
    "\n",
    "# room_cap_list = schedule_20221['Room Cap'].dropna().values\n",
    "# test_cap_list = room_cap_list.tolist()\n",
    "# roomcaplist = [i for i in test_cap_list if i != \"None\"]\n",
    "\n",
    "\n",
    "#new processing\n",
    "rooms['Room'] = rooms['Room'].astype(str)\n",
    "rooms['Room'] = rooms['Bd'].str.cat(rooms['Room'], sep = \" \")\n",
    "\n",
    "ava_rooms = rooms['Room'].values\n",
    "ava_room_cap = rooms['Room Cap'].values\n",
    "hist_anonymized_enrolments['ACAD_ACT_CD'] = hist_anonymized_enrolments['ACAD_ACT_CD'].astype(str)\n",
    "hist_anonymized_enrolments['ACAD_ACT_CD'] = hist_anonymized_enrolments['ACAD_ACT_CD'].str.cat(hist_anonymized_enrolments['SECTION_CD'])\n",
    "\n",
    "semeser_list = np.unique(hist_anonymized_enrolments['SESSION_CD']).tolist()\n",
    "anan_sem = {}\n",
    "for sem in semeser_list:\n",
    "    anan_sem[\"a_{}\".format(sem)] = hist_anonymized_enrolments[hist_anonymized_enrolments['SESSION_CD'] == sem]\n",
    "\n",
    "\n",
    "def processing_fun(semester, num_student):\n",
    "    name = []\n",
    "    exam_list = []\n",
    "    Student_ID_Exams = []\n",
    "    \n",
    "    qwe = semester[\"HASHED_PERSON_ID\"].values\n",
    "    qwer = np.unique(qwe)\n",
    "    random_sample_names_generator = (qwer[i] for i in range(num_student))\n",
    "\n",
    "    for i in random_sample_names_generator:\n",
    "        name.append(i)\n",
    "        \n",
    "    Student_ID_List = random.sample(name, len(name))\n",
    "\n",
    "    for ID in Student_ID_List:\n",
    "        Student_ID_Exams.append(semester[\"ACAD_ACT_CD\"][semester.eq(ID).any(1)].values)\n",
    "        \n",
    "    for exam in Student_ID_Exams:\n",
    "        exam_list.append(exam.any())\n",
    "        \n",
    "    uniq_exams = np.unique(exam_list)\n",
    "    new_enrol = pd.DataFrame(semester).copy()\n",
    "    new_enrol[\"class\"] = 1\n",
    "\n",
    "    temp_df = new_enrol[new_enrol[\"HASHED_PERSON_ID\"].isin(Student_ID_List)]\n",
    "    final_temp = temp_df[temp_df[\"ACAD_ACT_CD\"].isin(uniq_exams)]\n",
    "\n",
    "    courses_enrollments_set = pd.pivot_table(data=final_temp, values=\"class\", index=\"ACAD_ACT_CD\", columns=[\"HASHED_PERSON_ID\"], fill_value=0)\n",
    "    \n",
    "    return uniq_exams, Student_ID_List, courses_enrollments_set\n",
    "\n",
    "t_E, t_S, t_C = processing_fun(anan_sem[semester_date], num_students)\n",
    "\n",
    "#sumHe_s = np.sum(t_C.values, axis=1)\n",
    "\n",
    "#storing    \n",
    "exam_set = t_E\n",
    "student_set = t_S\n",
    "datetime_slot_set = examdate_time_list\n",
    "room_set = ava_rooms\n",
    "room_capacity_set = ava_room_cap\n",
    "courses_enrollments_set = t_C.values"
   ]
  },
  {
   "cell_type": "code",
   "execution_count": 5,
   "metadata": {},
   "outputs": [],
   "source": [
    "sumHe_s = np.sum(t_C.values, axis=1)"
   ]
  },
  {
   "cell_type": "code",
   "execution_count": 6,
   "metadata": {},
   "outputs": [
    {
     "name": "stdout",
     "output_type": "stream",
     "text": [
      "Exam set:\n",
      " ['AER307H1F' 'APS062H1F' 'APS100H1F' 'APS301H1F' 'APS444H1F' 'APS490Y1Y'\n",
      " 'APS502H1F' 'CHE204H1F' 'CHE304H1F' 'CHE308H1F' 'CHE353H1F' 'CHE430Y1F'\n",
      " 'CIV102H1F' 'CIV220H1F' 'CIV416H1F' 'CSC326H1F' 'ECE201H1F' 'ECE212H1F'\n",
      " 'ECE302H1F' 'ECE470H1F' 'ESC471H1F' 'ESC499Y1Y' 'MAT231H1F' 'MIE230H1F'\n",
      " 'MIE258H1F' 'MIE270H1F' 'MIE404H1F' 'MIN511H1F' 'PEY500Y1Y'] \n",
      "\n",
      " Course Enrollement Set:\n",
      " [[0 0 0 ... 0 0 0]\n",
      " [0 0 0 ... 0 0 0]\n",
      " [0 0 0 ... 0 0 0]\n",
      " ...\n",
      " [0 0 0 ... 0 0 0]\n",
      " [0 0 0 ... 0 0 0]\n",
      " [0 0 0 ... 0 0 0]] \n",
      "\n",
      " Number of students in course:\n",
      " [1 1 6 2 2 2 1 1 1 1 2 1 2 3 1 1 4 5 4 1 1 3 4 1 5 2 4 1 6] \n",
      "\n",
      " Room Capacity set:\n",
      " [2000  300   44   74   36   36   35   35   50   50   50   50  231  384\n",
      "  192  384  192  125   50   50   50   45   45  100  100   50   45  109\n",
      "  309  335  108  106  120   49   72   50   94   38   38   56   56   53\n",
      "   53  143   37   37   79   69  235   48   36   48   32   75   60   43\n",
      "   43   72  110   52   52   52  120   80   82   30   40   30   48   33\n",
      "   80  112  120  100  150 2000 2000] \n",
      "\n",
      "\n"
     ]
    }
   ],
   "source": [
    "print(\"Exam set:\" '\\n', exam_set,'\\n\\n', \n",
    "      \"Course Enrollement Set:\" '\\n',courses_enrollments_set, '\\n\\n', \n",
    "      \"Number of students in course:\" '\\n',sumHe_s, '\\n\\n', \n",
    "      \"Room Capacity set:\" '\\n',room_capacity_set, '\\n\\n'\n",
    ")"
   ]
  },
  {
   "cell_type": "code",
   "execution_count": 7,
   "metadata": {},
   "outputs": [
    {
     "name": "stdout",
     "output_type": "stream",
     "text": [
      "Exam Date and time slot:\n",
      " ['2022-04-11 : 09:00:00', '2022-04-11 : 14:00:00', '2022-04-11 : 19:00:00', '2022-04-12 : 09:00:00', '2022-04-12 : 14:00:00', '2022-04-12 : 19:00:00', '2022-04-13 : 09:00:00', '2022-04-13 : 14:00:00', '2022-04-13 : 19:00:00', '2022-04-14 : 09:00:00', '2022-04-14 : 14:00:00', '2022-04-14 : 19:00:00', '2022-04-18 : 09:00:00', '2022-04-18 : 14:00:00', '2022-04-18 : 19:00:00', '2022-04-19 : 09:00:00', '2022-04-19 : 09:30:00', '2022-04-19 : 14:00:00', '2022-04-19 : 18:30:00', '2022-04-19 : 19:00:00', '2022-04-20 : 09:00:00', '2022-04-20 : 09:30:00', '2022-04-20 : 14:00:00', '2022-04-20 : 18:30:00', '2022-04-20 : 19:00:00', '2022-04-21 : 09:00:00', '2022-04-21 : 09:30:00', '2022-04-21 : 14:00:00', '2022-04-21 : 18:30:00', '2022-04-21 : 19:00:00', '2022-04-22 : 09:00:00', '2022-04-22 : 09:30:00', '2022-04-22 : 14:00:00', '2022-04-22 : 18:30:00', '2022-04-22 : 19:00:00', '2022-04-23 : 09:00:00', '2022-04-23 : 09:30:00', '2022-04-23 : 14:00:00', '2022-04-25 : 09:00:00', '2022-04-25 : 09:30:00', '2022-04-25 : 14:00:00', '2022-04-25 : 18:30:00', '2022-04-25 : 19:00:00', '2022-04-26 : 09:00:00', '2022-04-26 : 09:30:00', '2022-04-26 : 14:00:00', '2022-04-26 : 18:30:00', '2022-04-26 : 19:00:00', '2022-04-27 : 09:00:00', '2022-04-27 : 09:30:00', '2022-04-27 : 14:00:00', '2022-04-27 : 18:30:00', '2022-04-27 : 19:00:00', '2022-04-28 : 09:00:00', '2022-04-28 : 09:30:00', '2022-04-28 : 14:00:00', '2022-04-28 : 18:30:00', '2022-04-28 : 19:00:00', '2022-04-29 : 09:00:00', '2022-04-29 : 09:30:00', '2022-04-29 : 14:00:00', '2022-04-29 : 18:30:00', '2022-04-30 : 09:30:00', '2022-04-30 : 14:00:00'] \n",
      "\n",
      " Room Set:\n",
      " ['APSCDept APSCDept DEPT' 'APSCDept APSCDept ComputerLab' 'BA BA 1130'\n",
      " 'BA BA 1160' 'BA BA 1170' 'BA BA 1180' 'BA BA 1190' 'BA BA 2159'\n",
      " 'BA BA 2165' 'BA BA 2175' 'BA BA 2185' 'BA BA 2195' 'BN BN 3' 'BN BN 2N'\n",
      " 'BN BN 2N' 'BN BN 2S' 'BN BN 2S' 'BR BR 200' 'EJ EJ 120' 'EJ EJ 130'\n",
      " 'EJ EJ 209' 'EJ EJ 320' 'EJ EJ 330' 'EJ EJ BN' 'EJ EJ GT' 'EJ EJ WH'\n",
      " 'EM EM 119' 'ES ES 1050' 'EX EX 100' 'EX EX 200' 'EX EX 300' 'EX EX 310'\n",
      " 'EX EX 320' 'GB GB 303' 'GB GB 304' 'HA HA 410' 'MC MC 102' 'MC MC 252'\n",
      " 'MC MC 254' 'MP MP 102' 'MP MP 103' 'MP MP 202' 'MP MP 203' 'MS MS 2158'\n",
      " 'MS MS 2170' 'MS MS 2172' 'MS MS 3153' 'MS MS 3154' 'MY MY 150'\n",
      " 'MY MY 315' 'MY MY 330' 'MY MY 360' 'MY MY 380' 'PB PB B150' 'PB PB B250'\n",
      " 'RW RW 110' 'RW RW 117' 'SF SF 2202' 'SF SF 3202' 'SS SS 2102'\n",
      " 'SS SS 2117' 'SS SS 2118' 'ST ST VLAD' 'TC TC 239' 'WB WB 116'\n",
      " 'WB WB 119' 'WB WB 130' 'WB WB 219' 'WI WI 1016' 'WI WI 1017' 'WY WY 119'\n",
      " 'ZZ ZZ KNOX' 'ZZ ZZ VLAD' 'ZZ ZZ ONLINMUSIC' 'ZZ ZZ DEPT'\n",
      " 'ZZ ZZ REFER_TO_FACULTY_SCHEDULE' 'ZZ ZZ ONLIN'] \n",
      "\n",
      " Student set:\n",
      " ['0x0010F32B4F8F75A13D8DF229E7F9ECD03FCC8109', '0x004791505B209D65836B68E6F5058FBC965E76E5', '0x00D02CB46BAA7344145700280E507C74CE5736D5', '0x02BCB3AFE1E90C189717C6B3BA97459B496E332E', '0x0035C6E9A3D00ECE1E970F098EC0A94BD76BEC78', '0x02B791923A16A1FB342A773E7078BD2E9979FC08', '0x017DBD7343F37D7719F41677883DAFF7AB94CAAC', '0x0038A8D0ED175C5D4160C299035830076FF5118D', '0x0113A609950C03B6EFF3D0C6119AE828EA5C1FFA', '0x00AD7D4FFB1151C316E22A69A242D7170C8B9E5D', '0x01000B38032EABB7E4F4A17FA3D41C34551A7DE7', '0x00680480251ECED399EA309436DCA64660C4B2C9', '0x0165958C48BBBFE6497A3E61CE9255ECA1A54A00', '0x02AACE7C010FCC0740894939F8428BA92A7AB012', '0x00F84121C9FE8BFB668D5251156087C49446DC3E', '0x01F5BCBC823FA0BF1A7E206DAC8AD93C4E3D613A', '0x019334E40C97AE3398DF202F38E7186F67ED8829', '0x0002FF223364B9840210B8000907043A6B4EE313', '0x00B88DF86938B9A7C4D1C2CE26A46B419268E5FD', '0x01E2DAE4253504E96ECCE549FBD19389D185D390', '0x001A5BD2042986281855F45799DC3FB26344C6FA', '0x01873E1C810BEDB436E70BEE49062EA4966AC2B3', '0x004D394F780F15E58E65F984835EC6834CEE5393', '0x029562C92485DEB8F795480F1E57ACC4A1E778F9', '0x028DF629E123A0C836FC92EE3F1DCB70C9527093', '0x0221027896F3B50E2BDBBB588A6DFABAA92A6BAB', '0x020E50E4CAF75723A58477DFD274973DFB142492', '0x02881F0E9FFF6CAA46A5D732A048273343C41280', '0x027B73A946C9EC6F29CF05DB3013BFB39C3F1DF0', '0x00F58F35DF022A73815C25D6B05FC5432A74B015', '0x0068862EFE36B41C43E4D6BAECF09029E6FAB055', '0x003F699C534D9541E0EB2ECBD5BA48997D5E36EF', '0x00DD14EB1364478D98A45D58382D16560662A4F0', '0x00E400091CFB9EA5C7A38AE247064672323FE114', '0x0236651C6C3430D205C80D088BCECC80736AD17D', '0x024E3F6A3ECC0DE7564AB3CAFD30BD577433CD31', '0x010FF269B0B6CC7C68D069CA17718BB923348371', '0x0113A3D478FB83B63AFDF81C7DBE92111703242B', '0x022B3B3917658950CA3318471B3919FC4376A64E', '0x0041F0CA81DAB24B8F644B1C4453EBD226D2A24E', '0x01FC7D62F70064372DB01BB8E4F6CC18BFCE5E15', '0x00610546E95FA027E56C2FCC5C1F7B68C07A4DF7', '0x00AD13843227BC3F0DD5CEE1148A0B13D7CD4186', '0x00F3EAC2B60FA1D0DA2B49D69168337C40239C8E', '0x00B8A1E915991B8313FC7C017CAD1ACE5EEBF954', '0x00F3C2BAA7096FE987D557B77A883E249AFFDAC2', '0x0291BB70B50A60F23EB7942B2FE88344B9AC8DDB', '0x02A15BD24F8AB2FD994941FC5A8D88E60D1EB195', '0x0297CD707E4975150560D4F84530E1FB05B81CB2', '0x0207EB267F8BCB608590B1395EC0FD50DF3CBC19'] \n",
      "\n",
      "\n"
     ]
    }
   ],
   "source": [
    "print(\"Exam Date and time slot:\" '\\n',examdate_time_list,'\\n\\n',\n",
    "      \"Room Set:\" '\\n',room_set, '\\n\\n', \n",
    "      \"Student set:\" '\\n', student_set,'\\n\\n')"
   ]
  }
 ],
 "metadata": {
  "kernelspec": {
   "display_name": "Python 3.9.12 ('venv')",
   "language": "python",
   "name": "python3"
  },
  "language_info": {
   "codemirror_mode": {
    "name": "ipython",
    "version": 3
   },
   "file_extension": ".py",
   "mimetype": "text/x-python",
   "name": "python",
   "nbconvert_exporter": "python",
   "pygments_lexer": "ipython3",
   "version": "3.9.12"
  },
  "orig_nbformat": 4,
  "vscode": {
   "interpreter": {
    "hash": "9b192910274a1c529aa82efb3891000b6bfb36ab9aac7f7933ae5d00944f2e3c"
   }
  }
 },
 "nbformat": 4,
 "nbformat_minor": 2
}
