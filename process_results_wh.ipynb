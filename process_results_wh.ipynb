{
 "cells": [
  {
   "cell_type": "code",
   "execution_count": 1,
   "id": "a2962ebf-26b7-401c-865b-1267b8256f48",
   "metadata": {},
   "outputs": [],
   "source": [
    "import os\n",
    "import matplotlib.pyplot as plt\n",
    "import numpy as np\n",
    "import pandas as pd"
   ]
  },
  {
   "cell_type": "code",
   "execution_count": 2,
   "id": "45ee4915-e35a-43e7-9627-20b6ca8fee03",
   "metadata": {},
   "outputs": [],
   "source": [
    "#mypath = r'C:\\Users\\William Hazen\\Documents\\GitHub\\exam-timetabling-smac\\cplex_results\\Renzo Results\\renzo_trials'\n",
    "#mypath = r\"C:\\Users\\William Hazen\\Documents\\GitHub\\exam-timetabling-smac\\cplex_results\\min_cost_T1\"\n",
    "#mypath = r\"C:\\Users\\William Hazen\\Documents\\GitHub\\exam-timetabling-smac\\cplex_results\\run_5_before_class\"\n",
    "#mypath = r'C:\\Users\\William Hazen\\Documents\\GitHub\\exam-timetabling-smac\\cplex_results\\min_runtime_T1'\n",
    "#mypath = r\"C:\\Users\\William Hazen\\Documents\\GitHub\\exam-timetabling-smac\\cplex_results\\test_run\"\n",
    "mypath = r\"cplex_results/analysis\"\n",
    "f = []\n",
    "for (dirpath, dirnames, filenames) in os.walk(mypath):\n",
    "    filenames\n",
    "    break\n"
   ]
  },
  {
   "cell_type": "code",
   "execution_count": 3,
   "id": "9f047fa1-89c9-451d-91a7-2c8449713efb",
   "metadata": {},
   "outputs": [],
   "source": [
    "number_of_configurations = len(dirnames)\n",
    "number_instances_per_config = len(os.listdir(mypath + '/' + dirnames[0])) - 1\n"
   ]
  },
  {
   "cell_type": "code",
   "execution_count": 4,
   "id": "9313a217-d568-4488-87a3-fab9a0fee193",
   "metadata": {},
   "outputs": [
    {
     "data": {
      "text/plain": [
       "(28, 14)"
      ]
     },
     "execution_count": 4,
     "metadata": {},
     "output_type": "execute_result"
    }
   ],
   "source": [
    "number_of_configurations, number_instances_per_config\n"
   ]
  },
  {
   "cell_type": "code",
   "execution_count": 5,
   "id": "f7cf71d7-86bc-424e-b500-d23aa3b5b0d9",
   "metadata": {},
   "outputs": [
    {
     "name": "stdout",
     "output_type": "stream",
     "text": [
      "Folders\n",
      "0   BACK_TO_OLD_1_22_12_07_09_42\n",
      "1   BACK_TO_OLD_1_22_12_07_03_15\n",
      "2   BACK_TO_OLD_1_22_12_07_00_31\n",
      "3   BACK_TO_OLD_1_22_12_07_05_42\n",
      "4   BACK_TO_OLD_1_22_12_07_05_56\n",
      "5   BACK_TO_OLD_1_22_12_07_07_32\n",
      "6   BACK_TO_OLD_1_22_12_07_02_59\n",
      "7   BACK_TO_OLD_1_22_12_06_21_05\n",
      "8   BACK_TO_OLD_1_22_12_07_01_07\n",
      "9   BACK_TO_OLD_1_22_12_07_05_11\n",
      "10   BACK_TO_OLD_1_22_12_07_09_12\n",
      "11   BACK_TO_OLD_1_22_12_07_08_59\n",
      "12   BACK_TO_OLD_1_22_12_06_21_52\n",
      "13   BACK_TO_OLD_1_22_12_07_07_48\n",
      "14   BACK_TO_OLD_1_22_12_07_06_09\n",
      "15   BACK_TO_OLD_1_22_12_07_09_29\n",
      "16   BACK_TO_OLD_1_22_12_07_06_22\n",
      "17   BACK_TO_OLD_1_22_12_06_20_50\n",
      "18   BACK_TO_OLD_1_22_12_07_01_58\n",
      "19   BACK_TO_OLD_1_22_12_07_03_46\n",
      "20   BACK_TO_OLD_1_22_12_06_22_48\n",
      "21   BACK_TO_OLD_1_22_12_07_00_18\n",
      "22   BACK_TO_OLD_1_22_12_07_04_56\n",
      "23   BACK_TO_OLD_1_22_12_07_02_14\n",
      "24   BACK_TO_OLD_1_22_12_07_01_42\n",
      "25   BACK_TO_OLD_1_22_12_07_02_45\n",
      "26   BACK_TO_OLD_1_22_12_06_22_30\n",
      "27   BACK_TO_OLD_1_22_12_07_00_00\n"
     ]
    }
   ],
   "source": [
    "print(\"Folders\")\n",
    "dir_name_list = []\n",
    "count = 0\n",
    "for i, dirname in enumerate(dirnames):\n",
    "    count += 1\n",
    "    dir_name_list.append(dirname)\n",
    "    print(i, ' ', dirname)\n",
    "    \n"
   ]
  },
  {
   "cell_type": "markdown",
   "id": "c2c87a8e",
   "metadata": {},
   "source": [
    "# Helper Functions"
   ]
  },
  {
   "cell_type": "code",
   "execution_count": 6,
   "id": "e4be8f93-c449-4606-abee-8f3204fde59e",
   "metadata": {},
   "outputs": [],
   "source": [
    "config_num = 0\n",
    "instance_num = 0\n",
    "\n",
    "\n",
    "def text_to_float(text):\n",
    "    return float(text.split('= ')[-1].split(' \\n')[0])\n",
    "\n",
    "def text_to_str(text):\n",
    "    return str(text.split('= ')[-1].split(' \\n')[0])\n",
    "\n",
    "def retrieve_instance_result(config_num, instance_num):\n",
    "    \"\"\"\n",
    "    returns runtime and objective for a given configuration and instance number\n",
    "    \"\"\"\n",
    "    path = mypath + '/' + dirnames[config_num]\n",
    "    instance_filename = f'instance_{instance_num}.txt'\n",
    "\n",
    "    if instance_filename in os.listdir(path):\n",
    "        with open(path + '/' + instance_filename) as f:\n",
    "            contents = f.readlines()\n",
    "\n",
    "    rt = text_to_float(contents[-3])\n",
    "    obj = text_to_float(contents[-2])\n",
    "    status = text_to_str(contents[-1])\n",
    "\n",
    "    return rt, obj, status\n"
   ]
  },
  {
   "cell_type": "code",
   "execution_count": 7,
   "id": "efe4a189",
   "metadata": {},
   "outputs": [
    {
     "data": {
      "text/plain": [
       "7"
      ]
     },
     "execution_count": 7,
     "metadata": {},
     "output_type": "execute_result"
    }
   ],
   "source": [
    "instance_num_list = []\n",
    "number_instances_per_config = (os.listdir(mypath + '/' + dirnames[0]))\n",
    "for name in number_instances_per_config:\n",
    "    if name[0] == 'i':\n",
    "        instance_num_list.append(name)\n",
    "len(instance_num_list)"
   ]
  },
  {
   "cell_type": "code",
   "execution_count": 8,
   "id": "b7082673-c010-4298-b037-afaf9b62662e",
   "metadata": {},
   "outputs": [],
   "source": [
    "def get_metric_over_all_instances(config_num, metric):\n",
    "    \"\"\"\n",
    "    Gets the runtime or obj for a given configuration number\n",
    "    \"\"\"\n",
    "    number_of_configurations = len(dirnames)\n",
    "    find_inst = os.listdir(mypath + '/' + dirnames[config_num])\n",
    "\n",
    "    instance_num_list = []\n",
    "\n",
    "    for name in find_inst:\n",
    "        if name[0] == 'i':\n",
    "            instance_num_list.append(name)\n",
    "\n",
    "    metric_vals = []\n",
    "\n",
    "    for instance_num in range(len(instance_num_list)):\n",
    "        rt, obj = retrieve_instance_result(config_num, instance_num)\n",
    "\n",
    "        if metric == 'runtime':\n",
    "            metric_vals.append(rt)\n",
    "\n",
    "        elif metric == 'obj':\n",
    "            metric_vals.append(obj)\n",
    "\n",
    "    return metric_vals\n"
   ]
  },
  {
   "cell_type": "code",
   "execution_count": 9,
   "id": "766b713e",
   "metadata": {},
   "outputs": [
    {
     "data": {
      "text/plain": [
       "['instance_0.txt',\n",
       " 'instance_6.txt',\n",
       " 'instance_5.txt',\n",
       " 'instance_1.txt',\n",
       " 'instance_4.txt',\n",
       " 'instance_3.txt',\n",
       " 'instance_2.txt']"
      ]
     },
     "execution_count": 9,
     "metadata": {},
     "output_type": "execute_result"
    }
   ],
   "source": [
    "find_inst = os.listdir(mypath + '/' + dirnames[0])\n",
    "\n",
    "instance_num_list = []\n",
    "\n",
    "for name in find_inst:\n",
    "    if name[0] == 'i':\n",
    "        instance_num_list.append(name)\n",
    "instance_num_list\n"
   ]
  },
  {
   "cell_type": "markdown",
   "id": "05b69816",
   "metadata": {},
   "source": [
    "# Extraction of CPLEX Results"
   ]
  },
  {
   "cell_type": "code",
   "execution_count": 49,
   "id": "a04c5492-a1be-4a89-9b19-328840e4ec59",
   "metadata": {},
   "outputs": [
    {
     "data": {
      "text/plain": [
       "['instance_0',\n",
       " 'instance_6',\n",
       " 'instance_5',\n",
       " 'instance_1',\n",
       " 'instance_4',\n",
       " 'instance_3',\n",
       " 'instance_2']"
      ]
     },
     "execution_count": 49,
     "metadata": {},
     "output_type": "execute_result"
    }
   ],
   "source": [
    "instance_num_list"
   ]
  },
  {
   "cell_type": "code",
   "execution_count": 10,
   "id": "2670c791",
   "metadata": {},
   "outputs": [],
   "source": [
    "#plot names\n",
    "obj_list = []\n",
    "runtime_list = []\n",
    "folder_instance = []\n",
    "instance_num_list = []\n",
    "retrieve_instance_result_list = []\n",
    "status_list = []\n",
    "i_list = []\n",
    "j_list = []\n",
    "\n",
    "find_inst = os.listdir(mypath + '/' + dirnames[0])\n",
    "for name in find_inst:\n",
    "    if name[0] == 'i':\n",
    "        instance_num_list.append(name[:-4])\n",
    "        \n",
    "#folder_instance = [instance_num_list] * count\n",
    "for i in range(0, count):\n",
    "    folder_instance.append(instance_num_list)    \n",
    "    runtime = []\n",
    "    label_list = []\n",
    "    obj = []\n",
    "    status_l = []\n",
    "    \n",
    "    rt_l = []\n",
    "    obj_l = []\n",
    "    st_l = []\n",
    "    \n",
    "    i_list.append(i)\n",
    "    for j in range(len(instance_num_list)):\n",
    "        j_list.append(j)\n",
    "        batch = retrieve_instance_result(i, j)\n",
    "        retrieve_instance_result_list.append(batch)\n",
    "        runtime.append(batch[0])\n",
    "        obj.append(batch[1])\n",
    "        status_l.append(batch[2])\n",
    "        \n",
    "    runtime_list.append(runtime[:len(instance_num_list)])\n",
    "    obj_list.append(obj[:len(instance_num_list)])\n",
    "    status_list.append(status_l[:len(instance_num_list)])"
   ]
  },
  {
   "cell_type": "markdown",
   "id": "2ba087aa",
   "metadata": {},
   "source": [
    "# Runtime Vs. Instances Bar Plots"
   ]
  },
  {
   "cell_type": "code",
   "execution_count": 11,
   "id": "1720450b",
   "metadata": {},
   "outputs": [],
   "source": [
    "instance_num = len(instance_num_list)"
   ]
  },
  {
   "cell_type": "code",
   "execution_count": 26,
   "id": "3c543872-66ea-48ac-9f78-2d102de6d014",
   "metadata": {},
   "outputs": [
    {
     "data": {
      "text/plain": [
       "28"
      ]
     },
     "execution_count": 26,
     "metadata": {},
     "output_type": "execute_result"
    }
   ],
   "source": [
    "len(runtime_list)"
   ]
  },
  {
   "cell_type": "code",
   "execution_count": 25,
   "id": "78f81f56-2065-4450-aaab-5301a30b88e0",
   "metadata": {},
   "outputs": [
    {
     "data": {
      "text/plain": [
       "[72.47489714622498,\n",
       " 81.0950140953064,\n",
       " 2.54880690574646,\n",
       " 82.20465993881226,\n",
       " 90.15321803092957,\n",
       " 0.9398329257965088,\n",
       " 2.942363977432251]"
      ]
     },
     "execution_count": 25,
     "metadata": {},
     "output_type": "execute_result"
    }
   ],
   "source": [
    "runtime_list[0]"
   ]
  },
  {
   "cell_type": "code",
   "execution_count": 32,
   "id": "77584bde-acad-4b4d-b272-790fa6547de0",
   "metadata": {},
   "outputs": [],
   "source": [
    "import matplotlib.colors as mcolors\n"
   ]
  },
  {
   "cell_type": "code",
   "execution_count": 44,
   "id": "84e10067-33a0-4921-8058-389992973e97",
   "metadata": {},
   "outputs": [],
   "source": []
  },
  {
   "cell_type": "code",
   "execution_count": 45,
   "id": "177807c1",
   "metadata": {},
   "outputs": [
    {
     "data": {
      "image/png": "[encoded data removed]",
      "text/plain": [
       "<Figure size 1500x800 with 1 Axes>"
      ]
     },
     "metadata": {},
     "output_type": "display_data"
    }
   ],
   "source": [
    "plt.figure(figsize=(15, 8))\n",
    "X = np.arange(instance_num)\n",
    "loc = 0\n",
    "colors = plt.cm.Wistia(np.linspace(0, 256, len(runtime_list)))\n",
    "\n",
    "for j, config_results in enumerate(runtime_list[:3]):\n",
    "    if j == 1:\n",
    "        plt.bar(X + loc, config_results, width=0.02, color=\"blue\")\n",
    "    else:\n",
    "        plt.bar(X + loc, config_results, width=0.02, color=colors[j])\n",
    "    loc += 0.3\n",
    "# plt.bar(X + 0.1, runtime_list[1], width=0.1, color=\"palegoldenrod\")\n",
    "# plt.bar(X + 0.2, runtime_list[2], width = 0.1, color = \"darkkhaki\")\n",
    "# plt.bar(X + 0.3, runtime_list[3], width=0.1, color=\"goldenrod\")\n",
    "#plt.bar(X + 0.4, runtime_list[4], width=0.1, color=\"darkgoldenrod\")\n",
    "plt.title(f'Minimizing Objective Value (Runtime vs. Instances)')\n",
    "plt.ylabel(\"Log Runtime\")\n",
    "plt.xlabel(\"Semesters (Instances)\")\n",
    "plt.legend([dir_name_list[0], dir_name_list[1], dir_name_list[2], dir_name_list[3]])#, dir_name_list[4]])\n",
    "plt.yscale('log')\n",
    "#plt.ylim(0,10**2.7)"
   ]
  },
  {
   "cell_type": "code",
   "execution_count": 49,
   "id": "376ecd34",
   "metadata": {},
   "outputs": [
    {
     "data": {
      "image/png": "[encoded data removed]",
      "text/plain": [
       "<Figure size 1500x800 with 1 Axes>"
      ]
     },
     "metadata": {},
     "output_type": "display_data"
    }
   ],
   "source": [
    "plt.figure(figsize=(15, 8))\n",
    "X = np.arange(instance_num)\n",
    "plt.bar(X, obj_list[0], label=i, width=0.1, color=\"blue\")\n",
    "plt.bar(X + 0.1, obj_list[1], width=0.1, color=\"palegoldenrod\")\n",
    "plt.bar(X + 0.2, obj_list[2], width=0.1, color=\"darkkhaki\")\n",
    "plt.bar(X + 0.3, obj_list[3], width=0.1, color=\"goldenrod\")\n",
    "# plt.bar(X + 0.4, obj_list[4], width=0.1, color=\"darkgoldenrod\")\n",
    "plt.title(f'Minimizing Objective Value (Cost vs. Instances)')\n",
    "plt.ylabel(\"Cost\")\n",
    "plt.xlabel(\"Semesters (Instances)\")\n",
    "plt.legend([dir_name_list[0], dir_name_list[1],\n",
    "           dir_name_list[2], dir_name_list[3]])#, dir_name_list[4]])\n",
    "plt.yscale('log')\n",
    "#plt.ylim(0,350)\n"
   ]
  },
  {
   "cell_type": "code",
   "execution_count": 29,
   "id": "afb71146",
   "metadata": {},
   "outputs": [
    {
     "data": {
      "image/png": "[encoded data removed]",
      "text/plain": [
       "<Figure size 1500x800 with 1 Axes>"
      ]
     },
     "metadata": {},
     "output_type": "display_data"
    }
   ],
   "source": [
    "plt.figure(figsize=(15, 8))\n",
    "X = np.arange(instance_num)\n",
    "plt.bar(X, runtime_list[0], label=i, width=0.1, color=\"blue\")\n",
    "plt.bar(X + 0.1, runtime_list[1], width=0.1, color=\"palegoldenrod\")\n",
    "plt.title(f'Minimizing Obj Value (Runtime vs. Instances)')\n",
    "plt.ylabel(\"Runtime\")\n",
    "plt.xlabel(\"Semesters (Instances)\")\n",
    "plt.legend([dir_name_list[0], dir_name_list[1]])\n",
    "plt.yscale('log')\n",
    "#plt.ylim(0,10**3)\n"
   ]
  },
  {
   "cell_type": "code",
   "execution_count": null,
   "id": "248af911",
   "metadata": {},
   "outputs": [],
   "source": [
    "# plt.figure(figsize=(15, 8))\n",
    "# X = np.arange(instance_num)\n",
    "# plt.bar(X, obj_list[0], label=i, width = 0.1)\n",
    "# plt.bar(X + 0.1, obj_list[1], width=0.1)\n",
    "# plt.title(f'Minimizing Cost (Cost vs. Instances)')\n",
    "# plt.ylabel(\"Cost\")\n",
    "# plt.xlabel(\"Instances\")\n",
    "# plt.legend([dir_name_list[0], dir_name_list[1]])\n",
    "# #plt.yscale('log')\n",
    "# #plt.ylim(0,10**3)\n"
   ]
  },
  {
   "cell_type": "code",
   "execution_count": null,
   "id": "a55b1245",
   "metadata": {},
   "outputs": [
    {
     "data": {
      "text/plain": [
       "[350.970857142857, 288.2108571428572, 326.3082142857144, 397.9105714285719]"
      ]
     },
     "execution_count": 148,
     "metadata": {},
     "output_type": "execute_result"
    }
   ],
   "source": [
    "avg_runtime\n"
   ]
  },
  {
   "cell_type": "code",
   "execution_count": null,
   "id": "24a123ed",
   "metadata": {},
   "outputs": [
    {
     "data": {
      "text/plain": [
       "[690.8910000000033,\n",
       " 560.75,\n",
       " 837.2340000000113,\n",
       " 235.89100000000326,\n",
       " 2.2660000000032596,\n",
       " 8.51600000000326,\n",
       " 604.5940000000119,\n",
       " 431.8119999999908,\n",
       " 1000.875,\n",
       " 565.8119999999908,\n",
       " 6.062000000005355,\n",
       " 2.3910000000032596,\n",
       " 9.797000000005937,\n",
       " 6.625]"
      ]
     },
     "execution_count": 185,
     "metadata": {},
     "output_type": "execute_result"
    }
   ],
   "source": [
    "runtime_list[4]"
   ]
  },
  {
   "cell_type": "code",
   "execution_count": null,
   "id": "b91809fa",
   "metadata": {},
   "outputs": [
    {
     "data": {
      "text/plain": [
       "[228.62942857142585,\n",
       " 385.4453571428582,\n",
       " 293.31257142856964,\n",
       " 613.4987142857145,\n",
       " 354.53685714285945]"
      ]
     },
     "execution_count": 186,
     "metadata": {},
     "output_type": "execute_result"
    }
   ],
   "source": [
    "avg_runtime\n"
   ]
  },
  {
   "cell_type": "code",
   "execution_count": 51,
   "id": "956cc23f",
   "metadata": {},
   "outputs": [
    {
     "data": {
      "text/plain": [
       "([<matplotlib.axis.XTick at 0x7fdc72e46580>,\n",
       "  <matplotlib.axis.XTick at 0x7fdc72e469a0>,\n",
       "  <matplotlib.axis.XTick at 0x7fdc6f585280>,\n",
       "  <matplotlib.axis.XTick at 0x7fdc6f8df160>],\n",
       " [Text(0, 0, '0'), Text(1, 0, '1'), Text(2, 0, '2'), Text(3, 0, '3')])"
      ]
     },
     "execution_count": 51,
     "metadata": {},
     "output_type": "execute_result"
    },
    {
     "data": {
      "image/png": "[encoded data removed]",
      "text/plain": [
       "<Figure size 800x500 with 1 Axes>"
      ]
     },
     "metadata": {},
     "output_type": "display_data"
    }
   ],
   "source": [
    "avg_runtime = []\n",
    "for run in runtime_list:\n",
    "    avg_runtime.append(np.mean(run))\n",
    "\n",
    "\n",
    "plt.figure(figsize=(8,5))\n",
    "plt.plot(avg_runtime)\n",
    "plt.title(\"Average Runtime per Configuration\")\n",
    "plt.xlabel(\"Configurations\")\n",
    "plt.ylabel(\"Average Runtime (s)\")\n",
    "plt.xticks([0,1,2,3])\n",
    "#plt.yscale('log')"
   ]
  },
  {
   "cell_type": "code",
   "execution_count": null,
   "id": "84745493",
   "metadata": {},
   "outputs": [],
   "source": []
  },
  {
   "cell_type": "markdown",
   "id": "1242d0a1",
   "metadata": {},
   "source": [
    "# Schedule Display"
   ]
  },
  {
   "cell_type": "code",
   "execution_count": null,
   "id": "575663a1",
   "metadata": {},
   "outputs": [
    {
     "data": {
      "text/html": [
       "<div>\n",
       "<style scoped>\n",
       "    .dataframe tbody tr th:only-of-type {\n",
       "        vertical-align: middle;\n",
       "    }\n",
       "\n",
       "    .dataframe tbody tr th {\n",
       "        vertical-align: top;\n",
       "    }\n",
       "\n",
       "    .dataframe thead th {\n",
       "        text-align: right;\n",
       "    }\n",
       "</style>\n",
       "<table border=\"1\" class=\"dataframe\">\n",
       "  <thead>\n",
       "    <tr style=\"text-align: right;\">\n",
       "      <th></th>\n",
       "      <th>timeslot</th>\n",
       "      <th>EXAM</th>\n",
       "      <th>TIMESLOT</th>\n",
       "      <th>ROOM</th>\n",
       "      <th>Room Size</th>\n",
       "      <th>Class Size</th>\n",
       "      <th>Student ID</th>\n",
       "    </tr>\n",
       "  </thead>\n",
       "  <tbody>\n",
       "    <tr>\n",
       "      <th>0</th>\n",
       "      <td>0</td>\n",
       "      <td>CME210H1F</td>\n",
       "      <td>2022-04-11 : 09:00:00</td>\n",
       "      <td>MS 3154</td>\n",
       "      <td>69</td>\n",
       "      <td>51</td>\n",
       "      <td>['0x06353BFE817DA33720C3AF44C400F40A08AE71D8',...</td>\n",
       "    </tr>\n",
       "    <tr>\n",
       "      <th>1</th>\n",
       "      <td>0</td>\n",
       "      <td>AER301H1F</td>\n",
       "      <td>2022-04-11 : 09:00:00</td>\n",
       "      <td>MS 2158</td>\n",
       "      <td>143</td>\n",
       "      <td>45</td>\n",
       "      <td>['0x2B942AC9077FECB283B07CE345DB1737FBA3D626',...</td>\n",
       "    </tr>\n",
       "    <tr>\n",
       "      <th>2</th>\n",
       "      <td>0</td>\n",
       "      <td>CIV519H1F</td>\n",
       "      <td>2022-04-11 : 09:00:00</td>\n",
       "      <td>EX 310</td>\n",
       "      <td>106</td>\n",
       "      <td>11</td>\n",
       "      <td>['0x7CB16F7D26284F7E1E602B905C5048DD08F4E797',...</td>\n",
       "    </tr>\n",
       "    <tr>\n",
       "      <th>3</th>\n",
       "      <td>0</td>\n",
       "      <td>ECE367H1F</td>\n",
       "      <td>2022-04-11 : 09:00:00</td>\n",
       "      <td>BN 3</td>\n",
       "      <td>231</td>\n",
       "      <td>32</td>\n",
       "      <td>['0x1F948EBE68B4329EF4367E257E0C90EBDA28645D',...</td>\n",
       "    </tr>\n",
       "    <tr>\n",
       "      <th>4</th>\n",
       "      <td>0</td>\n",
       "      <td>MSE332H1F</td>\n",
       "      <td>2022-04-11 : 09:00:00</td>\n",
       "      <td>WY 119</td>\n",
       "      <td>80</td>\n",
       "      <td>28</td>\n",
       "      <td>['0x5E53B8D56EEFC6696D5C4BD14FC7B9B6D2162B5E',...</td>\n",
       "    </tr>\n",
       "    <tr>\n",
       "      <th>...</th>\n",
       "      <td>...</td>\n",
       "      <td>...</td>\n",
       "      <td>...</td>\n",
       "      <td>...</td>\n",
       "      <td>...</td>\n",
       "      <td>...</td>\n",
       "      <td>...</td>\n",
       "    </tr>\n",
       "    <tr>\n",
       "      <th>158</th>\n",
       "      <td>63</td>\n",
       "      <td>APS325H1F</td>\n",
       "      <td>2022-04-30 : 14:00:00</td>\n",
       "      <td>EJ 209</td>\n",
       "      <td>50</td>\n",
       "      <td>13</td>\n",
       "      <td>['0x8C76FF24380CB32425748BD81CE39074BC8C56E3',...</td>\n",
       "    </tr>\n",
       "    <tr>\n",
       "      <th>159</th>\n",
       "      <td>63</td>\n",
       "      <td>MIE360H1F</td>\n",
       "      <td>2022-04-30 : 14:00:00</td>\n",
       "      <td>MS 2158</td>\n",
       "      <td>143</td>\n",
       "      <td>79</td>\n",
       "      <td>['0x895F9BDE51AF7C3A1E982207FE043A2B04EBCBBB',...</td>\n",
       "    </tr>\n",
       "    <tr>\n",
       "      <th>160</th>\n",
       "      <td>63</td>\n",
       "      <td>ECE324H1F</td>\n",
       "      <td>2022-04-30 : 14:00:00</td>\n",
       "      <td>ES 1050</td>\n",
       "      <td>109</td>\n",
       "      <td>20</td>\n",
       "      <td>['0x1F948EBE68B4329EF4367E257E0C90EBDA28645D',...</td>\n",
       "    </tr>\n",
       "    <tr>\n",
       "      <th>161</th>\n",
       "      <td>63</td>\n",
       "      <td>APS113Y1Y</td>\n",
       "      <td>2022-04-30 : 14:00:00</td>\n",
       "      <td>BN 2S</td>\n",
       "      <td>384</td>\n",
       "      <td>11</td>\n",
       "      <td>['0x5A570FFFC8C2D4F6C7CDB0B189355A143135BCEC',...</td>\n",
       "    </tr>\n",
       "    <tr>\n",
       "      <th>162</th>\n",
       "      <td>63</td>\n",
       "      <td>CIV460H1F</td>\n",
       "      <td>2022-04-30 : 14:00:00</td>\n",
       "      <td>BA 2185</td>\n",
       "      <td>50</td>\n",
       "      <td>3</td>\n",
       "      <td>['0x0D3B9B7101787DBDECA03352B3E56622773A8281',...</td>\n",
       "    </tr>\n",
       "  </tbody>\n",
       "</table>\n",
       "<p>163 rows × 7 columns</p>\n",
       "</div>"
      ],
      "text/plain": [
       "     timeslot       EXAM               TIMESLOT     ROOM  Room Size  \\\n",
       "0           0  CME210H1F  2022-04-11 : 09:00:00  MS 3154         69   \n",
       "1           0  AER301H1F  2022-04-11 : 09:00:00  MS 2158        143   \n",
       "2           0  CIV519H1F  2022-04-11 : 09:00:00   EX 310        106   \n",
       "3           0  ECE367H1F  2022-04-11 : 09:00:00     BN 3        231   \n",
       "4           0  MSE332H1F  2022-04-11 : 09:00:00   WY 119         80   \n",
       "..        ...        ...                    ...      ...        ...   \n",
       "158        63  APS325H1F  2022-04-30 : 14:00:00   EJ 209         50   \n",
       "159        63  MIE360H1F  2022-04-30 : 14:00:00  MS 2158        143   \n",
       "160        63  ECE324H1F  2022-04-30 : 14:00:00  ES 1050        109   \n",
       "161        63  APS113Y1Y  2022-04-30 : 14:00:00    BN 2S        384   \n",
       "162        63  CIV460H1F  2022-04-30 : 14:00:00  BA 2185         50   \n",
       "\n",
       "     Class Size                                         Student ID  \n",
       "0            51  ['0x06353BFE817DA33720C3AF44C400F40A08AE71D8',...  \n",
       "1            45  ['0x2B942AC9077FECB283B07CE345DB1737FBA3D626',...  \n",
       "2            11  ['0x7CB16F7D26284F7E1E602B905C5048DD08F4E797',...  \n",
       "3            32  ['0x1F948EBE68B4329EF4367E257E0C90EBDA28645D',...  \n",
       "4            28  ['0x5E53B8D56EEFC6696D5C4BD14FC7B9B6D2162B5E',...  \n",
       "..          ...                                                ...  \n",
       "158          13  ['0x8C76FF24380CB32425748BD81CE39074BC8C56E3',...  \n",
       "159          79  ['0x895F9BDE51AF7C3A1E982207FE043A2B04EBCBBB',...  \n",
       "160          20  ['0x1F948EBE68B4329EF4367E257E0C90EBDA28645D',...  \n",
       "161          11  ['0x5A570FFFC8C2D4F6C7CDB0B189355A143135BCEC',...  \n",
       "162           3  ['0x0D3B9B7101787DBDECA03352B3E56622773A8281',...  \n",
       "\n",
       "[163 rows x 7 columns]"
      ]
     },
     "metadata": {},
     "output_type": "display_data"
    }
   ],
   "source": [
    "file = r\"C:\\Users\\William Hazen\\Documents\\GitHub\\exam-timetabling-smac\\cplex_results\\min_cost_T1\\MC_14_Trial__aDEFAULT\\DF_Schedual_6.csv\"\n",
    "df_schedule = pd.read_csv(file)\n",
    "df_schedule = df_schedule.drop([\"Unnamed: 0\"],axis=1)\n",
    "display(df_schedule)"
   ]
  },
  {
   "cell_type": "code",
   "execution_count": null,
   "id": "79f28523",
   "metadata": {},
   "outputs": [],
   "source": [
    "# file = r\"C:\\Users\\William Hazen\\Documents\\GitHub\\exam-timetabling-smac\\cplex_results\\MC_14_Trial__22_12_03_15_44\\DF_Schedual_0_timefail.csv\"\n",
    "# df_schedule = pd.read_csv(file)\n",
    "# df_schedule = df_schedule.drop([\"Unnamed: 0\"],axis=1)\n",
    "# display(df_schedule)"
   ]
  },
  {
   "cell_type": "code",
   "execution_count": null,
   "id": "d2475e16",
   "metadata": {},
   "outputs": [
    {
     "data": {
      "text/plain": [
       "5"
      ]
     },
     "execution_count": 152,
     "metadata": {},
     "output_type": "execute_result"
    }
   ],
   "source": [
    "len(runtime_list)"
   ]
  },
  {
   "cell_type": "code",
   "execution_count": null,
   "id": "0f164408",
   "metadata": {},
   "outputs": [],
   "source": [
    "# file = \"Exam Sched Prog Datasets.xlsx\"\n",
    "# file = r\"C:\\Users\\William Hazen\\Documents\\GitHub\\exam-timetabling-smac\\Exam Sched Prog Datasets.xlsx\"\n",
    "\n",
    "# rooms = pd.read_excel(file, sheet_name=\"datasets room caps \")\n",
    "# # courses_20221 = pd.read_excel(file, sheet_name = \"20221 course size\")\n",
    "# # enrolments_20221 = pd.read_excel(file, sheet_name = \"20221 anonymized enrolments\")\n",
    "# # schedule_20221 = pd.read_excel(file, sheet_name=\"20221 Final Schedule_fromLSM\")\n",
    "# hist_anonymized_enrolments = pd.read_excel(file, sheet_name=\"hist anonymized enrolments\")\n"
   ]
  },
  {
   "cell_type": "code",
   "execution_count": null,
   "id": "9d158a75",
   "metadata": {},
   "outputs": [],
   "source": [
    "# rooms.drop(\"Note\",axis=1)"
   ]
  },
  {
   "cell_type": "code",
   "execution_count": null,
   "id": "e8a056ad",
   "metadata": {},
   "outputs": [],
   "source": [
    "# hist_anonymized_enrolments.drop([\"ADMINFACULTYCODE\", \"ADMINDEPT\"],axis=1)\n"
   ]
  },
  {
   "cell_type": "code",
   "execution_count": null,
   "id": "a9ef34a9",
   "metadata": {},
   "outputs": [],
   "source": [
    "# hist_anonymized_enrolments\n"
   ]
  },
  {
   "cell_type": "markdown",
   "id": "1f0ef45a",
   "metadata": {},
   "source": [
    "# Results Data Frames"
   ]
  },
  {
   "cell_type": "code",
   "execution_count": 52,
   "id": "4bf4bbe0",
   "metadata": {},
   "outputs": [
    {
     "data": {
      "text/html": [
       "<div>\n",
       "<style scoped>\n",
       "    .dataframe tbody tr th:only-of-type {\n",
       "        vertical-align: middle;\n",
       "    }\n",
       "\n",
       "    .dataframe tbody tr th {\n",
       "        vertical-align: top;\n",
       "    }\n",
       "\n",
       "    .dataframe thead th {\n",
       "        text-align: right;\n",
       "    }\n",
       "</style>\n",
       "<table border=\"1\" class=\"dataframe\">\n",
       "  <thead>\n",
       "    <tr style=\"text-align: right;\">\n",
       "      <th></th>\n",
       "      <th>Status</th>\n",
       "      <th>(1) Runtime</th>\n",
       "      <th>Obj Value</th>\n",
       "    </tr>\n",
       "  </thead>\n",
       "  <tbody>\n",
       "    <tr>\n",
       "      <th>0</th>\n",
       "      <td>unknown</td>\n",
       "      <td>1000000.000000</td>\n",
       "      <td>1000000.00</td>\n",
       "    </tr>\n",
       "    <tr>\n",
       "      <th>1</th>\n",
       "      <td>unknown</td>\n",
       "      <td>1000000.000000</td>\n",
       "      <td>1000000.00</td>\n",
       "    </tr>\n",
       "    <tr>\n",
       "      <th>2</th>\n",
       "      <td>solution</td>\n",
       "      <td>148.232316</td>\n",
       "      <td>7.00</td>\n",
       "    </tr>\n",
       "    <tr>\n",
       "      <th>3</th>\n",
       "      <td>unknown</td>\n",
       "      <td>1000000.000000</td>\n",
       "      <td>1000000.00</td>\n",
       "    </tr>\n",
       "    <tr>\n",
       "      <th>4</th>\n",
       "      <td>unknown</td>\n",
       "      <td>1000000.000000</td>\n",
       "      <td>1000000.00</td>\n",
       "    </tr>\n",
       "    <tr>\n",
       "      <th>5</th>\n",
       "      <td>bound</td>\n",
       "      <td>108.751770</td>\n",
       "      <td>19.95</td>\n",
       "    </tr>\n",
       "    <tr>\n",
       "      <th>6</th>\n",
       "      <td>solution</td>\n",
       "      <td>189.569013</td>\n",
       "      <td>14.00</td>\n",
       "    </tr>\n",
       "  </tbody>\n",
       "</table>\n",
       "</div>"
      ],
      "text/plain": [
       "     Status     (1) Runtime   Obj Value\n",
       "0   unknown  1000000.000000  1000000.00\n",
       "1   unknown  1000000.000000  1000000.00\n",
       "2  solution      148.232316        7.00\n",
       "3   unknown  1000000.000000  1000000.00\n",
       "4   unknown  1000000.000000  1000000.00\n",
       "5     bound      108.751770       19.95\n",
       "6  solution      189.569013       14.00"
      ]
     },
     "execution_count": 52,
     "metadata": {},
     "output_type": "execute_result"
    }
   ],
   "source": [
    "df_batch_1 = pd.DataFrame({\n",
    "    \"Status\": status_list[0],\n",
    "    \"(1) Runtime\": runtime_list[0],\n",
    "    \"Obj Value\": obj_list[0]\n",
    "})\n",
    "\n",
    "df_batch_1"
   ]
  },
  {
   "cell_type": "code",
   "execution_count": 53,
   "id": "c5497cdc",
   "metadata": {},
   "outputs": [
    {
     "data": {
      "text/html": [
       "<div>\n",
       "<style scoped>\n",
       "    .dataframe tbody tr th:only-of-type {\n",
       "        vertical-align: middle;\n",
       "    }\n",
       "\n",
       "    .dataframe tbody tr th {\n",
       "        vertical-align: top;\n",
       "    }\n",
       "\n",
       "    .dataframe thead th {\n",
       "        text-align: right;\n",
       "    }\n",
       "</style>\n",
       "<table border=\"1\" class=\"dataframe\">\n",
       "  <thead>\n",
       "    <tr style=\"text-align: right;\">\n",
       "      <th></th>\n",
       "      <th>(2) Status</th>\n",
       "      <th>Runtime</th>\n",
       "      <th>Obj Value</th>\n",
       "    </tr>\n",
       "  </thead>\n",
       "  <tbody>\n",
       "    <tr>\n",
       "      <th>0</th>\n",
       "      <td>bound</td>\n",
       "      <td>208.054799</td>\n",
       "      <td>143.766667</td>\n",
       "    </tr>\n",
       "    <tr>\n",
       "      <th>1</th>\n",
       "      <td>bound</td>\n",
       "      <td>224.748339</td>\n",
       "      <td>157.016667</td>\n",
       "    </tr>\n",
       "    <tr>\n",
       "      <th>2</th>\n",
       "      <td>solution</td>\n",
       "      <td>2.810152</td>\n",
       "      <td>7.000000</td>\n",
       "    </tr>\n",
       "    <tr>\n",
       "      <th>3</th>\n",
       "      <td>bound</td>\n",
       "      <td>276.796958</td>\n",
       "      <td>148.583333</td>\n",
       "    </tr>\n",
       "    <tr>\n",
       "      <th>4</th>\n",
       "      <td>unknown</td>\n",
       "      <td>1000000.000000</td>\n",
       "      <td>1000000.000000</td>\n",
       "    </tr>\n",
       "    <tr>\n",
       "      <th>5</th>\n",
       "      <td>bound</td>\n",
       "      <td>1.976584</td>\n",
       "      <td>19.950000</td>\n",
       "    </tr>\n",
       "    <tr>\n",
       "      <th>6</th>\n",
       "      <td>solution</td>\n",
       "      <td>7.121993</td>\n",
       "      <td>14.000000</td>\n",
       "    </tr>\n",
       "  </tbody>\n",
       "</table>\n",
       "</div>"
      ],
      "text/plain": [
       "  (2) Status         Runtime       Obj Value\n",
       "0      bound      208.054799      143.766667\n",
       "1      bound      224.748339      157.016667\n",
       "2   solution        2.810152        7.000000\n",
       "3      bound      276.796958      148.583333\n",
       "4    unknown  1000000.000000  1000000.000000\n",
       "5      bound        1.976584       19.950000\n",
       "6   solution        7.121993       14.000000"
      ]
     },
     "execution_count": 53,
     "metadata": {},
     "output_type": "execute_result"
    }
   ],
   "source": [
    "df_batch_2 = pd.DataFrame({\n",
    "    \"(2) Status\": status_list[1],\n",
    "    \"Runtime\": runtime_list[1],\n",
    "    \"Obj Value\": obj_list[1]\n",
    "})\n",
    "\n",
    "df_batch_2"
   ]
  },
  {
   "cell_type": "code",
   "execution_count": 54,
   "id": "1a47d9b9",
   "metadata": {},
   "outputs": [
    {
     "data": {
      "text/html": [
       "<div>\n",
       "<style scoped>\n",
       "    .dataframe tbody tr th:only-of-type {\n",
       "        vertical-align: middle;\n",
       "    }\n",
       "\n",
       "    .dataframe tbody tr th {\n",
       "        vertical-align: top;\n",
       "    }\n",
       "\n",
       "    .dataframe thead th {\n",
       "        text-align: right;\n",
       "    }\n",
       "</style>\n",
       "<table border=\"1\" class=\"dataframe\">\n",
       "  <thead>\n",
       "    <tr style=\"text-align: right;\">\n",
       "      <th></th>\n",
       "      <th>(3) Status</th>\n",
       "      <th>Runtime</th>\n",
       "      <th>Obj Value</th>\n",
       "    </tr>\n",
       "  </thead>\n",
       "  <tbody>\n",
       "    <tr>\n",
       "      <th>0</th>\n",
       "      <td>bound</td>\n",
       "      <td>20.426922</td>\n",
       "      <td>143.766667</td>\n",
       "    </tr>\n",
       "    <tr>\n",
       "      <th>1</th>\n",
       "      <td>bound</td>\n",
       "      <td>18.270295</td>\n",
       "      <td>157.016667</td>\n",
       "    </tr>\n",
       "    <tr>\n",
       "      <th>2</th>\n",
       "      <td>solution</td>\n",
       "      <td>1.015405</td>\n",
       "      <td>7.000000</td>\n",
       "    </tr>\n",
       "    <tr>\n",
       "      <th>3</th>\n",
       "      <td>bound</td>\n",
       "      <td>34.620785</td>\n",
       "      <td>148.583333</td>\n",
       "    </tr>\n",
       "    <tr>\n",
       "      <th>4</th>\n",
       "      <td>bound</td>\n",
       "      <td>184.136205</td>\n",
       "      <td>164.933333</td>\n",
       "    </tr>\n",
       "    <tr>\n",
       "      <th>5</th>\n",
       "      <td>bound</td>\n",
       "      <td>0.788297</td>\n",
       "      <td>19.950000</td>\n",
       "    </tr>\n",
       "    <tr>\n",
       "      <th>6</th>\n",
       "      <td>solution</td>\n",
       "      <td>1.714111</td>\n",
       "      <td>14.000000</td>\n",
       "    </tr>\n",
       "  </tbody>\n",
       "</table>\n",
       "</div>"
      ],
      "text/plain": [
       "  (3) Status     Runtime   Obj Value\n",
       "0      bound   20.426922  143.766667\n",
       "1      bound   18.270295  157.016667\n",
       "2   solution    1.015405    7.000000\n",
       "3      bound   34.620785  148.583333\n",
       "4      bound  184.136205  164.933333\n",
       "5      bound    0.788297   19.950000\n",
       "6   solution    1.714111   14.000000"
      ]
     },
     "execution_count": 54,
     "metadata": {},
     "output_type": "execute_result"
    }
   ],
   "source": [
    "df_batch_3 = pd.DataFrame({\n",
    "    \"(3) Status\": status_list[2],\n",
    "    \"Runtime\": runtime_list[2],\n",
    "    \"Obj Value\": obj_list[2]\n",
    "})\n",
    "\n",
    "df_batch_3"
   ]
  },
  {
   "cell_type": "code",
   "execution_count": null,
   "id": "e245c0ee",
   "metadata": {},
   "outputs": [
    {
     "data": {
      "text/html": [
       "<div>\n",
       "<style scoped>\n",
       "    .dataframe tbody tr th:only-of-type {\n",
       "        vertical-align: middle;\n",
       "    }\n",
       "\n",
       "    .dataframe tbody tr th {\n",
       "        vertical-align: top;\n",
       "    }\n",
       "\n",
       "    .dataframe thead th {\n",
       "        text-align: right;\n",
       "    }\n",
       "</style>\n",
       "<table border=\"1\" class=\"dataframe\">\n",
       "  <thead>\n",
       "    <tr style=\"text-align: right;\">\n",
       "      <th></th>\n",
       "      <th>Status</th>\n",
       "      <th>Runtime</th>\n",
       "      <th>Obj Value</th>\n",
       "    </tr>\n",
       "  </thead>\n",
       "  <tbody>\n",
       "    <tr>\n",
       "      <th>0</th>\n",
       "      <td>bound</td>\n",
       "      <td>224.610</td>\n",
       "      <td>143.766667</td>\n",
       "    </tr>\n",
       "    <tr>\n",
       "      <th>1</th>\n",
       "      <td>bound</td>\n",
       "      <td>336.796</td>\n",
       "      <td>290.700000</td>\n",
       "    </tr>\n",
       "    <tr>\n",
       "      <th>2</th>\n",
       "      <td>solution</td>\n",
       "      <td>246.718</td>\n",
       "      <td>158.000000</td>\n",
       "    </tr>\n",
       "    <tr>\n",
       "      <th>3</th>\n",
       "      <td>bound</td>\n",
       "      <td>1078.203</td>\n",
       "      <td>292.700000</td>\n",
       "    </tr>\n",
       "    <tr>\n",
       "      <th>4</th>\n",
       "      <td>solution</td>\n",
       "      <td>4.218</td>\n",
       "      <td>7.000000</td>\n",
       "    </tr>\n",
       "    <tr>\n",
       "      <th>5</th>\n",
       "      <td>solution</td>\n",
       "      <td>12.219</td>\n",
       "      <td>11.000000</td>\n",
       "    </tr>\n",
       "    <tr>\n",
       "      <th>6</th>\n",
       "      <td>bound</td>\n",
       "      <td>306.344</td>\n",
       "      <td>148.583333</td>\n",
       "    </tr>\n",
       "    <tr>\n",
       "      <th>7</th>\n",
       "      <td>bound</td>\n",
       "      <td>757.813</td>\n",
       "      <td>303.666667</td>\n",
       "    </tr>\n",
       "    <tr>\n",
       "      <th>8</th>\n",
       "      <td>bound</td>\n",
       "      <td>3558.093</td>\n",
       "      <td>164.933333</td>\n",
       "    </tr>\n",
       "    <tr>\n",
       "      <th>9</th>\n",
       "      <td>bound</td>\n",
       "      <td>2038.938</td>\n",
       "      <td>314.800000</td>\n",
       "    </tr>\n",
       "    <tr>\n",
       "      <th>10</th>\n",
       "      <td>solution</td>\n",
       "      <td>14.000</td>\n",
       "      <td>20.000000</td>\n",
       "    </tr>\n",
       "    <tr>\n",
       "      <th>11</th>\n",
       "      <td>solution</td>\n",
       "      <td>2.109</td>\n",
       "      <td>26.000000</td>\n",
       "    </tr>\n",
       "    <tr>\n",
       "      <th>12</th>\n",
       "      <td>solution</td>\n",
       "      <td>4.437</td>\n",
       "      <td>14.000000</td>\n",
       "    </tr>\n",
       "    <tr>\n",
       "      <th>13</th>\n",
       "      <td>solution</td>\n",
       "      <td>4.484</td>\n",
       "      <td>17.000000</td>\n",
       "    </tr>\n",
       "  </tbody>\n",
       "</table>\n",
       "</div>"
      ],
      "text/plain": [
       "      Status   Runtime   Obj Value\n",
       "0      bound   224.610  143.766667\n",
       "1      bound   336.796  290.700000\n",
       "2   solution   246.718  158.000000\n",
       "3      bound  1078.203  292.700000\n",
       "4   solution     4.218    7.000000\n",
       "5   solution    12.219   11.000000\n",
       "6      bound   306.344  148.583333\n",
       "7      bound   757.813  303.666667\n",
       "8      bound  3558.093  164.933333\n",
       "9      bound  2038.938  314.800000\n",
       "10  solution    14.000   20.000000\n",
       "11  solution     2.109   26.000000\n",
       "12  solution     4.437   14.000000\n",
       "13  solution     4.484   17.000000"
      ]
     },
     "execution_count": 160,
     "metadata": {},
     "output_type": "execute_result"
    }
   ],
   "source": [
    "df_batch_4 = pd.DataFrame({\n",
    "    \"Status\": status_list[3],\n",
    "    \"Runtime\": runtime_list[3],\n",
    "    \"Obj Value\": obj_list[3]\n",
    "})\n",
    "\n",
    "df_batch_4"
   ]
  },
  {
   "cell_type": "code",
   "execution_count": null,
   "id": "d4ce0ca8",
   "metadata": {},
   "outputs": [],
   "source": [
    "# df_batch_5 = pd.DataFrame({\n",
    "#     \"Status\": status_list[4],\n",
    "#     \"Runtime\": runtime_list[4],\n",
    "#     \"Obj Value\": obj_list[4]\n",
    "# })\n",
    "\n",
    "# df_batch_5"
   ]
  },
  {
   "cell_type": "code",
   "execution_count": 55,
   "id": "e8a513e9",
   "metadata": {},
   "outputs": [],
   "source": [
    "totals = pd.concat([df_batch_1, df_batch_2, df_batch_3], axis=1)#.drop(\"Obj Value\",axis=1)"
   ]
  },
  {
   "cell_type": "code",
   "execution_count": 56,
   "id": "2c426444",
   "metadata": {},
   "outputs": [
    {
     "data": {
      "text/html": [
       "<div>\n",
       "<style scoped>\n",
       "    .dataframe tbody tr th:only-of-type {\n",
       "        vertical-align: middle;\n",
       "    }\n",
       "\n",
       "    .dataframe tbody tr th {\n",
       "        vertical-align: top;\n",
       "    }\n",
       "\n",
       "    .dataframe thead th {\n",
       "        text-align: right;\n",
       "    }\n",
       "</style>\n",
       "<table border=\"1\" class=\"dataframe\">\n",
       "  <thead>\n",
       "    <tr style=\"text-align: right;\">\n",
       "      <th></th>\n",
       "      <th>Status</th>\n",
       "      <th>(1) Runtime</th>\n",
       "      <th>Obj Value</th>\n",
       "      <th>(2) Status</th>\n",
       "      <th>Runtime</th>\n",
       "      <th>Obj Value</th>\n",
       "      <th>(3) Status</th>\n",
       "      <th>Runtime</th>\n",
       "      <th>Obj Value</th>\n",
       "    </tr>\n",
       "  </thead>\n",
       "  <tbody>\n",
       "    <tr>\n",
       "      <th>0</th>\n",
       "      <td>unknown</td>\n",
       "      <td>1000000.000000</td>\n",
       "      <td>1000000.00</td>\n",
       "      <td>bound</td>\n",
       "      <td>208.054799</td>\n",
       "      <td>143.766667</td>\n",
       "      <td>bound</td>\n",
       "      <td>20.426922</td>\n",
       "      <td>143.766667</td>\n",
       "    </tr>\n",
       "    <tr>\n",
       "      <th>1</th>\n",
       "      <td>unknown</td>\n",
       "      <td>1000000.000000</td>\n",
       "      <td>1000000.00</td>\n",
       "      <td>bound</td>\n",
       "      <td>224.748339</td>\n",
       "      <td>157.016667</td>\n",
       "      <td>bound</td>\n",
       "      <td>18.270295</td>\n",
       "      <td>157.016667</td>\n",
       "    </tr>\n",
       "    <tr>\n",
       "      <th>2</th>\n",
       "      <td>solution</td>\n",
       "      <td>148.232316</td>\n",
       "      <td>7.00</td>\n",
       "      <td>solution</td>\n",
       "      <td>2.810152</td>\n",
       "      <td>7.000000</td>\n",
       "      <td>solution</td>\n",
       "      <td>1.015405</td>\n",
       "      <td>7.000000</td>\n",
       "    </tr>\n",
       "    <tr>\n",
       "      <th>3</th>\n",
       "      <td>unknown</td>\n",
       "      <td>1000000.000000</td>\n",
       "      <td>1000000.00</td>\n",
       "      <td>bound</td>\n",
       "      <td>276.796958</td>\n",
       "      <td>148.583333</td>\n",
       "      <td>bound</td>\n",
       "      <td>34.620785</td>\n",
       "      <td>148.583333</td>\n",
       "    </tr>\n",
       "    <tr>\n",
       "      <th>4</th>\n",
       "      <td>unknown</td>\n",
       "      <td>1000000.000000</td>\n",
       "      <td>1000000.00</td>\n",
       "      <td>unknown</td>\n",
       "      <td>1000000.000000</td>\n",
       "      <td>1000000.000000</td>\n",
       "      <td>bound</td>\n",
       "      <td>184.136205</td>\n",
       "      <td>164.933333</td>\n",
       "    </tr>\n",
       "    <tr>\n",
       "      <th>5</th>\n",
       "      <td>bound</td>\n",
       "      <td>108.751770</td>\n",
       "      <td>19.95</td>\n",
       "      <td>bound</td>\n",
       "      <td>1.976584</td>\n",
       "      <td>19.950000</td>\n",
       "      <td>bound</td>\n",
       "      <td>0.788297</td>\n",
       "      <td>19.950000</td>\n",
       "    </tr>\n",
       "    <tr>\n",
       "      <th>6</th>\n",
       "      <td>solution</td>\n",
       "      <td>189.569013</td>\n",
       "      <td>14.00</td>\n",
       "      <td>solution</td>\n",
       "      <td>7.121993</td>\n",
       "      <td>14.000000</td>\n",
       "      <td>solution</td>\n",
       "      <td>1.714111</td>\n",
       "      <td>14.000000</td>\n",
       "    </tr>\n",
       "  </tbody>\n",
       "</table>\n",
       "</div>"
      ],
      "text/plain": [
       "     Status     (1) Runtime   Obj Value (2) Status         Runtime  \\\n",
       "0   unknown  1000000.000000  1000000.00      bound      208.054799   \n",
       "1   unknown  1000000.000000  1000000.00      bound      224.748339   \n",
       "2  solution      148.232316        7.00   solution        2.810152   \n",
       "3   unknown  1000000.000000  1000000.00      bound      276.796958   \n",
       "4   unknown  1000000.000000  1000000.00    unknown  1000000.000000   \n",
       "5     bound      108.751770       19.95      bound        1.976584   \n",
       "6  solution      189.569013       14.00   solution        7.121993   \n",
       "\n",
       "        Obj Value (3) Status     Runtime   Obj Value  \n",
       "0      143.766667      bound   20.426922  143.766667  \n",
       "1      157.016667      bound   18.270295  157.016667  \n",
       "2        7.000000   solution    1.015405    7.000000  \n",
       "3      148.583333      bound   34.620785  148.583333  \n",
       "4  1000000.000000      bound  184.136205  164.933333  \n",
       "5       19.950000      bound    0.788297   19.950000  \n",
       "6       14.000000   solution    1.714111   14.000000  "
      ]
     },
     "execution_count": 56,
     "metadata": {},
     "output_type": "execute_result"
    }
   ],
   "source": [
    "totals"
   ]
  },
  {
   "cell_type": "code",
   "execution_count": 57,
   "id": "1fd94a0b",
   "metadata": {},
   "outputs": [
    {
     "data": {
      "text/plain": [
       "5        108.751770\n",
       "2        148.232316\n",
       "6        189.569013\n",
       "0    1000000.000000\n",
       "1    1000000.000000\n",
       "3    1000000.000000\n",
       "4    1000000.000000\n",
       "Name: (1) Runtime, dtype: float64"
      ]
     },
     "execution_count": 57,
     "metadata": {},
     "output_type": "execute_result"
    }
   ],
   "source": [
    "totals[\"(1) Runtime\"].sort_values()\n"
   ]
  },
  {
   "cell_type": "code",
   "execution_count": 59,
   "id": "50ad7d67",
   "metadata": {},
   "outputs": [
    {
     "data": {
      "text/html": [
       "<div>\n",
       "<style scoped>\n",
       "    .dataframe tbody tr th:only-of-type {\n",
       "        vertical-align: middle;\n",
       "    }\n",
       "\n",
       "    .dataframe tbody tr th {\n",
       "        vertical-align: top;\n",
       "    }\n",
       "\n",
       "    .dataframe thead th {\n",
       "        text-align: right;\n",
       "    }\n",
       "</style>\n",
       "<table border=\"1\" class=\"dataframe\">\n",
       "  <thead>\n",
       "    <tr style=\"text-align: right;\">\n",
       "      <th></th>\n",
       "      <th>Status</th>\n",
       "      <th>Obj Value</th>\n",
       "      <th>(1) Runtime</th>\n",
       "      <th>(2) Runtime</th>\n",
       "      <th>(3) Runtime</th>\n",
       "    </tr>\n",
       "  </thead>\n",
       "  <tbody>\n",
       "    <tr>\n",
       "      <th>0</th>\n",
       "      <td>unknown</td>\n",
       "      <td>1000000.00</td>\n",
       "      <td>1000000.000000</td>\n",
       "      <td>208.054799</td>\n",
       "      <td>20.426922</td>\n",
       "    </tr>\n",
       "    <tr>\n",
       "      <th>1</th>\n",
       "      <td>unknown</td>\n",
       "      <td>1000000.00</td>\n",
       "      <td>1000000.000000</td>\n",
       "      <td>224.748339</td>\n",
       "      <td>18.270295</td>\n",
       "    </tr>\n",
       "    <tr>\n",
       "      <th>2</th>\n",
       "      <td>solution</td>\n",
       "      <td>7.00</td>\n",
       "      <td>148.232316</td>\n",
       "      <td>2.810152</td>\n",
       "      <td>1.015405</td>\n",
       "    </tr>\n",
       "    <tr>\n",
       "      <th>3</th>\n",
       "      <td>unknown</td>\n",
       "      <td>1000000.00</td>\n",
       "      <td>1000000.000000</td>\n",
       "      <td>276.796958</td>\n",
       "      <td>34.620785</td>\n",
       "    </tr>\n",
       "    <tr>\n",
       "      <th>4</th>\n",
       "      <td>unknown</td>\n",
       "      <td>1000000.00</td>\n",
       "      <td>1000000.000000</td>\n",
       "      <td>1000000.000000</td>\n",
       "      <td>184.136205</td>\n",
       "    </tr>\n",
       "    <tr>\n",
       "      <th>5</th>\n",
       "      <td>bound</td>\n",
       "      <td>19.95</td>\n",
       "      <td>108.751770</td>\n",
       "      <td>1.976584</td>\n",
       "      <td>0.788297</td>\n",
       "    </tr>\n",
       "    <tr>\n",
       "      <th>6</th>\n",
       "      <td>solution</td>\n",
       "      <td>14.00</td>\n",
       "      <td>189.569013</td>\n",
       "      <td>7.121993</td>\n",
       "      <td>1.714111</td>\n",
       "    </tr>\n",
       "  </tbody>\n",
       "</table>\n",
       "</div>"
      ],
      "text/plain": [
       "     Status   Obj Value     (1) Runtime     (2) Runtime  (3) Runtime\n",
       "0   unknown  1000000.00  1000000.000000      208.054799    20.426922\n",
       "1   unknown  1000000.00  1000000.000000      224.748339    18.270295\n",
       "2  solution        7.00      148.232316        2.810152     1.015405\n",
       "3   unknown  1000000.00  1000000.000000      276.796958    34.620785\n",
       "4   unknown  1000000.00  1000000.000000  1000000.000000   184.136205\n",
       "5     bound       19.95      108.751770        1.976584     0.788297\n",
       "6  solution       14.00      189.569013        7.121993     1.714111"
      ]
     },
     "execution_count": 59,
     "metadata": {},
     "output_type": "execute_result"
    }
   ],
   "source": [
    "df_batch_runtime = pd.DataFrame({\n",
    "    \"Status\": status_list[0],\n",
    "    \"Obj Value\": obj_list[0],\n",
    "    \"(1) Runtime\": runtime_list[0],\n",
    "    \"(2) Runtime\": runtime_list[1],\n",
    "    \"(3) Runtime\": runtime_list[2],\n",
    "    #\"(4) Runtime\": runtime_list[3],\n",
    "    #\"(5) Runtime\": runtime_list[4],\n",
    "})\n",
    "\n",
    "df_batch_runtime"
   ]
  },
  {
   "cell_type": "code",
   "execution_count": 60,
   "id": "5af5386b",
   "metadata": {},
   "outputs": [
    {
     "data": {
      "text/html": [
       "<div>\n",
       "<style scoped>\n",
       "    .dataframe tbody tr th:only-of-type {\n",
       "        vertical-align: middle;\n",
       "    }\n",
       "\n",
       "    .dataframe tbody tr th {\n",
       "        vertical-align: top;\n",
       "    }\n",
       "\n",
       "    .dataframe thead th {\n",
       "        text-align: right;\n",
       "    }\n",
       "</style>\n",
       "<table border=\"1\" class=\"dataframe\">\n",
       "  <thead>\n",
       "    <tr style=\"text-align: right;\">\n",
       "      <th></th>\n",
       "      <th>Obj Value</th>\n",
       "      <th>(1) Runtime</th>\n",
       "      <th>(2) Runtime</th>\n",
       "      <th>(3) Runtime</th>\n",
       "    </tr>\n",
       "  </thead>\n",
       "  <tbody>\n",
       "    <tr>\n",
       "      <th>count</th>\n",
       "      <td>7.000000</td>\n",
       "      <td>7.000000</td>\n",
       "      <td>7.000000</td>\n",
       "      <td>7.000000</td>\n",
       "    </tr>\n",
       "    <tr>\n",
       "      <th>mean</th>\n",
       "      <td>571434.421429</td>\n",
       "      <td>571492.364728</td>\n",
       "      <td>142960.215546</td>\n",
       "      <td>37.281717</td>\n",
       "    </tr>\n",
       "    <tr>\n",
       "      <th>std</th>\n",
       "      <td>534515.187606</td>\n",
       "      <td>534442.920110</td>\n",
       "      <td>377919.040685</td>\n",
       "      <td>65.993572</td>\n",
       "    </tr>\n",
       "    <tr>\n",
       "      <th>min</th>\n",
       "      <td>7.000000</td>\n",
       "      <td>108.751770</td>\n",
       "      <td>1.976584</td>\n",
       "      <td>0.788297</td>\n",
       "    </tr>\n",
       "    <tr>\n",
       "      <th>25%</th>\n",
       "      <td>16.975000</td>\n",
       "      <td>168.900664</td>\n",
       "      <td>4.966072</td>\n",
       "      <td>1.364758</td>\n",
       "    </tr>\n",
       "    <tr>\n",
       "      <th>50%</th>\n",
       "      <td>1000000.000000</td>\n",
       "      <td>1000000.000000</td>\n",
       "      <td>208.054799</td>\n",
       "      <td>18.270295</td>\n",
       "    </tr>\n",
       "    <tr>\n",
       "      <th>75%</th>\n",
       "      <td>1000000.000000</td>\n",
       "      <td>1000000.000000</td>\n",
       "      <td>250.772649</td>\n",
       "      <td>27.523854</td>\n",
       "    </tr>\n",
       "    <tr>\n",
       "      <th>max</th>\n",
       "      <td>1000000.000000</td>\n",
       "      <td>1000000.000000</td>\n",
       "      <td>1000000.000000</td>\n",
       "      <td>184.136205</td>\n",
       "    </tr>\n",
       "  </tbody>\n",
       "</table>\n",
       "</div>"
      ],
      "text/plain": [
       "            Obj Value     (1) Runtime     (2) Runtime  (3) Runtime\n",
       "count        7.000000        7.000000        7.000000     7.000000\n",
       "mean    571434.421429   571492.364728   142960.215546    37.281717\n",
       "std     534515.187606   534442.920110   377919.040685    65.993572\n",
       "min          7.000000      108.751770        1.976584     0.788297\n",
       "25%         16.975000      168.900664        4.966072     1.364758\n",
       "50%    1000000.000000  1000000.000000      208.054799    18.270295\n",
       "75%    1000000.000000  1000000.000000      250.772649    27.523854\n",
       "max    1000000.000000  1000000.000000  1000000.000000   184.136205"
      ]
     },
     "execution_count": 60,
     "metadata": {},
     "output_type": "execute_result"
    }
   ],
   "source": [
    "df_batch_runtime.describe()"
   ]
  },
  {
   "cell_type": "code",
   "execution_count": 61,
   "id": "77075962",
   "metadata": {},
   "outputs": [],
   "source": [
    "from sklearn.metrics import mean_absolute_error, mean_absolute_percentage_error, mean_squared_error\n"
   ]
  },
  {
   "cell_type": "code",
   "execution_count": 63,
   "id": "785a26db",
   "metadata": {},
   "outputs": [],
   "source": [
    "y_true = df_batch_1.drop([\"Status\", \"Obj Value\"], axis=1)\n",
    "\n",
    "y_predict_2 = df_batch_2.drop([\"(2) Status\", \"Obj Value\"], axis=1)\n",
    "y_predict_3 = df_batch_3.drop([\"(3) Status\", \"Obj Value\"], axis=1)\n",
    "#y_predict_4 = df_batch_4.drop([\"Status\", \"Obj Value\"], axis=1)\n",
    "#y_predict_5 = df_batch_5.drop([\"Status\", \"Obj Value\"], axis=1)\n"
   ]
  },
  {
   "cell_type": "code",
   "execution_count": 65,
   "id": "fac83f6d",
   "metadata": {},
   "outputs": [
    {
     "name": "stdout",
     "output_type": "stream",
     "text": [
      "428532.14918197907 571455.0830112526\n"
     ]
    }
   ],
   "source": [
    "err_2 = mean_absolute_error(y_true, y_predict_2)\n",
    "err_3 = mean_absolute_error(y_true, y_predict_3)\n",
    "#err_4 = mean_absolute_error(y_true, y_predict_4)\n",
    "#err_5 = mean_absolute_error(y_true, y_predict_5)\n",
    "\n",
    "print(err_2,err_3)#, err_4)#, err_5)"
   ]
  },
  {
   "cell_type": "code",
   "execution_count": null,
   "id": "d64269d9",
   "metadata": {},
   "outputs": [
    {
     "name": "stdout",
     "output_type": "stream",
     "text": [
      "0.6504966999040506 1.6184928821140472 1.3466813342628978\n"
     ]
    },
    {
     "data": {
      "text/plain": [
       "(None,)"
      ]
     },
     "execution_count": 170,
     "metadata": {},
     "output_type": "execute_result"
    }
   ],
   "source": [
    "p_err_2 = mean_absolute_percentage_error(y_true, y_predict_2)\n",
    "p_err_3 = mean_absolute_percentage_error(y_true, y_predict_3)\n",
    "p_err_4 = mean_absolute_percentage_error(y_true, y_predict_4)\n",
    "#p_err_5 = mean_absolute_percentage_error(y_true, y_predict_5)\n",
    "print(p_err_2,p_err_3, p_err_4), #p_err_5)"
   ]
  },
  {
   "cell_type": "code",
   "execution_count": null,
   "id": "6dc61cd5",
   "metadata": {},
   "outputs": [
    {
     "name": "stdout",
     "output_type": "stream",
     "text": [
      "414.2343723138065 455.4733891670184 818.4319911779045\n"
     ]
    }
   ],
   "source": [
    "p_err_2 = np.sqrt(mean_squared_error(y_true, y_predict_2))\n",
    "p_err_3 = np.sqrt(mean_squared_error(y_true, y_predict_3))\n",
    "p_err_4 = np.sqrt(mean_squared_error(y_true, y_predict_4))\n",
    "#p_err_5 = np.sqrt(mean_squared_error(y_true, y_predict_5))\n",
    "print(p_err_2,p_err_3, p_err_4)#, p_err_5)"
   ]
  },
  {
   "cell_type": "code",
   "execution_count": null,
   "id": "94bcfb80",
   "metadata": {},
   "outputs": [],
   "source": [
    "y_true = df_batch_1.drop(\"Status\", axis=1)\n",
    "\n",
    "y_predict_2 = df_batch_2.drop(\"(2) Status\", axis=1)\n",
    "y_predict_3 = df_batch_3.drop(\"(3) Status\", axis=1)\n",
    "y_predict_4 = df_batch_4.drop(\"Status\", axis=1)\n",
    "#y_predict_5 = df_batch_5.drop([\"Status\"], axis=1)\n"
   ]
  },
  {
   "cell_type": "code",
   "execution_count": null,
   "id": "4d3a50a0",
   "metadata": {},
   "outputs": [
    {
     "name": "stdout",
     "output_type": "stream",
     "text": [
      "83.05974999999982 86.33478571428714 201.7113571428594\n"
     ]
    }
   ],
   "source": [
    "err_2 = mean_absolute_error(y_true, y_predict_2)\n",
    "err_3 = mean_absolute_error(y_true, y_predict_3)\n",
    "err_4 = mean_absolute_error(y_true, y_predict_4)\n",
    "#err_5 = mean_absolute_error(y_true, y_predict_5)\n",
    "print(err_2,err_3, err_4)#, err_5)"
   ]
  },
  {
   "cell_type": "code",
   "execution_count": null,
   "id": "fc4e8752",
   "metadata": {},
   "outputs": [
    {
     "name": "stdout",
     "output_type": "stream",
     "text": [
      "0.3252483499520253 0.8092464410570236 0.6733406671314489\n"
     ]
    }
   ],
   "source": [
    "p_err_2 = mean_absolute_percentage_error(y_true, y_predict_2)\n",
    "p_err_3 = mean_absolute_percentage_error(y_true, y_predict_3)\n",
    "p_err_4 = mean_absolute_percentage_error(y_true, y_predict_4)\n",
    "#p_err_5 = mean_absolute_percentage_error(y_true, y_predict_5)\n",
    "\n",
    "print(p_err_2,p_err_3, p_err_4)#, p_err_5)"
   ]
  },
  {
   "cell_type": "code",
   "execution_count": null,
   "id": "b036b10e",
   "metadata": {},
   "outputs": [
    {
     "name": "stdout",
     "output_type": "stream",
     "text": [
      "292.9079336636456 322.0683221300181 578.7188109019049\n"
     ]
    }
   ],
   "source": [
    "p_err_2 = np.sqrt(mean_squared_error(y_true, y_predict_2))\n",
    "p_err_3 = np.sqrt(mean_squared_error(y_true, y_predict_3))\n",
    "p_err_4 = np.sqrt(mean_squared_error(y_true, y_predict_4))\n",
    "#p_err_5 = np.sqrt(mean_squared_error(y_true, y_predict_5))\n",
    "print(p_err_2,p_err_3, p_err_4)#, p_err_5)"
   ]
  }
 ],
 "metadata": {
  "kernelspec": {
   "display_name": "Python 3 (ipykernel)",
   "language": "python",
   "name": "python3"
  },
  "language_info": {
   "codemirror_mode": {
    "name": "ipython",
    "version": 3
   },
   "file_extension": ".py",
   "mimetype": "text/x-python",
   "name": "python",
   "nbconvert_exporter": "python",
   "pygments_lexer": "ipython3",
   "version": "3.8.10"
  },
  "vscode": {
   "interpreter": {
    "hash": "9b192910274a1c529aa82efb3891000b6bfb36ab9aac7f7933ae5d00944f2e3c"
   }
  }
 },
 "nbformat": 4,
 "nbformat_minor": 5
}
